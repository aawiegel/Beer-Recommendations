{
 "cells": [
  {
   "cell_type": "markdown",
   "metadata": {},
   "source": [
    "# Beer recommendations\n",
    "\n",
    "Develops both content-based and collaborative filtering recommendation systems from web-scraped BeerAdvocate data."
   ]
  },
  {
   "cell_type": "code",
   "execution_count": 72,
   "metadata": {},
   "outputs": [],
   "source": [
    "import numpy as np\n",
    "import pandas as pd\n",
    "import matplotlib.pyplot as plt\n",
    "import seaborn as sns\n",
    "import re\n",
    "from sklearn.metrics.pairwise import cosine_similarity\n",
    "from sklearn.feature_extraction.text import TfidfVectorizer, CountVectorizer\n",
    "from sklearn.decomposition import TruncatedSVD\n",
    "from gensim import corpora, models, similarities, matutils\n",
    "\n",
    "sns.set_style('whitegrid')\n",
    "\n",
    "%matplotlib inline"
   ]
  },
  {
   "cell_type": "code",
   "execution_count": 21,
   "metadata": {
    "collapsed": true
   },
   "outputs": [],
   "source": [
    "def get_topical_terms(topic_mat, topic_num, term_vec, num_terms=25):\n",
    "    return term_vec[np.argsort(-topic_mat[topic_num,:])][:num_terms]"
   ]
  },
  {
   "cell_type": "markdown",
   "metadata": {},
   "source": [
    "## Check topics with saison before using on larger dataset"
   ]
  },
  {
   "cell_type": "code",
   "execution_count": 67,
   "metadata": {
    "collapsed": true
   },
   "outputs": [],
   "source": [
    "saison_beer_df = pd.read_csv('saison_beer_info.csv')\n",
    "saison_user_df = pd.read_csv('saison_user_info.csv')\n",
    "saison_text_df = pd.read_csv('saison_text_info.csv')"
   ]
  },
  {
   "cell_type": "code",
   "execution_count": 45,
   "metadata": {},
   "outputs": [],
   "source": [
    "vectorizer = CountVectorizer(min_df=5, max_df=0.6, stop_words = 'english')\n",
    "count_mat = vectorizer.fit_transform(saison_text_df.text)"
   ]
  },
  {
   "cell_type": "code",
   "execution_count": 46,
   "metadata": {},
   "outputs": [
    {
     "data": {
      "text/html": [
       "<div>\n",
       "<style>\n",
       "    .dataframe thead tr:only-child th {\n",
       "        text-align: right;\n",
       "    }\n",
       "\n",
       "    .dataframe thead th {\n",
       "        text-align: left;\n",
       "    }\n",
       "\n",
       "    .dataframe tbody tr th {\n",
       "        vertical-align: top;\n",
       "    }\n",
       "</style>\n",
       "<table border=\"1\" class=\"dataframe\">\n",
       "  <thead>\n",
       "    <tr style=\"text-align: right;\">\n",
       "      <th></th>\n",
       "      <th>00</th>\n",
       "      <th>000</th>\n",
       "      <th>001</th>\n",
       "      <th>002</th>\n",
       "      <th>003</th>\n",
       "      <th>004</th>\n",
       "      <th>005</th>\n",
       "      <th>006</th>\n",
       "      <th>007</th>\n",
       "      <th>008</th>\n",
       "      <th>...</th>\n",
       "      <th>zesty</th>\n",
       "      <th>zinfandel</th>\n",
       "      <th>zing</th>\n",
       "      <th>zingy</th>\n",
       "      <th>zip</th>\n",
       "      <th>zippy</th>\n",
       "      <th>zone</th>\n",
       "      <th>zoo</th>\n",
       "      <th>zwanze</th>\n",
       "      <th>øl</th>\n",
       "    </tr>\n",
       "  </thead>\n",
       "  <tbody>\n",
       "    <tr>\n",
       "      <th>0</th>\n",
       "      <td>1</td>\n",
       "      <td>0</td>\n",
       "      <td>0</td>\n",
       "      <td>0</td>\n",
       "      <td>0</td>\n",
       "      <td>0</td>\n",
       "      <td>0</td>\n",
       "      <td>0</td>\n",
       "      <td>0</td>\n",
       "      <td>1</td>\n",
       "      <td>...</td>\n",
       "      <td>1</td>\n",
       "      <td>0</td>\n",
       "      <td>2</td>\n",
       "      <td>1</td>\n",
       "      <td>1</td>\n",
       "      <td>0</td>\n",
       "      <td>0</td>\n",
       "      <td>0</td>\n",
       "      <td>0</td>\n",
       "      <td>0</td>\n",
       "    </tr>\n",
       "    <tr>\n",
       "      <th>1</th>\n",
       "      <td>1</td>\n",
       "      <td>0</td>\n",
       "      <td>0</td>\n",
       "      <td>0</td>\n",
       "      <td>0</td>\n",
       "      <td>0</td>\n",
       "      <td>0</td>\n",
       "      <td>0</td>\n",
       "      <td>0</td>\n",
       "      <td>1</td>\n",
       "      <td>...</td>\n",
       "      <td>2</td>\n",
       "      <td>0</td>\n",
       "      <td>0</td>\n",
       "      <td>1</td>\n",
       "      <td>0</td>\n",
       "      <td>0</td>\n",
       "      <td>0</td>\n",
       "      <td>0</td>\n",
       "      <td>0</td>\n",
       "      <td>0</td>\n",
       "    </tr>\n",
       "    <tr>\n",
       "      <th>2</th>\n",
       "      <td>5</td>\n",
       "      <td>0</td>\n",
       "      <td>0</td>\n",
       "      <td>0</td>\n",
       "      <td>0</td>\n",
       "      <td>0</td>\n",
       "      <td>0</td>\n",
       "      <td>0</td>\n",
       "      <td>0</td>\n",
       "      <td>0</td>\n",
       "      <td>...</td>\n",
       "      <td>5</td>\n",
       "      <td>1</td>\n",
       "      <td>0</td>\n",
       "      <td>0</td>\n",
       "      <td>0</td>\n",
       "      <td>0</td>\n",
       "      <td>0</td>\n",
       "      <td>0</td>\n",
       "      <td>0</td>\n",
       "      <td>0</td>\n",
       "    </tr>\n",
       "    <tr>\n",
       "      <th>3</th>\n",
       "      <td>0</td>\n",
       "      <td>0</td>\n",
       "      <td>0</td>\n",
       "      <td>0</td>\n",
       "      <td>0</td>\n",
       "      <td>0</td>\n",
       "      <td>0</td>\n",
       "      <td>0</td>\n",
       "      <td>0</td>\n",
       "      <td>0</td>\n",
       "      <td>...</td>\n",
       "      <td>3</td>\n",
       "      <td>0</td>\n",
       "      <td>1</td>\n",
       "      <td>0</td>\n",
       "      <td>0</td>\n",
       "      <td>0</td>\n",
       "      <td>1</td>\n",
       "      <td>0</td>\n",
       "      <td>0</td>\n",
       "      <td>0</td>\n",
       "    </tr>\n",
       "    <tr>\n",
       "      <th>4</th>\n",
       "      <td>1</td>\n",
       "      <td>0</td>\n",
       "      <td>0</td>\n",
       "      <td>0</td>\n",
       "      <td>0</td>\n",
       "      <td>0</td>\n",
       "      <td>0</td>\n",
       "      <td>1</td>\n",
       "      <td>1</td>\n",
       "      <td>0</td>\n",
       "      <td>...</td>\n",
       "      <td>7</td>\n",
       "      <td>0</td>\n",
       "      <td>0</td>\n",
       "      <td>0</td>\n",
       "      <td>0</td>\n",
       "      <td>1</td>\n",
       "      <td>1</td>\n",
       "      <td>0</td>\n",
       "      <td>0</td>\n",
       "      <td>0</td>\n",
       "    </tr>\n",
       "    <tr>\n",
       "      <th>5</th>\n",
       "      <td>0</td>\n",
       "      <td>0</td>\n",
       "      <td>0</td>\n",
       "      <td>0</td>\n",
       "      <td>0</td>\n",
       "      <td>0</td>\n",
       "      <td>0</td>\n",
       "      <td>0</td>\n",
       "      <td>0</td>\n",
       "      <td>0</td>\n",
       "      <td>...</td>\n",
       "      <td>11</td>\n",
       "      <td>0</td>\n",
       "      <td>0</td>\n",
       "      <td>0</td>\n",
       "      <td>1</td>\n",
       "      <td>2</td>\n",
       "      <td>0</td>\n",
       "      <td>0</td>\n",
       "      <td>0</td>\n",
       "      <td>0</td>\n",
       "    </tr>\n",
       "    <tr>\n",
       "      <th>6</th>\n",
       "      <td>2</td>\n",
       "      <td>1</td>\n",
       "      <td>0</td>\n",
       "      <td>0</td>\n",
       "      <td>0</td>\n",
       "      <td>0</td>\n",
       "      <td>0</td>\n",
       "      <td>0</td>\n",
       "      <td>0</td>\n",
       "      <td>1</td>\n",
       "      <td>...</td>\n",
       "      <td>6</td>\n",
       "      <td>0</td>\n",
       "      <td>0</td>\n",
       "      <td>0</td>\n",
       "      <td>1</td>\n",
       "      <td>0</td>\n",
       "      <td>0</td>\n",
       "      <td>0</td>\n",
       "      <td>0</td>\n",
       "      <td>0</td>\n",
       "    </tr>\n",
       "    <tr>\n",
       "      <th>7</th>\n",
       "      <td>1</td>\n",
       "      <td>0</td>\n",
       "      <td>0</td>\n",
       "      <td>0</td>\n",
       "      <td>0</td>\n",
       "      <td>0</td>\n",
       "      <td>1</td>\n",
       "      <td>0</td>\n",
       "      <td>0</td>\n",
       "      <td>0</td>\n",
       "      <td>...</td>\n",
       "      <td>8</td>\n",
       "      <td>0</td>\n",
       "      <td>0</td>\n",
       "      <td>0</td>\n",
       "      <td>0</td>\n",
       "      <td>0</td>\n",
       "      <td>0</td>\n",
       "      <td>0</td>\n",
       "      <td>0</td>\n",
       "      <td>0</td>\n",
       "    </tr>\n",
       "    <tr>\n",
       "      <th>8</th>\n",
       "      <td>1</td>\n",
       "      <td>0</td>\n",
       "      <td>0</td>\n",
       "      <td>0</td>\n",
       "      <td>0</td>\n",
       "      <td>1</td>\n",
       "      <td>0</td>\n",
       "      <td>0</td>\n",
       "      <td>0</td>\n",
       "      <td>0</td>\n",
       "      <td>...</td>\n",
       "      <td>1</td>\n",
       "      <td>0</td>\n",
       "      <td>0</td>\n",
       "      <td>0</td>\n",
       "      <td>0</td>\n",
       "      <td>0</td>\n",
       "      <td>0</td>\n",
       "      <td>0</td>\n",
       "      <td>0</td>\n",
       "      <td>0</td>\n",
       "    </tr>\n",
       "    <tr>\n",
       "      <th>9</th>\n",
       "      <td>3</td>\n",
       "      <td>0</td>\n",
       "      <td>0</td>\n",
       "      <td>0</td>\n",
       "      <td>0</td>\n",
       "      <td>0</td>\n",
       "      <td>0</td>\n",
       "      <td>1</td>\n",
       "      <td>0</td>\n",
       "      <td>0</td>\n",
       "      <td>...</td>\n",
       "      <td>2</td>\n",
       "      <td>0</td>\n",
       "      <td>0</td>\n",
       "      <td>0</td>\n",
       "      <td>0</td>\n",
       "      <td>0</td>\n",
       "      <td>0</td>\n",
       "      <td>0</td>\n",
       "      <td>0</td>\n",
       "      <td>0</td>\n",
       "    </tr>\n",
       "  </tbody>\n",
       "</table>\n",
       "<p>10 rows × 15293 columns</p>\n",
       "</div>"
      ],
      "text/plain": [
       "   00  000  001  002  003  004  005  006  007  008 ...  zesty  zinfandel  \\\n",
       "0   1    0    0    0    0    0    0    0    0    1 ...      1          0   \n",
       "1   1    0    0    0    0    0    0    0    0    1 ...      2          0   \n",
       "2   5    0    0    0    0    0    0    0    0    0 ...      5          1   \n",
       "3   0    0    0    0    0    0    0    0    0    0 ...      3          0   \n",
       "4   1    0    0    0    0    0    0    1    1    0 ...      7          0   \n",
       "5   0    0    0    0    0    0    0    0    0    0 ...     11          0   \n",
       "6   2    1    0    0    0    0    0    0    0    1 ...      6          0   \n",
       "7   1    0    0    0    0    0    1    0    0    0 ...      8          0   \n",
       "8   1    0    0    0    0    1    0    0    0    0 ...      1          0   \n",
       "9   3    0    0    0    0    0    0    1    0    0 ...      2          0   \n",
       "\n",
       "   zing  zingy  zip  zippy  zone  zoo  zwanze  øl  \n",
       "0     2      1    1      0     0    0       0   0  \n",
       "1     0      1    0      0     0    0       0   0  \n",
       "2     0      0    0      0     0    0       0   0  \n",
       "3     1      0    0      0     1    0       0   0  \n",
       "4     0      0    0      1     1    0       0   0  \n",
       "5     0      0    1      2     0    0       0   0  \n",
       "6     0      0    1      0     0    0       0   0  \n",
       "7     0      0    0      0     0    0       0   0  \n",
       "8     0      0    0      0     0    0       0   0  \n",
       "9     0      0    0      0     0    0       0   0  \n",
       "\n",
       "[10 rows x 15293 columns]"
      ]
     },
     "execution_count": 46,
     "metadata": {},
     "output_type": "execute_result"
    }
   ],
   "source": [
    "pd.DataFrame(count_mat.toarray(),  columns=vectorizer.get_feature_names()).head(10)"
   ]
  },
  {
   "cell_type": "markdown",
   "metadata": {},
   "source": [
    "### Latent Semantic Analysis"
   ]
  },
  {
   "cell_type": "code",
   "execution_count": 47,
   "metadata": {},
   "outputs": [],
   "source": [
    "lsa = TruncatedSVD(50)\n",
    "reduced_mat = lsa.fit_transform(count_mat)"
   ]
  },
  {
   "cell_type": "code",
   "execution_count": 48,
   "metadata": {},
   "outputs": [
    {
     "data": {
      "image/png": "[encoded data removed]",
      "text/plain": [
       "<matplotlib.figure.Figure at 0x7f335b54d6a0>"
      ]
     },
     "metadata": {},
     "output_type": "display_data"
    }
   ],
   "source": [
    "fig, ax = plt.subplots()\n",
    "ax.plot(lsa.explained_variance_ratio_,'^')\n",
    "ax.set_ylabel(\"Explained variance\")\n",
    "ax.set_xlabel(\"Topic\");"
   ]
  },
  {
   "cell_type": "code",
   "execution_count": 43,
   "metadata": {
    "collapsed": true
   },
   "outputs": [],
   "source": [
    "terms = np.array(vectorizer.get_feature_names())"
   ]
  },
  {
   "cell_type": "code",
   "execution_count": 44,
   "metadata": {},
   "outputs": [
    {
     "name": "stdout",
     "output_type": "stream",
     "text": [
      "topic 0\n",
      "['hops' 'pepper' 'belgian' 'spicy' 'brett' 'sour' 'floral' 'earthy' 'wheat'\n",
      " 'funky' 'pale' 'hop' 'slight' 'bitterness' 'honey' 'apple' 'sweetness'\n",
      " 'mild' 'refreshing' 'straw' 'character' 'poured' 'herbal' 'spices'\n",
      " 'moderate' 'wine' 'touch' 'banana' 'finger' 'grassy' 'yeasty' 'peppery'\n",
      " 'lots' 'clove' 'bitter']\n",
      "topic 1\n",
      "['brett' 'oak' 'wine' 'sour' 'barrel' 'tartness' 'funky' 'peach' 'cherry'\n",
      " 'barrels' 'aged' '20164' 'acidity' '2016' 'red' 'grape' 'vinous' '20154'\n",
      " 'casey' 'chardonnay' 'wood' 'lactic' 'wild' 'sourness' 'acidic' '20174'\n",
      " 'grapes' 'apricot' 'oaky' 'batch' 'farmstead' 'hill' 'cherries' 'bretty'\n",
      " '2015']\n",
      "topic 2\n",
      "['dark' 'chocolate' 'brown' 'coffee' 'roasted' 'black' 'caramel' 'cherry'\n",
      " 'red' 'roast' 'tan' 'cherries' 'cocoa' 'fantome' 'amber' 'roasty' 'sour'\n",
      " 'interesting' 'stout' 'licorice' 'sugar' 'deep' 'plum' 'reddish' 'ruby'\n",
      " 'toffee' 'porter' 'fig' 'raisin' 'khaki' 'spices' 'malts' 'cola' 'unique'\n",
      " '20113']\n",
      "topic 3\n",
      "['placeholder' '2014' '2016' '2015' 'company' 'ca' 'tap' 'york' 'ny'\n",
      " 'california' '50' '00' 'brewery' 'casey' '20163' '20' '60' 'cherry'\n",
      " 'pennsylvania' '03' '20153' 'new' 'rye' 'coffee' '20164' 'round' '07' 'pa'\n",
      " '2013' 'caseybrewing' '06' '08' '2017' '04' 'carolina']\n",
      "topic 4\n",
      "['brett' 'coffee' 'hops' 'dark' 'chocolate' 'rye' 'tropical' 'roasted'\n",
      " 'hop' 'black' 'pineapple' 'funky' 'brown' 'roast' 'hoppy' 'bitter'\n",
      " 'brettanomyces' 'mango' '2014' 'transmitterbrewing' 'roasty' 'grapefruit'\n",
      " 'bitterness' 'cocoa' 'ipa' 'tan' 'transmitter' 'earthy' 'hopped' 'bretty'\n",
      " 'malts' 'galaxy' 'prairie' 'citra' 'stout']\n"
     ]
    }
   ],
   "source": [
    "for i in range(5):\n",
    "    print(\"topic {}\".format(i))\n",
    "    print(get_topical_terms(lsa.components_,i,terms, 35))"
   ]
  },
  {
   "cell_type": "markdown",
   "metadata": {},
   "source": [
    "First three topics look like they could be useful. Topic 0 looks like a typical saison, and Topic 1 looks like a barrel-aged sour saison. Topic 2 is especially interesting, because it probably refers to a relatively rare substyle of saison (dark saison).\n",
    "\n",
    "### Latent Dirichlet Allocation"
   ]
  },
  {
   "cell_type": "code",
   "execution_count": 50,
   "metadata": {
    "collapsed": true
   },
   "outputs": [],
   "source": [
    "count_mat_T = count_mat.transpose()\n",
    "corpus = matutils.Sparse2Corpus(count_mat_T)"
   ]
  },
  {
   "cell_type": "code",
   "execution_count": 51,
   "metadata": {
    "collapsed": true
   },
   "outputs": [],
   "source": [
    "id2word = dict((v, k) for k, v in vectorizer.vocabulary_.items())"
   ]
  },
  {
   "cell_type": "code",
   "execution_count": 52,
   "metadata": {
    "collapsed": true
   },
   "outputs": [],
   "source": [
    "lda = models.LdaModel(corpus=corpus, num_topics=6, id2word=id2word, passes=10)"
   ]
  },
  {
   "cell_type": "code",
   "execution_count": 53,
   "metadata": {},
   "outputs": [
    {
     "data": {
      "text/plain": [
       "[(0,\n",
       "  '0.018*\"dark\" + 0.010*\"brown\" + 0.007*\"black\" + 0.006*\"belgian\" + 0.006*\"caramel\" + 0.006*\"chocolate\" + 0.005*\"spicy\" + 0.005*\"malts\" + 0.004*\"interesting\" + 0.004*\"roasted\" + 0.004*\"amber\" + 0.004*\"earthy\" + 0.004*\"pepper\" + 0.004*\"hops\" + 0.004*\"sour\"'),\n",
       " (1,\n",
       "  '0.010*\"brett\" + 0.010*\"sour\" + 0.009*\"wine\" + 0.008*\"oak\" + 0.006*\"tartness\" + 0.006*\"funky\" + 0.004*\"peach\" + 0.004*\"floral\" + 0.004*\"barrel\" + 0.004*\"earthy\" + 0.004*\"mild\" + 0.004*\"slight\" + 0.004*\"character\" + 0.004*\"bright\" + 0.003*\"apple\"'),\n",
       " (2,\n",
       "  '0.008*\"belgian\" + 0.008*\"hops\" + 0.007*\"pepper\" + 0.007*\"spicy\" + 0.004*\"bitterness\" + 0.004*\"banana\" + 0.004*\"wheat\" + 0.004*\"pale\" + 0.004*\"sweetness\" + 0.004*\"refreshing\" + 0.004*\"clove\" + 0.004*\"slight\" + 0.004*\"spices\" + 0.004*\"finger\" + 0.004*\"yeasty\"'),\n",
       " (3,\n",
       "  '0.017*\"brett\" + 0.007*\"hops\" + 0.006*\"funky\" + 0.005*\"sour\" + 0.005*\"cucumber\" + 0.004*\"floral\" + 0.004*\"grapefruit\" + 0.004*\"bitterness\" + 0.004*\"pumpkin\" + 0.004*\"pepper\" + 0.004*\"poured\" + 0.004*\"refreshing\" + 0.004*\"retention\" + 0.004*\"lots\" + 0.004*\"big\"'),\n",
       " (4,\n",
       "  '0.007*\"hops\" + 0.006*\"pepper\" + 0.006*\"spicy\" + 0.005*\"wheat\" + 0.005*\"pale\" + 0.005*\"belgian\" + 0.005*\"straw\" + 0.005*\"floral\" + 0.005*\"hop\" + 0.005*\"earthy\" + 0.005*\"refreshing\" + 0.004*\"20153\" + 0.004*\"bitterness\" + 0.004*\"20154\" + 0.004*\"mild\"'),\n",
       " (5,\n",
       "  '0.005*\"sour\" + 0.005*\"spicy\" + 0.005*\"apple\" + 0.005*\"spices\" + 0.005*\"pepper\" + 0.004*\"hops\" + 0.004*\"herbal\" + 0.004*\"earthy\" + 0.004*\"floral\" + 0.004*\"sweetness\" + 0.004*\"poured\" + 0.004*\"belgian\" + 0.004*\"honey\" + 0.004*\"slight\" + 0.004*\"funky\"')]"
      ]
     },
     "execution_count": 53,
     "metadata": {},
     "output_type": "execute_result"
    }
   ],
   "source": [
    "lda.print_topics(num_words=15)"
   ]
  },
  {
   "cell_type": "markdown",
   "metadata": {},
   "source": [
    "Took a lot of CPU clock time to run (cost me $0.50 on AWS!) and didn't really produce better results than LSA."
   ]
  },
  {
   "cell_type": "markdown",
   "metadata": {},
   "source": [
    "### Add topics 0, 1, and 2 from LSA as features to saison beer"
   ]
  },
  {
   "cell_type": "code",
   "execution_count": 68,
   "metadata": {},
   "outputs": [],
   "source": [
    "saison_beer_df['topic_0'] = reduced_mat[:, 0]"
   ]
  },
  {
   "cell_type": "code",
   "execution_count": 69,
   "metadata": {},
   "outputs": [],
   "source": [
    "saison_beer_df['topic_1'] = reduced_mat[:, 1]"
   ]
  },
  {
   "cell_type": "code",
   "execution_count": 70,
   "metadata": {
    "collapsed": true
   },
   "outputs": [],
   "source": [
    "saison_beer_df['topic_2'] = reduced_mat[:, 2]"
   ]
  },
  {
   "cell_type": "code",
   "execution_count": 71,
   "metadata": {},
   "outputs": [
    {
     "data": {
      "text/html": [
       "<div>\n",
       "<style>\n",
       "    .dataframe thead tr:only-child th {\n",
       "        text-align: right;\n",
       "    }\n",
       "\n",
       "    .dataframe thead th {\n",
       "        text-align: left;\n",
       "    }\n",
       "\n",
       "    .dataframe tbody tr th {\n",
       "        vertical-align: top;\n",
       "    }\n",
       "</style>\n",
       "<table border=\"1\" class=\"dataframe\">\n",
       "  <thead>\n",
       "    <tr style=\"text-align: right;\">\n",
       "      <th></th>\n",
       "      <th>abv</th>\n",
       "      <th>avg_score</th>\n",
       "      <th>beer</th>\n",
       "      <th>beer_ba_id</th>\n",
       "      <th>brewery</th>\n",
       "      <th>brewery_ba_id</th>\n",
       "      <th>gots</th>\n",
       "      <th>perc_dev</th>\n",
       "      <th>ratings</th>\n",
       "      <th>reviews</th>\n",
       "      <th>style_ba_id</th>\n",
       "      <th>wants</th>\n",
       "      <th>topic_0</th>\n",
       "      <th>topic_1</th>\n",
       "      <th>topic_2</th>\n",
       "    </tr>\n",
       "  </thead>\n",
       "  <tbody>\n",
       "    <tr>\n",
       "      <th>0</th>\n",
       "      <td>7.7</td>\n",
       "      <td>4.17</td>\n",
       "      <td>Hennepin (Farmhouse Saison)</td>\n",
       "      <td>141</td>\n",
       "      <td>Brewery Ommegang</td>\n",
       "      <td>42</td>\n",
       "      <td>1,054</td>\n",
       "      <td>10.79%</td>\n",
       "      <td>6006</td>\n",
       "      <td>2176</td>\n",
       "      <td>129</td>\n",
       "      <td>360</td>\n",
       "      <td>212.016880</td>\n",
       "      <td>-39.530990</td>\n",
       "      <td>-19.251433</td>\n",
       "    </tr>\n",
       "    <tr>\n",
       "      <th>1</th>\n",
       "      <td>8.5</td>\n",
       "      <td>4.15</td>\n",
       "      <td>Tank 7 Farmhouse Ale</td>\n",
       "      <td>50570</td>\n",
       "      <td>Boulevard Brewing Co</td>\n",
       "      <td>423</td>\n",
       "      <td>1,634</td>\n",
       "      <td>10.36%</td>\n",
       "      <td>5154</td>\n",
       "      <td>1049</td>\n",
       "      <td>129</td>\n",
       "      <td>333</td>\n",
       "      <td>248.543979</td>\n",
       "      <td>-57.431339</td>\n",
       "      <td>-23.762868</td>\n",
       "    </tr>\n",
       "    <tr>\n",
       "      <th>2</th>\n",
       "      <td>6.5</td>\n",
       "      <td>4.10</td>\n",
       "      <td>Sofie</td>\n",
       "      <td>48824</td>\n",
       "      <td>Goose Island Beer Co</td>\n",
       "      <td>1146</td>\n",
       "      <td>1,164</td>\n",
       "      <td>10%</td>\n",
       "      <td>4479</td>\n",
       "      <td>1098</td>\n",
       "      <td>129</td>\n",
       "      <td>249</td>\n",
       "      <td>217.149246</td>\n",
       "      <td>11.935216</td>\n",
       "      <td>-39.347128</td>\n",
       "    </tr>\n",
       "    <tr>\n",
       "      <th>3</th>\n",
       "      <td>6.5</td>\n",
       "      <td>4.18</td>\n",
       "      <td>Saison Dupont</td>\n",
       "      <td>1717</td>\n",
       "      <td>Brasserie Dupont sprl</td>\n",
       "      <td>637</td>\n",
       "      <td>627</td>\n",
       "      <td>10.53%</td>\n",
       "      <td>4182</td>\n",
       "      <td>1617</td>\n",
       "      <td>129</td>\n",
       "      <td>286</td>\n",
       "      <td>233.161398</td>\n",
       "      <td>-47.930566</td>\n",
       "      <td>-25.817903</td>\n",
       "    </tr>\n",
       "    <tr>\n",
       "      <th>4</th>\n",
       "      <td>8.5</td>\n",
       "      <td>4.29</td>\n",
       "      <td>Saison</td>\n",
       "      <td>36333</td>\n",
       "      <td>Brett</td>\n",
       "      <td>423</td>\n",
       "      <td>873</td>\n",
       "      <td>10.02%</td>\n",
       "      <td>3239</td>\n",
       "      <td>768</td>\n",
       "      <td>129</td>\n",
       "      <td>673</td>\n",
       "      <td>341.267186</td>\n",
       "      <td>84.343018</td>\n",
       "      <td>-106.463368</td>\n",
       "    </tr>\n",
       "  </tbody>\n",
       "</table>\n",
       "</div>"
      ],
      "text/plain": [
       "   abv  avg_score                         beer  beer_ba_id  \\\n",
       "0  7.7       4.17  Hennepin (Farmhouse Saison)         141   \n",
       "1  8.5       4.15         Tank 7 Farmhouse Ale       50570   \n",
       "2  6.5       4.10                        Sofie       48824   \n",
       "3  6.5       4.18                Saison Dupont        1717   \n",
       "4  8.5       4.29                       Saison       36333   \n",
       "\n",
       "                 brewery  brewery_ba_id   gots perc_dev  ratings  reviews  \\\n",
       "0       Brewery Ommegang             42  1,054   10.79%     6006     2176   \n",
       "1   Boulevard Brewing Co            423  1,634   10.36%     5154     1049   \n",
       "2   Goose Island Beer Co           1146  1,164      10%     4479     1098   \n",
       "3  Brasserie Dupont sprl            637    627   10.53%     4182     1617   \n",
       "4                  Brett            423    873   10.02%     3239      768   \n",
       "\n",
       "   style_ba_id wants     topic_0    topic_1     topic_2  \n",
       "0          129   360  212.016880 -39.530990  -19.251433  \n",
       "1          129   333  248.543979 -57.431339  -23.762868  \n",
       "2          129   249  217.149246  11.935216  -39.347128  \n",
       "3          129   286  233.161398 -47.930566  -25.817903  \n",
       "4          129   673  341.267186  84.343018 -106.463368  "
      ]
     },
     "execution_count": 71,
     "metadata": {},
     "output_type": "execute_result"
    }
   ],
   "source": [
    "saison_beer_df.head()"
   ]
  },
  {
   "cell_type": "code",
   "execution_count": 75,
   "metadata": {},
   "outputs": [],
   "source": [
    "saison_beer_df['perc_dev'] = saison_beer_df.perc_dev.map(lambda x: float(re.sub('%', '', x)))"
   ]
  },
  {
   "cell_type": "code",
   "execution_count": 77,
   "metadata": {},
   "outputs": [],
   "source": [
    "saison_beer_df['wants'] = saison_beer_df.wants.map(lambda x: int(re.sub(',', '', x)))"
   ]
  },
  {
   "cell_type": "code",
   "execution_count": 78,
   "metadata": {
    "collapsed": true
   },
   "outputs": [],
   "source": [
    "saison_beer_df['gots'] = saison_beer_df.gots.map(lambda x: int(re.sub(',', '', x)))"
   ]
  },
  {
   "cell_type": "code",
   "execution_count": 81,
   "metadata": {},
   "outputs": [
    {
     "name": "stdout",
     "output_type": "stream",
     "text": [
      "<class 'pandas.core.frame.DataFrame'>\n",
      "RangeIndex: 1759 entries, 0 to 1758\n",
      "Data columns (total 15 columns):\n",
      "abv              1759 non-null float64\n",
      "avg_score        1759 non-null float64\n",
      "beer             1759 non-null object\n",
      "beer_ba_id       1759 non-null int64\n",
      "brewery          1759 non-null object\n",
      "brewery_ba_id    1759 non-null int64\n",
      "gots             1759 non-null int64\n",
      "perc_dev         1759 non-null float64\n",
      "ratings          1759 non-null int64\n",
      "reviews          1759 non-null int64\n",
      "style_ba_id      1759 non-null int64\n",
      "wants            1759 non-null int64\n",
      "topic_0          1759 non-null float64\n",
      "topic_1          1759 non-null float64\n",
      "topic_2          1759 non-null float64\n",
      "dtypes: float64(6), int64(7), object(2)\n",
      "memory usage: 206.2+ KB\n"
     ]
    }
   ],
   "source": [
    "saison_beer_df.info()"
   ]
  },
  {
   "cell_type": "code",
   "execution_count": 83,
   "metadata": {},
   "outputs": [
    {
     "name": "stdout",
     "output_type": "stream",
     "text": [
      "<class 'pandas.core.frame.DataFrame'>\n",
      "RangeIndex: 205264 entries, 0 to 205263\n",
      "Data columns (total 7 columns):\n",
      "beer_ba_id    205264 non-null int64\n",
      "feel          112807 non-null float64\n",
      "look          112807 non-null float64\n",
      "score         205264 non-null float64\n",
      "smell         112807 non-null float64\n",
      "taste         112807 non-null float64\n",
      "user_id       205210 non-null float64\n",
      "dtypes: float64(6), int64(1)\n",
      "memory usage: 11.0 MB\n"
     ]
    }
   ],
   "source": [
    "saison_user_df.info()"
   ]
  },
  {
   "cell_type": "code",
   "execution_count": 84,
   "metadata": {
    "collapsed": true
   },
   "outputs": [],
   "source": [
    "combined_df = saison_beer_df.merge(saison_user_df, how='outer', on='beer_ba_id')"
   ]
  },
  {
   "cell_type": "code",
   "execution_count": 121,
   "metadata": {},
   "outputs": [
    {
     "name": "stdout",
     "output_type": "stream",
     "text": [
      "<class 'pandas.core.frame.DataFrame'>\n",
      "Int64Index: 205264 entries, 0 to 205263\n",
      "Data columns (total 21 columns):\n",
      "abv              205264 non-null float64\n",
      "avg_score        205264 non-null float64\n",
      "beer             205264 non-null object\n",
      "beer_ba_id       205264 non-null int64\n",
      "brewery          205264 non-null object\n",
      "brewery_ba_id    205264 non-null int64\n",
      "gots             205264 non-null int64\n",
      "perc_dev         205264 non-null float64\n",
      "ratings          205264 non-null int64\n",
      "reviews          205264 non-null int64\n",
      "style_ba_id      205264 non-null int64\n",
      "wants            205264 non-null int64\n",
      "topic_0          205264 non-null float64\n",
      "topic_1          205264 non-null float64\n",
      "topic_2          205264 non-null float64\n",
      "feel             112807 non-null float64\n",
      "look             112807 non-null float64\n",
      "score            205264 non-null float64\n",
      "smell            112807 non-null float64\n",
      "taste            112807 non-null float64\n",
      "user_id          205210 non-null float64\n",
      "dtypes: float64(12), int64(7), object(2)\n",
      "memory usage: 34.5+ MB\n"
     ]
    }
   ],
   "source": [
    "combined_df.info()"
   ]
  },
  {
   "cell_type": "code",
   "execution_count": 111,
   "metadata": {
    "collapsed": true
   },
   "outputs": [],
   "source": [
    "df_combined_wide = pd.pivot_table(combined_df, values=[\"score\"],\n",
    "        index=[\"beer_ba_id\", \"user_id\"],\n",
    "        aggfunc=np.mean).unstack()"
   ]
  },
  {
   "cell_type": "code",
   "execution_count": 112,
   "metadata": {},
   "outputs": [
    {
     "data": {
      "text/html": [
       "<div>\n",
       "<style>\n",
       "    .dataframe thead tr:only-child th {\n",
       "        text-align: right;\n",
       "    }\n",
       "\n",
       "    .dataframe thead th {\n",
       "        text-align: left;\n",
       "    }\n",
       "\n",
       "    .dataframe tbody tr th {\n",
       "        vertical-align: top;\n",
       "    }\n",
       "</style>\n",
       "<table border=\"1\" class=\"dataframe\">\n",
       "  <thead>\n",
       "    <tr>\n",
       "      <th></th>\n",
       "      <th colspan=\"21\" halign=\"left\">score</th>\n",
       "    </tr>\n",
       "    <tr>\n",
       "      <th>user_id</th>\n",
       "      <th>1.0</th>\n",
       "      <th>2.0</th>\n",
       "      <th>3.0</th>\n",
       "      <th>16.0</th>\n",
       "      <th>19.0</th>\n",
       "      <th>22.0</th>\n",
       "      <th>29.0</th>\n",
       "      <th>30.0</th>\n",
       "      <th>31.0</th>\n",
       "      <th>32.0</th>\n",
       "      <th>...</th>\n",
       "      <th>1204907.0</th>\n",
       "      <th>1205051.0</th>\n",
       "      <th>1205290.0</th>\n",
       "      <th>1205437.0</th>\n",
       "      <th>1205627.0</th>\n",
       "      <th>1205725.0</th>\n",
       "      <th>1205994.0</th>\n",
       "      <th>1206027.0</th>\n",
       "      <th>1206149.0</th>\n",
       "      <th>1206207.0</th>\n",
       "    </tr>\n",
       "    <tr>\n",
       "      <th>beer_ba_id</th>\n",
       "      <th></th>\n",
       "      <th></th>\n",
       "      <th></th>\n",
       "      <th></th>\n",
       "      <th></th>\n",
       "      <th></th>\n",
       "      <th></th>\n",
       "      <th></th>\n",
       "      <th></th>\n",
       "      <th></th>\n",
       "      <th></th>\n",
       "      <th></th>\n",
       "      <th></th>\n",
       "      <th></th>\n",
       "      <th></th>\n",
       "      <th></th>\n",
       "      <th></th>\n",
       "      <th></th>\n",
       "      <th></th>\n",
       "      <th></th>\n",
       "      <th></th>\n",
       "    </tr>\n",
       "  </thead>\n",
       "  <tbody>\n",
       "    <tr>\n",
       "      <th>141</th>\n",
       "      <td>4.30</td>\n",
       "      <td>NaN</td>\n",
       "      <td>4.25</td>\n",
       "      <td>4.20</td>\n",
       "      <td>NaN</td>\n",
       "      <td>4.29</td>\n",
       "      <td>NaN</td>\n",
       "      <td>4.84</td>\n",
       "      <td>4.76</td>\n",
       "      <td>4.77</td>\n",
       "      <td>...</td>\n",
       "      <td>NaN</td>\n",
       "      <td>NaN</td>\n",
       "      <td>NaN</td>\n",
       "      <td>NaN</td>\n",
       "      <td>NaN</td>\n",
       "      <td>NaN</td>\n",
       "      <td>NaN</td>\n",
       "      <td>4.06</td>\n",
       "      <td>NaN</td>\n",
       "      <td>NaN</td>\n",
       "    </tr>\n",
       "    <tr>\n",
       "      <th>1510</th>\n",
       "      <td>NaN</td>\n",
       "      <td>NaN</td>\n",
       "      <td>3.63</td>\n",
       "      <td>3.83</td>\n",
       "      <td>NaN</td>\n",
       "      <td>NaN</td>\n",
       "      <td>3.65</td>\n",
       "      <td>NaN</td>\n",
       "      <td>NaN</td>\n",
       "      <td>NaN</td>\n",
       "      <td>...</td>\n",
       "      <td>NaN</td>\n",
       "      <td>NaN</td>\n",
       "      <td>NaN</td>\n",
       "      <td>NaN</td>\n",
       "      <td>NaN</td>\n",
       "      <td>NaN</td>\n",
       "      <td>NaN</td>\n",
       "      <td>NaN</td>\n",
       "      <td>NaN</td>\n",
       "      <td>NaN</td>\n",
       "    </tr>\n",
       "    <tr>\n",
       "      <th>1715</th>\n",
       "      <td>4.00</td>\n",
       "      <td>NaN</td>\n",
       "      <td>NaN</td>\n",
       "      <td>NaN</td>\n",
       "      <td>NaN</td>\n",
       "      <td>NaN</td>\n",
       "      <td>NaN</td>\n",
       "      <td>NaN</td>\n",
       "      <td>NaN</td>\n",
       "      <td>NaN</td>\n",
       "      <td>...</td>\n",
       "      <td>NaN</td>\n",
       "      <td>NaN</td>\n",
       "      <td>NaN</td>\n",
       "      <td>NaN</td>\n",
       "      <td>NaN</td>\n",
       "      <td>NaN</td>\n",
       "      <td>NaN</td>\n",
       "      <td>NaN</td>\n",
       "      <td>NaN</td>\n",
       "      <td>NaN</td>\n",
       "    </tr>\n",
       "    <tr>\n",
       "      <th>1716</th>\n",
       "      <td>3.57</td>\n",
       "      <td>4.0</td>\n",
       "      <td>3.60</td>\n",
       "      <td>NaN</td>\n",
       "      <td>NaN</td>\n",
       "      <td>4.35</td>\n",
       "      <td>NaN</td>\n",
       "      <td>NaN</td>\n",
       "      <td>NaN</td>\n",
       "      <td>NaN</td>\n",
       "      <td>...</td>\n",
       "      <td>NaN</td>\n",
       "      <td>NaN</td>\n",
       "      <td>NaN</td>\n",
       "      <td>NaN</td>\n",
       "      <td>NaN</td>\n",
       "      <td>NaN</td>\n",
       "      <td>NaN</td>\n",
       "      <td>NaN</td>\n",
       "      <td>NaN</td>\n",
       "      <td>NaN</td>\n",
       "    </tr>\n",
       "    <tr>\n",
       "      <th>1717</th>\n",
       "      <td>NaN</td>\n",
       "      <td>NaN</td>\n",
       "      <td>4.18</td>\n",
       "      <td>4.08</td>\n",
       "      <td>NaN</td>\n",
       "      <td>4.48</td>\n",
       "      <td>NaN</td>\n",
       "      <td>NaN</td>\n",
       "      <td>NaN</td>\n",
       "      <td>4.72</td>\n",
       "      <td>...</td>\n",
       "      <td>NaN</td>\n",
       "      <td>NaN</td>\n",
       "      <td>NaN</td>\n",
       "      <td>NaN</td>\n",
       "      <td>NaN</td>\n",
       "      <td>NaN</td>\n",
       "      <td>NaN</td>\n",
       "      <td>NaN</td>\n",
       "      <td>NaN</td>\n",
       "      <td>NaN</td>\n",
       "    </tr>\n",
       "  </tbody>\n",
       "</table>\n",
       "<p>5 rows × 27167 columns</p>\n",
       "</div>"
      ],
      "text/plain": [
       "               score                                                    \\\n",
       "user_id    1.0       2.0       3.0       16.0      19.0      22.0        \n",
       "beer_ba_id                                                               \n",
       "141             4.30       NaN      4.25      4.20       NaN      4.29   \n",
       "1510             NaN       NaN      3.63      3.83       NaN       NaN   \n",
       "1715            4.00       NaN       NaN       NaN       NaN       NaN   \n",
       "1716            3.57       4.0      3.60       NaN       NaN      4.35   \n",
       "1717             NaN       NaN      4.18      4.08       NaN      4.48   \n",
       "\n",
       "                                                      ...               \\\n",
       "user_id    29.0      30.0      31.0      32.0         ...    1204907.0   \n",
       "beer_ba_id                                            ...                \n",
       "141              NaN      4.84      4.76      4.77    ...          NaN   \n",
       "1510            3.65       NaN       NaN       NaN    ...          NaN   \n",
       "1715             NaN       NaN       NaN       NaN    ...          NaN   \n",
       "1716             NaN       NaN       NaN       NaN    ...          NaN   \n",
       "1717             NaN       NaN       NaN      4.72    ...          NaN   \n",
       "\n",
       "                                                                        \\\n",
       "user_id    1205051.0 1205290.0 1205437.0 1205627.0 1205725.0 1205994.0   \n",
       "beer_ba_id                                                               \n",
       "141              NaN       NaN       NaN       NaN       NaN       NaN   \n",
       "1510             NaN       NaN       NaN       NaN       NaN       NaN   \n",
       "1715             NaN       NaN       NaN       NaN       NaN       NaN   \n",
       "1716             NaN       NaN       NaN       NaN       NaN       NaN   \n",
       "1717             NaN       NaN       NaN       NaN       NaN       NaN   \n",
       "\n",
       "                                          \n",
       "user_id    1206027.0 1206149.0 1206207.0  \n",
       "beer_ba_id                                \n",
       "141             4.06       NaN       NaN  \n",
       "1510             NaN       NaN       NaN  \n",
       "1715             NaN       NaN       NaN  \n",
       "1716             NaN       NaN       NaN  \n",
       "1717             NaN       NaN       NaN  \n",
       "\n",
       "[5 rows x 27167 columns]"
      ]
     },
     "execution_count": 112,
     "metadata": {},
     "output_type": "execute_result"
    }
   ],
   "source": [
    "df_combined_wide.head()"
   ]
  },
  {
   "cell_type": "code",
   "execution_count": 113,
   "metadata": {},
   "outputs": [
    {
     "data": {
      "text/plain": [
       "(1759, 27167)"
      ]
     },
     "execution_count": 113,
     "metadata": {},
     "output_type": "execute_result"
    }
   ],
   "source": [
    "df_combined_wide.shape"
   ]
  },
  {
   "cell_type": "code",
   "execution_count": 114,
   "metadata": {},
   "outputs": [
    {
     "data": {
      "text/plain": [
       "27168"
      ]
     },
     "execution_count": 114,
     "metadata": {},
     "output_type": "execute_result"
    }
   ],
   "source": [
    "len(saison_user_df.user_id.unique())"
   ]
  },
  {
   "cell_type": "code",
   "execution_count": 115,
   "metadata": {
    "collapsed": true
   },
   "outputs": [],
   "source": [
    "df_combined_wide.fillna(0, inplace=True)"
   ]
  },
  {
   "cell_type": "code",
   "execution_count": 116,
   "metadata": {},
   "outputs": [],
   "source": [
    "dists = cosine_similarity(df_combined_wide)"
   ]
  },
  {
   "cell_type": "code",
   "execution_count": 117,
   "metadata": {},
   "outputs": [
    {
     "data": {
      "text/plain": [
       "array([[ 1.        ,  0.16608224,  0.15765772,  0.29461899,  0.44401834],\n",
       "       [ 0.16608224,  1.        ,  0.08542507,  0.14719215,  0.1503644 ],\n",
       "       [ 0.15765772,  0.08542507,  1.        ,  0.26787396,  0.2016092 ],\n",
       "       [ 0.29461899,  0.14719215,  0.26787396,  1.        ,  0.37290029],\n",
       "       [ 0.44401834,  0.1503644 ,  0.2016092 ,  0.37290029,  1.        ]])"
      ]
     },
     "execution_count": 117,
     "metadata": {},
     "output_type": "execute_result"
    }
   ],
   "source": [
    "dists[:5, :5]"
   ]
  },
  {
   "cell_type": "code",
   "execution_count": 119,
   "metadata": {
    "collapsed": true
   },
   "outputs": [],
   "source": [
    "dists_df = pd.DataFrame(dists, columns=df_combined_wide.index)\n",
    "dists_df.index = dists_df.columns"
   ]
  },
  {
   "cell_type": "code",
   "execution_count": 120,
   "metadata": {},
   "outputs": [
    {
     "data": {
      "text/html": [
       "<div>\n",
       "<style>\n",
       "    .dataframe thead tr:only-child th {\n",
       "        text-align: right;\n",
       "    }\n",
       "\n",
       "    .dataframe thead th {\n",
       "        text-align: left;\n",
       "    }\n",
       "\n",
       "    .dataframe tbody tr th {\n",
       "        vertical-align: top;\n",
       "    }\n",
       "</style>\n",
       "<table border=\"1\" class=\"dataframe\">\n",
       "  <thead>\n",
       "    <tr style=\"text-align: right;\">\n",
       "      <th>beer_ba_id</th>\n",
       "      <th>141</th>\n",
       "      <th>1510</th>\n",
       "      <th>1715</th>\n",
       "      <th>1716</th>\n",
       "      <th>1717</th>\n",
       "    </tr>\n",
       "    <tr>\n",
       "      <th>beer_ba_id</th>\n",
       "      <th></th>\n",
       "      <th></th>\n",
       "      <th></th>\n",
       "      <th></th>\n",
       "      <th></th>\n",
       "    </tr>\n",
       "  </thead>\n",
       "  <tbody>\n",
       "    <tr>\n",
       "      <th>141</th>\n",
       "      <td>1.000000</td>\n",
       "      <td>0.166082</td>\n",
       "      <td>0.157658</td>\n",
       "      <td>0.294619</td>\n",
       "      <td>0.444018</td>\n",
       "    </tr>\n",
       "    <tr>\n",
       "      <th>1510</th>\n",
       "      <td>0.166082</td>\n",
       "      <td>1.000000</td>\n",
       "      <td>0.085425</td>\n",
       "      <td>0.147192</td>\n",
       "      <td>0.150364</td>\n",
       "    </tr>\n",
       "    <tr>\n",
       "      <th>1715</th>\n",
       "      <td>0.157658</td>\n",
       "      <td>0.085425</td>\n",
       "      <td>1.000000</td>\n",
       "      <td>0.267874</td>\n",
       "      <td>0.201609</td>\n",
       "    </tr>\n",
       "    <tr>\n",
       "      <th>1716</th>\n",
       "      <td>0.294619</td>\n",
       "      <td>0.147192</td>\n",
       "      <td>0.267874</td>\n",
       "      <td>1.000000</td>\n",
       "      <td>0.372900</td>\n",
       "    </tr>\n",
       "    <tr>\n",
       "      <th>1717</th>\n",
       "      <td>0.444018</td>\n",
       "      <td>0.150364</td>\n",
       "      <td>0.201609</td>\n",
       "      <td>0.372900</td>\n",
       "      <td>1.000000</td>\n",
       "    </tr>\n",
       "  </tbody>\n",
       "</table>\n",
       "</div>"
      ],
      "text/plain": [
       "beer_ba_id      141       1510      1715      1716      1717\n",
       "beer_ba_id                                                  \n",
       "141         1.000000  0.166082  0.157658  0.294619  0.444018\n",
       "1510        0.166082  1.000000  0.085425  0.147192  0.150364\n",
       "1715        0.157658  0.085425  1.000000  0.267874  0.201609\n",
       "1716        0.294619  0.147192  0.267874  1.000000  0.372900\n",
       "1717        0.444018  0.150364  0.201609  0.372900  1.000000"
      ]
     },
     "execution_count": 120,
     "metadata": {},
     "output_type": "execute_result"
    }
   ],
   "source": [
    "dists_df.iloc[:5, :5]"
   ]
  },
  {
   "cell_type": "code",
   "execution_count": 122,
   "metadata": {
    "collapsed": true
   },
   "outputs": [],
   "source": [
    "beer_dict = dict(zip(list(saison_beer_df.beer_ba_id.values), list(saison_beer_df.beer.values)))"
   ]
  },
  {
   "cell_type": "code",
   "execution_count": 126,
   "metadata": {},
   "outputs": [
    {
     "data": {
      "text/plain": [
       "'Saison Dupont'"
      ]
     },
     "execution_count": 126,
     "metadata": {},
     "output_type": "execute_result"
    }
   ],
   "source": [
    "beer_dict[1717]"
   ]
  },
  {
   "cell_type": "code",
   "execution_count": 131,
   "metadata": {
    "collapsed": true
   },
   "outputs": [],
   "source": [
    "beer_id_dict = dict(zip(list(saison_beer_df.beer.values), list(saison_beer_df.beer_ba_id.values)))"
   ]
  },
  {
   "cell_type": "code",
   "execution_count": 140,
   "metadata": {
    "collapsed": true
   },
   "outputs": [],
   "source": [
    "def get_similar(beers, n=None):\n",
    "    \"\"\"\n",
    "    Finds which beers are most similar to the beers provided.\n",
    "    \n",
    "    Parameters\n",
    "    ----------\n",
    "    beers: list\n",
    "    \n",
    "    Returns\n",
    "    -------\n",
    "    ranked_beers: list\n",
    "        rank ordered beers\n",
    "    \"\"\"\n",
    "    \n",
    "    beers = [beer_id_dict[beer] for beer in beers if beer_id_dict[beer] in dists_df.columns]\n",
    "    beers_summed = dists_df[beers].apply(lambda row: np.sum(row), axis=1)\n",
    "    beers_summed = beers_summed.sort_values(ascending=False)\n",
    "    ranked_beers = beers_summed.index[beers_summed.index.isin(beers)==False]\n",
    "    ranked_beer_ids = ranked_beers.tolist()\n",
    "    ranked_beers = [beer_dict[beer_id] for beer_id in ranked_beer_ids]\n",
    "    if n is None:\n",
    "        return ranked_beers\n",
    "    else:\n",
    "        return ranked_beers[:n]"
   ]
  },
  {
   "cell_type": "code",
   "execution_count": 141,
   "metadata": {},
   "outputs": [
    {
     "data": {
      "text/plain": [
       "['Hennepin (Farmhouse Saison)',\n",
       " 'Sofie',\n",
       " 'Avec Les Bons Voeux',\n",
       " 'Fantôme Saison',\n",
       " 'Tank 7 Farmhouse Ale']"
      ]
     },
     "execution_count": 141,
     "metadata": {},
     "output_type": "execute_result"
    }
   ],
   "source": [
    "get_similar(['Saison Dupont'], n=5)"
   ]
  },
  {
   "cell_type": "code",
   "execution_count": null,
   "metadata": {},
   "outputs": [],
   "source": []
  },
  {
   "cell_type": "code",
   "execution_count": null,
   "metadata": {
    "collapsed": true
   },
   "outputs": [],
   "source": []
  }
 ],
 "metadata": {
  "kernelspec": {
   "display_name": "Python 3",
   "language": "python",
   "name": "python3"
  },
  "language_info": {
   "codemirror_mode": {
    "name": "ipython",
    "version": 3
   },
   "file_extension": ".py",
   "mimetype": "text/x-python",
   "name": "python",
   "nbconvert_exporter": "python",
   "pygments_lexer": "ipython3",
   "version": "3.6.2"
  }
 },
 "nbformat": 4,
 "nbformat_minor": 2
}
