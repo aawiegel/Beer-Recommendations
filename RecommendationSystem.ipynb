{
 "cells": [
  {
   "cell_type": "markdown",
   "metadata": {},
   "source": [
    "# Beer recommendations\n",
    "\n",
    "Develops both content-based and collaborative filtering recommendation systems from web-scraped BeerAdvocate data."
   ]
  },
  {
   "cell_type": "code",
   "execution_count": 19,
   "metadata": {},
   "outputs": [],
   "source": [
    "import numpy as np\n",
    "import pandas as pd\n",
    "import matplotlib.pyplot as plt\n",
    "import seaborn as sns\n",
    "import re\n",
    "from sklearn.metrics.pairwise import cosine_similarity\n",
    "from sklearn.feature_extraction.text import TfidfVectorizer, CountVectorizer\n",
    "from sklearn.decomposition import TruncatedSVD, NMF\n",
    "from gensim import corpora, models, similarities, matutils\n",
    "from sklearn.base import BaseEstimator, TransformerMixin\n",
    "from sklearn import pipeline\n",
    "import pickle\n",
    "\n",
    "\n",
    "\n",
    "sns.set_style('whitegrid')\n",
    "\n",
    "%matplotlib inline"
   ]
  },
  {
   "cell_type": "code",
   "execution_count": 2,
   "metadata": {
    "collapsed": true
   },
   "outputs": [],
   "source": [
    "def get_topical_terms(topic_mat, topic_num, term_vec, num_terms=25):\n",
    "    return term_vec[np.argsort(-topic_mat[topic_num,:])][:num_terms]"
   ]
  },
  {
   "cell_type": "markdown",
   "metadata": {},
   "source": [
    "\n",
    "    "
   ]
  },
  {
   "cell_type": "code",
   "execution_count": null,
   "metadata": {
    "collapsed": true
   },
   "outputs": [],
   "source": []
  },
  {
   "cell_type": "markdown",
   "metadata": {},
   "source": [
    "## Check topics with saison before using on larger dataset"
   ]
  },
  {
   "cell_type": "code",
   "execution_count": 3,
   "metadata": {
    "collapsed": true
   },
   "outputs": [],
   "source": [
    "saison_beer_df = pd.read_csv('saison_beer_info.csv')\n",
    "saison_user_df = pd.read_csv('saison_user_info.csv')\n",
    "saison_text_df = pd.read_csv('saison_text_info.csv')"
   ]
  },
  {
   "cell_type": "code",
   "execution_count": null,
   "metadata": {
    "collapsed": true
   },
   "outputs": [],
   "source": []
  },
  {
   "cell_type": "code",
   "execution_count": 47,
   "metadata": {},
   "outputs": [
    {
     "data": {
      "text/html": [
       "<div>\n",
       "<style>\n",
       "    .dataframe thead tr:only-child th {\n",
       "        text-align: right;\n",
       "    }\n",
       "\n",
       "    .dataframe thead th {\n",
       "        text-align: left;\n",
       "    }\n",
       "\n",
       "    .dataframe tbody tr th {\n",
       "        vertical-align: top;\n",
       "    }\n",
       "</style>\n",
       "<table border=\"1\" class=\"dataframe\">\n",
       "  <thead>\n",
       "    <tr style=\"text-align: right;\">\n",
       "      <th></th>\n",
       "      <th>beer_ba_id</th>\n",
       "      <th>text</th>\n",
       "    </tr>\n",
       "  </thead>\n",
       "  <tbody>\n",
       "    <tr>\n",
       "      <th>0</th>\n",
       "      <td>141</td>\n",
       "      <td>&lt;div class=\"break\" style=\"float:right; width:7...</td>\n",
       "    </tr>\n",
       "    <tr>\n",
       "      <th>1</th>\n",
       "      <td>50570</td>\n",
       "      <td>&lt;div class=\"break\" style=\"float:right; width:7...</td>\n",
       "    </tr>\n",
       "    <tr>\n",
       "      <th>2</th>\n",
       "      <td>48824</td>\n",
       "      <td>&lt;div class=\"break\" style=\"float:right; width:7...</td>\n",
       "    </tr>\n",
       "    <tr>\n",
       "      <th>3</th>\n",
       "      <td>1717</td>\n",
       "      <td>&lt;div class=\"break\" style=\"float:right; width:7...</td>\n",
       "    </tr>\n",
       "    <tr>\n",
       "      <th>4</th>\n",
       "      <td>36333</td>\n",
       "      <td>&lt;div class=\"break\" style=\"float:right; width:7...</td>\n",
       "    </tr>\n",
       "  </tbody>\n",
       "</table>\n",
       "</div>"
      ],
      "text/plain": [
       "   beer_ba_id                                               text\n",
       "0         141  <div class=\"break\" style=\"float:right; width:7...\n",
       "1       50570  <div class=\"break\" style=\"float:right; width:7...\n",
       "2       48824  <div class=\"break\" style=\"float:right; width:7...\n",
       "3        1717  <div class=\"break\" style=\"float:right; width:7...\n",
       "4       36333  <div class=\"break\" style=\"float:right; width:7..."
      ]
     },
     "execution_count": 47,
     "metadata": {},
     "output_type": "execute_result"
    }
   ],
   "source": [
    "saison_text_df.head()"
   ]
  },
  {
   "cell_type": "code",
   "execution_count": 4,
   "metadata": {
    "collapsed": true
   },
   "outputs": [],
   "source": [
    "vectorizer = CountVectorizer(min_df=5, max_df=0.6, stop_words = 'english')\n",
    "count_mat = vectorizer.fit_transform(saison_text_df.text)"
   ]
  },
  {
   "cell_type": "code",
   "execution_count": 5,
   "metadata": {},
   "outputs": [
    {
     "data": {
      "text/html": [
       "<div>\n",
       "<style>\n",
       "    .dataframe thead tr:only-child th {\n",
       "        text-align: right;\n",
       "    }\n",
       "\n",
       "    .dataframe thead th {\n",
       "        text-align: left;\n",
       "    }\n",
       "\n",
       "    .dataframe tbody tr th {\n",
       "        vertical-align: top;\n",
       "    }\n",
       "</style>\n",
       "<table border=\"1\" class=\"dataframe\">\n",
       "  <thead>\n",
       "    <tr style=\"text-align: right;\">\n",
       "      <th></th>\n",
       "      <th>00</th>\n",
       "      <th>000</th>\n",
       "      <th>001</th>\n",
       "      <th>002</th>\n",
       "      <th>003</th>\n",
       "      <th>004</th>\n",
       "      <th>005</th>\n",
       "      <th>006</th>\n",
       "      <th>007</th>\n",
       "      <th>008</th>\n",
       "      <th>...</th>\n",
       "      <th>zesty</th>\n",
       "      <th>zinfandel</th>\n",
       "      <th>zing</th>\n",
       "      <th>zingy</th>\n",
       "      <th>zip</th>\n",
       "      <th>zippy</th>\n",
       "      <th>zone</th>\n",
       "      <th>zoo</th>\n",
       "      <th>zwanze</th>\n",
       "      <th>øl</th>\n",
       "    </tr>\n",
       "  </thead>\n",
       "  <tbody>\n",
       "    <tr>\n",
       "      <th>0</th>\n",
       "      <td>1</td>\n",
       "      <td>0</td>\n",
       "      <td>0</td>\n",
       "      <td>0</td>\n",
       "      <td>0</td>\n",
       "      <td>0</td>\n",
       "      <td>0</td>\n",
       "      <td>0</td>\n",
       "      <td>0</td>\n",
       "      <td>1</td>\n",
       "      <td>...</td>\n",
       "      <td>1</td>\n",
       "      <td>0</td>\n",
       "      <td>2</td>\n",
       "      <td>1</td>\n",
       "      <td>1</td>\n",
       "      <td>0</td>\n",
       "      <td>0</td>\n",
       "      <td>0</td>\n",
       "      <td>0</td>\n",
       "      <td>0</td>\n",
       "    </tr>\n",
       "    <tr>\n",
       "      <th>1</th>\n",
       "      <td>1</td>\n",
       "      <td>0</td>\n",
       "      <td>0</td>\n",
       "      <td>0</td>\n",
       "      <td>0</td>\n",
       "      <td>0</td>\n",
       "      <td>0</td>\n",
       "      <td>0</td>\n",
       "      <td>0</td>\n",
       "      <td>1</td>\n",
       "      <td>...</td>\n",
       "      <td>2</td>\n",
       "      <td>0</td>\n",
       "      <td>0</td>\n",
       "      <td>1</td>\n",
       "      <td>0</td>\n",
       "      <td>0</td>\n",
       "      <td>0</td>\n",
       "      <td>0</td>\n",
       "      <td>0</td>\n",
       "      <td>0</td>\n",
       "    </tr>\n",
       "    <tr>\n",
       "      <th>2</th>\n",
       "      <td>5</td>\n",
       "      <td>0</td>\n",
       "      <td>0</td>\n",
       "      <td>0</td>\n",
       "      <td>0</td>\n",
       "      <td>0</td>\n",
       "      <td>0</td>\n",
       "      <td>0</td>\n",
       "      <td>0</td>\n",
       "      <td>0</td>\n",
       "      <td>...</td>\n",
       "      <td>5</td>\n",
       "      <td>1</td>\n",
       "      <td>0</td>\n",
       "      <td>0</td>\n",
       "      <td>0</td>\n",
       "      <td>0</td>\n",
       "      <td>0</td>\n",
       "      <td>0</td>\n",
       "      <td>0</td>\n",
       "      <td>0</td>\n",
       "    </tr>\n",
       "    <tr>\n",
       "      <th>3</th>\n",
       "      <td>0</td>\n",
       "      <td>0</td>\n",
       "      <td>0</td>\n",
       "      <td>0</td>\n",
       "      <td>0</td>\n",
       "      <td>0</td>\n",
       "      <td>0</td>\n",
       "      <td>0</td>\n",
       "      <td>0</td>\n",
       "      <td>0</td>\n",
       "      <td>...</td>\n",
       "      <td>3</td>\n",
       "      <td>0</td>\n",
       "      <td>1</td>\n",
       "      <td>0</td>\n",
       "      <td>0</td>\n",
       "      <td>0</td>\n",
       "      <td>1</td>\n",
       "      <td>0</td>\n",
       "      <td>0</td>\n",
       "      <td>0</td>\n",
       "    </tr>\n",
       "    <tr>\n",
       "      <th>4</th>\n",
       "      <td>1</td>\n",
       "      <td>0</td>\n",
       "      <td>0</td>\n",
       "      <td>0</td>\n",
       "      <td>0</td>\n",
       "      <td>0</td>\n",
       "      <td>0</td>\n",
       "      <td>1</td>\n",
       "      <td>1</td>\n",
       "      <td>0</td>\n",
       "      <td>...</td>\n",
       "      <td>7</td>\n",
       "      <td>0</td>\n",
       "      <td>0</td>\n",
       "      <td>0</td>\n",
       "      <td>0</td>\n",
       "      <td>1</td>\n",
       "      <td>1</td>\n",
       "      <td>0</td>\n",
       "      <td>0</td>\n",
       "      <td>0</td>\n",
       "    </tr>\n",
       "    <tr>\n",
       "      <th>5</th>\n",
       "      <td>0</td>\n",
       "      <td>0</td>\n",
       "      <td>0</td>\n",
       "      <td>0</td>\n",
       "      <td>0</td>\n",
       "      <td>0</td>\n",
       "      <td>0</td>\n",
       "      <td>0</td>\n",
       "      <td>0</td>\n",
       "      <td>0</td>\n",
       "      <td>...</td>\n",
       "      <td>11</td>\n",
       "      <td>0</td>\n",
       "      <td>0</td>\n",
       "      <td>0</td>\n",
       "      <td>1</td>\n",
       "      <td>2</td>\n",
       "      <td>0</td>\n",
       "      <td>0</td>\n",
       "      <td>0</td>\n",
       "      <td>0</td>\n",
       "    </tr>\n",
       "    <tr>\n",
       "      <th>6</th>\n",
       "      <td>2</td>\n",
       "      <td>1</td>\n",
       "      <td>0</td>\n",
       "      <td>0</td>\n",
       "      <td>0</td>\n",
       "      <td>0</td>\n",
       "      <td>0</td>\n",
       "      <td>0</td>\n",
       "      <td>0</td>\n",
       "      <td>1</td>\n",
       "      <td>...</td>\n",
       "      <td>6</td>\n",
       "      <td>0</td>\n",
       "      <td>0</td>\n",
       "      <td>0</td>\n",
       "      <td>1</td>\n",
       "      <td>0</td>\n",
       "      <td>0</td>\n",
       "      <td>0</td>\n",
       "      <td>0</td>\n",
       "      <td>0</td>\n",
       "    </tr>\n",
       "    <tr>\n",
       "      <th>7</th>\n",
       "      <td>1</td>\n",
       "      <td>0</td>\n",
       "      <td>0</td>\n",
       "      <td>0</td>\n",
       "      <td>0</td>\n",
       "      <td>0</td>\n",
       "      <td>1</td>\n",
       "      <td>0</td>\n",
       "      <td>0</td>\n",
       "      <td>0</td>\n",
       "      <td>...</td>\n",
       "      <td>8</td>\n",
       "      <td>0</td>\n",
       "      <td>0</td>\n",
       "      <td>0</td>\n",
       "      <td>0</td>\n",
       "      <td>0</td>\n",
       "      <td>0</td>\n",
       "      <td>0</td>\n",
       "      <td>0</td>\n",
       "      <td>0</td>\n",
       "    </tr>\n",
       "    <tr>\n",
       "      <th>8</th>\n",
       "      <td>1</td>\n",
       "      <td>0</td>\n",
       "      <td>0</td>\n",
       "      <td>0</td>\n",
       "      <td>0</td>\n",
       "      <td>1</td>\n",
       "      <td>0</td>\n",
       "      <td>0</td>\n",
       "      <td>0</td>\n",
       "      <td>0</td>\n",
       "      <td>...</td>\n",
       "      <td>1</td>\n",
       "      <td>0</td>\n",
       "      <td>0</td>\n",
       "      <td>0</td>\n",
       "      <td>0</td>\n",
       "      <td>0</td>\n",
       "      <td>0</td>\n",
       "      <td>0</td>\n",
       "      <td>0</td>\n",
       "      <td>0</td>\n",
       "    </tr>\n",
       "    <tr>\n",
       "      <th>9</th>\n",
       "      <td>3</td>\n",
       "      <td>0</td>\n",
       "      <td>0</td>\n",
       "      <td>0</td>\n",
       "      <td>0</td>\n",
       "      <td>0</td>\n",
       "      <td>0</td>\n",
       "      <td>1</td>\n",
       "      <td>0</td>\n",
       "      <td>0</td>\n",
       "      <td>...</td>\n",
       "      <td>2</td>\n",
       "      <td>0</td>\n",
       "      <td>0</td>\n",
       "      <td>0</td>\n",
       "      <td>0</td>\n",
       "      <td>0</td>\n",
       "      <td>0</td>\n",
       "      <td>0</td>\n",
       "      <td>0</td>\n",
       "      <td>0</td>\n",
       "    </tr>\n",
       "  </tbody>\n",
       "</table>\n",
       "<p>10 rows × 15293 columns</p>\n",
       "</div>"
      ],
      "text/plain": [
       "   00  000  001  002  003  004  005  006  007  008 ...  zesty  zinfandel  \\\n",
       "0   1    0    0    0    0    0    0    0    0    1 ...      1          0   \n",
       "1   1    0    0    0    0    0    0    0    0    1 ...      2          0   \n",
       "2   5    0    0    0    0    0    0    0    0    0 ...      5          1   \n",
       "3   0    0    0    0    0    0    0    0    0    0 ...      3          0   \n",
       "4   1    0    0    0    0    0    0    1    1    0 ...      7          0   \n",
       "5   0    0    0    0    0    0    0    0    0    0 ...     11          0   \n",
       "6   2    1    0    0    0    0    0    0    0    1 ...      6          0   \n",
       "7   1    0    0    0    0    0    1    0    0    0 ...      8          0   \n",
       "8   1    0    0    0    0    1    0    0    0    0 ...      1          0   \n",
       "9   3    0    0    0    0    0    0    1    0    0 ...      2          0   \n",
       "\n",
       "   zing  zingy  zip  zippy  zone  zoo  zwanze  øl  \n",
       "0     2      1    1      0     0    0       0   0  \n",
       "1     0      1    0      0     0    0       0   0  \n",
       "2     0      0    0      0     0    0       0   0  \n",
       "3     1      0    0      0     1    0       0   0  \n",
       "4     0      0    0      1     1    0       0   0  \n",
       "5     0      0    1      2     0    0       0   0  \n",
       "6     0      0    1      0     0    0       0   0  \n",
       "7     0      0    0      0     0    0       0   0  \n",
       "8     0      0    0      0     0    0       0   0  \n",
       "9     0      0    0      0     0    0       0   0  \n",
       "\n",
       "[10 rows x 15293 columns]"
      ]
     },
     "execution_count": 5,
     "metadata": {},
     "output_type": "execute_result"
    }
   ],
   "source": [
    "pd.DataFrame(count_mat.toarray(),  columns=vectorizer.get_feature_names()).head(10)"
   ]
  },
  {
   "cell_type": "markdown",
   "metadata": {},
   "source": [
    "### Latent Semantic Analysis"
   ]
  },
  {
   "cell_type": "code",
   "execution_count": 6,
   "metadata": {
    "collapsed": true
   },
   "outputs": [],
   "source": [
    "lsa = TruncatedSVD(50)\n",
    "reduced_mat = lsa.fit_transform(count_mat)"
   ]
  },
  {
   "cell_type": "code",
   "execution_count": 7,
   "metadata": {},
   "outputs": [
    {
     "data": {
      "image/png": "[encoded data removed]",
      "text/plain": [
       "<matplotlib.figure.Figure at 0x7f33247fe6d8>"
      ]
     },
     "metadata": {},
     "output_type": "display_data"
    }
   ],
   "source": [
    "fig, ax = plt.subplots()\n",
    "ax.plot(lsa.explained_variance_ratio_,'^')\n",
    "ax.set_ylabel(\"Explained variance\")\n",
    "ax.set_xlabel(\"Topic\");"
   ]
  },
  {
   "cell_type": "code",
   "execution_count": 8,
   "metadata": {
    "collapsed": true
   },
   "outputs": [],
   "source": [
    "terms = np.array(vectorizer.get_feature_names())"
   ]
  },
  {
   "cell_type": "code",
   "execution_count": 9,
   "metadata": {},
   "outputs": [
    {
     "name": "stdout",
     "output_type": "stream",
     "text": [
      "topic 0\n",
      "['hops' 'pepper' 'sour' 'spicy' 'belgian' 'earthy' 'floral' 'funky'\n",
      " 'slight' 'sweetness' 'poured' 'brett' 'bitterness' 'apple' 'refreshing'\n",
      " 'finger' 'spices' 'character' 'hop' 'mild' 'lots' 'herbal' 'touch' 'tulip'\n",
      " 'big' 'pale' 'drink' 'straw' 'palate' 'wheat' 'dark' 'honey' 'retention'\n",
      " 'bitter' 'brew']\n",
      "topic 1\n",
      "['brett' 'sour' 'oak' 'wine' 'dark' 'peach' 'tartness' 'funky' 'barrel'\n",
      " 'brown' 'peaches' 'sourness' 'apple' 'red' 'grape' 'wild' 'grapes'\n",
      " 'cherry' 'barnyard' 'batch' 'acidic' 'acidity' 'fantome' 'vinous'\n",
      " 'chocolate' '20134' 'wood' 'green' 'lactic' 'vinegar' 'musty' 'fruits'\n",
      " 'jolly' 'amber' 'apples']\n",
      "topic 2\n",
      "['dark' 'brown' 'chocolate' 'black' 'roasted' 'caramel' 'tan' 'fantome'\n",
      " 'interesting' 'belgian' 'coffee' 'spices' 'malts' 'cocoa' 'amber' 'roast'\n",
      " 'red' 'deep' 'sugar' 'roasty' 'cherry' 'malty' 'unique' 'stout' '20113'\n",
      " 'creamy' 'fruits' 'spicy' 'cherries' 'strong' '20123' 'darker' 'burnt'\n",
      " 'plum' 'reddish']\n",
      "topic 3\n",
      "['green' 'sour' 'fantome' 'honey' 'apple' 'tea' 'tartness' '20114' 'apples'\n",
      " 'spices' 'guava' 'sourness' 'sweetness' 'interesting' '20113' 'wine'\n",
      " 'unique' 'cork' 'drinkability' 'amber' '20104' 'fantôme' 'wheat' 'ginger'\n",
      " 've' 'refreshing' 'herbal' 'brew' 'lime' 'cinnamon' 'pumpkin' 'herbs'\n",
      " 'floral' 'cucumber' 'quickly']\n",
      "topic 4\n",
      "['honey' 'floral' 'rose' 'sweetness' 'flowers' 'brett' 'dark' 'hill'\n",
      " 'farmstead' 'dupont' 'hibiscus' 'hf' 'hops' 'anna' 'flowery' 'earthy'\n",
      " 'complex' 'soft' 'flower' '20134' 'ml' 'creamy' '750ml' 'cork' 'brown'\n",
      " 'roasted' 'interesting' '750' 'pink' 'thanks' 'lavender' 'fluffy'\n",
      " 'dandelion' 'caged' 'beautiful']\n"
     ]
    }
   ],
   "source": [
    "for i in range(5):\n",
    "    print(\"topic {}\".format(i))\n",
    "    print(get_topical_terms(lsa.components_,i,terms, 35))"
   ]
  },
  {
   "cell_type": "markdown",
   "metadata": {},
   "source": [
    "First three topics look like they could be useful. Topic 0 looks like a typical saison, and Topic 1 looks like a barrel-aged/fruit saison. Topic 2 is especially interesting, because it probably refers to a relatively rare substyle of saison (dark saison).\n",
    "\n",
    "### Latent Dirichlet Allocation"
   ]
  },
  {
   "cell_type": "code",
   "execution_count": 50,
   "metadata": {
    "collapsed": true
   },
   "outputs": [],
   "source": [
    "count_mat_T = count_mat.transpose()\n",
    "corpus = matutils.Sparse2Corpus(count_mat_T)"
   ]
  },
  {
   "cell_type": "code",
   "execution_count": 51,
   "metadata": {
    "collapsed": true
   },
   "outputs": [],
   "source": [
    "id2word = dict((v, k) for k, v in vectorizer.vocabulary_.items())"
   ]
  },
  {
   "cell_type": "code",
   "execution_count": 52,
   "metadata": {
    "collapsed": true
   },
   "outputs": [],
   "source": [
    "lda = models.LdaModel(corpus=corpus, num_topics=6, id2word=id2word, passes=10)"
   ]
  },
  {
   "cell_type": "code",
   "execution_count": 53,
   "metadata": {},
   "outputs": [
    {
     "data": {
      "text/plain": [
       "[(0,\n",
       "  '0.018*\"dark\" + 0.010*\"brown\" + 0.007*\"black\" + 0.006*\"belgian\" + 0.006*\"caramel\" + 0.006*\"chocolate\" + 0.005*\"spicy\" + 0.005*\"malts\" + 0.004*\"interesting\" + 0.004*\"roasted\" + 0.004*\"amber\" + 0.004*\"earthy\" + 0.004*\"pepper\" + 0.004*\"hops\" + 0.004*\"sour\"'),\n",
       " (1,\n",
       "  '0.010*\"brett\" + 0.010*\"sour\" + 0.009*\"wine\" + 0.008*\"oak\" + 0.006*\"tartness\" + 0.006*\"funky\" + 0.004*\"peach\" + 0.004*\"floral\" + 0.004*\"barrel\" + 0.004*\"earthy\" + 0.004*\"mild\" + 0.004*\"slight\" + 0.004*\"character\" + 0.004*\"bright\" + 0.003*\"apple\"'),\n",
       " (2,\n",
       "  '0.008*\"belgian\" + 0.008*\"hops\" + 0.007*\"pepper\" + 0.007*\"spicy\" + 0.004*\"bitterness\" + 0.004*\"banana\" + 0.004*\"wheat\" + 0.004*\"pale\" + 0.004*\"sweetness\" + 0.004*\"refreshing\" + 0.004*\"clove\" + 0.004*\"slight\" + 0.004*\"spices\" + 0.004*\"finger\" + 0.004*\"yeasty\"'),\n",
       " (3,\n",
       "  '0.017*\"brett\" + 0.007*\"hops\" + 0.006*\"funky\" + 0.005*\"sour\" + 0.005*\"cucumber\" + 0.004*\"floral\" + 0.004*\"grapefruit\" + 0.004*\"bitterness\" + 0.004*\"pumpkin\" + 0.004*\"pepper\" + 0.004*\"poured\" + 0.004*\"refreshing\" + 0.004*\"retention\" + 0.004*\"lots\" + 0.004*\"big\"'),\n",
       " (4,\n",
       "  '0.007*\"hops\" + 0.006*\"pepper\" + 0.006*\"spicy\" + 0.005*\"wheat\" + 0.005*\"pale\" + 0.005*\"belgian\" + 0.005*\"straw\" + 0.005*\"floral\" + 0.005*\"hop\" + 0.005*\"earthy\" + 0.005*\"refreshing\" + 0.004*\"20153\" + 0.004*\"bitterness\" + 0.004*\"20154\" + 0.004*\"mild\"'),\n",
       " (5,\n",
       "  '0.005*\"sour\" + 0.005*\"spicy\" + 0.005*\"apple\" + 0.005*\"spices\" + 0.005*\"pepper\" + 0.004*\"hops\" + 0.004*\"herbal\" + 0.004*\"earthy\" + 0.004*\"floral\" + 0.004*\"sweetness\" + 0.004*\"poured\" + 0.004*\"belgian\" + 0.004*\"honey\" + 0.004*\"slight\" + 0.004*\"funky\"')]"
      ]
     },
     "execution_count": 53,
     "metadata": {},
     "output_type": "execute_result"
    }
   ],
   "source": [
    "lda.print_topics(num_words=15)"
   ]
  },
  {
   "cell_type": "markdown",
   "metadata": {},
   "source": [
    "Took a lot of CPU clock time to run (cost me $0.50 on AWS!) and didn't really produce better results than LSA."
   ]
  },
  {
   "cell_type": "markdown",
   "metadata": {},
   "source": [
    "### Create similarity matrix for saison terms from LSA"
   ]
  },
  {
   "cell_type": "code",
   "execution_count": 42,
   "metadata": {
    "collapsed": true
   },
   "outputs": [],
   "source": [
    "from sklearn.preprocessing import Normalizer"
   ]
  },
  {
   "cell_type": "code",
   "execution_count": null,
   "metadata": {
    "collapsed": true
   },
   "outputs": [],
   "source": []
  },
  {
   "cell_type": "code",
   "execution_count": 43,
   "metadata": {
    "collapsed": true
   },
   "outputs": [],
   "source": [
    "reduced_mat_norm = Normalizer(copy=False).fit_transform(reduced_mat)"
   ]
  },
  {
   "cell_type": "code",
   "execution_count": 44,
   "metadata": {
    "collapsed": true
   },
   "outputs": [],
   "source": [
    "\n",
    "sim_mat = np.dot(reduced_mat_norm, reduced_mat_norm.T)"
   ]
  },
  {
   "cell_type": "code",
   "execution_count": 45,
   "metadata": {
    "collapsed": true
   },
   "outputs": [],
   "source": [
    "term_similarity_df = pd.DataFrame(sim_mat, columns=saison_text_df.beer_ba_id, index=saison_text_df.beer_ba_id)"
   ]
  },
  {
   "cell_type": "code",
   "execution_count": 97,
   "metadata": {},
   "outputs": [],
   "source": [
    "indices = np.argsort(-np.dot(reduced_mat_norm[4, :], reduced_mat_norm.T))[0:6]"
   ]
  },
  {
   "cell_type": "code",
   "execution_count": 101,
   "metadata": {},
   "outputs": [],
   "source": [
    "dists_mat = cosine_similarity(reduced_mat, reduced_mat)"
   ]
  },
  {
   "cell_type": "code",
   "execution_count": 102,
   "metadata": {},
   "outputs": [
    {
     "data": {
      "text/plain": [
       "array([[ 1.        ,  0.93867727,  0.90740253,  0.96984017,  0.70801262],\n",
       "       [ 0.93867727,  1.        ,  0.8779297 ,  0.94712116,  0.71399471],\n",
       "       [ 0.90740253,  0.8779297 ,  1.        ,  0.89733446,  0.70752129],\n",
       "       [ 0.96984017,  0.94712116,  0.89733446,  1.        ,  0.73086819],\n",
       "       [ 0.70801262,  0.71399471,  0.70752129,  0.73086819,  1.        ]])"
      ]
     },
     "execution_count": 102,
     "metadata": {},
     "output_type": "execute_result"
    }
   ],
   "source": [
    "sim_mat[:5, :5]"
   ]
  },
  {
   "cell_type": "code",
   "execution_count": 103,
   "metadata": {},
   "outputs": [
    {
     "data": {
      "text/plain": [
       "array([[ 1.        ,  0.93867727,  0.90740253,  0.96984017,  0.70801262],\n",
       "       [ 0.93867727,  1.        ,  0.8779297 ,  0.94712116,  0.71399471],\n",
       "       [ 0.90740253,  0.8779297 ,  1.        ,  0.89733446,  0.70752129],\n",
       "       [ 0.96984017,  0.94712116,  0.89733446,  1.        ,  0.73086819],\n",
       "       [ 0.70801262,  0.71399471,  0.70752129,  0.73086819,  1.        ]])"
      ]
     },
     "execution_count": 103,
     "metadata": {},
     "output_type": "execute_result"
    }
   ],
   "source": [
    "dists_mat[:5, :5]"
   ]
  },
  {
   "cell_type": "code",
   "execution_count": 105,
   "metadata": {},
   "outputs": [
    {
     "data": {
      "text/plain": [
       "array([  4, 195,  14, 118,  50, 186])"
      ]
     },
     "execution_count": 105,
     "metadata": {},
     "output_type": "execute_result"
    }
   ],
   "source": [
    "np.argsort(-dists_mat[4, :])[0:6]"
   ]
  },
  {
   "cell_type": "code",
   "execution_count": 98,
   "metadata": {},
   "outputs": [
    {
     "data": {
      "text/html": [
       "<div>\n",
       "<style>\n",
       "    .dataframe thead tr:only-child th {\n",
       "        text-align: right;\n",
       "    }\n",
       "\n",
       "    .dataframe thead th {\n",
       "        text-align: left;\n",
       "    }\n",
       "\n",
       "    .dataframe tbody tr th {\n",
       "        vertical-align: top;\n",
       "    }\n",
       "</style>\n",
       "<table border=\"1\" class=\"dataframe\">\n",
       "  <thead>\n",
       "    <tr style=\"text-align: right;\">\n",
       "      <th></th>\n",
       "      <th>abv</th>\n",
       "      <th>avg_score</th>\n",
       "      <th>beer</th>\n",
       "      <th>beer_ba_id</th>\n",
       "      <th>brewery</th>\n",
       "      <th>brewery_ba_id</th>\n",
       "      <th>gots</th>\n",
       "      <th>perc_dev</th>\n",
       "      <th>ratings</th>\n",
       "      <th>reviews</th>\n",
       "      <th>style_ba_id</th>\n",
       "      <th>wants</th>\n",
       "      <th>topic_0</th>\n",
       "      <th>topic_1</th>\n",
       "      <th>topic_2</th>\n",
       "    </tr>\n",
       "  </thead>\n",
       "  <tbody>\n",
       "    <tr>\n",
       "      <th>4</th>\n",
       "      <td>8.5</td>\n",
       "      <td>4.29</td>\n",
       "      <td>Saison</td>\n",
       "      <td>36333</td>\n",
       "      <td>Brett</td>\n",
       "      <td>423</td>\n",
       "      <td>873</td>\n",
       "      <td>10.02</td>\n",
       "      <td>3239</td>\n",
       "      <td>768</td>\n",
       "      <td>129</td>\n",
       "      <td>673</td>\n",
       "      <td>341.267186</td>\n",
       "      <td>84.343018</td>\n",
       "      <td>-106.463368</td>\n",
       "    </tr>\n",
       "    <tr>\n",
       "      <th>195</th>\n",
       "      <td>8.5</td>\n",
       "      <td>3.90</td>\n",
       "      <td>Regalia</td>\n",
       "      <td>117973</td>\n",
       "      <td>Perennial Artisan Ales</td>\n",
       "      <td>25888</td>\n",
       "      <td>31</td>\n",
       "      <td>8.72</td>\n",
       "      <td>220</td>\n",
       "      <td>28</td>\n",
       "      <td>129</td>\n",
       "      <td>8</td>\n",
       "      <td>47.288923</td>\n",
       "      <td>16.653431</td>\n",
       "      <td>-14.121573</td>\n",
       "    </tr>\n",
       "    <tr>\n",
       "      <th>14</th>\n",
       "      <td>8.0</td>\n",
       "      <td>4.29</td>\n",
       "      <td>Seizoen Bretta</td>\n",
       "      <td>69702</td>\n",
       "      <td>Logsdon Farmhouse Ales</td>\n",
       "      <td>25710</td>\n",
       "      <td>263</td>\n",
       "      <td>7.46</td>\n",
       "      <td>1498</td>\n",
       "      <td>263</td>\n",
       "      <td>129</td>\n",
       "      <td>190</td>\n",
       "      <td>375.604726</td>\n",
       "      <td>132.385002</td>\n",
       "      <td>-110.650645</td>\n",
       "    </tr>\n",
       "    <tr>\n",
       "      <th>118</th>\n",
       "      <td>6.5</td>\n",
       "      <td>3.90</td>\n",
       "      <td>Bretticent</td>\n",
       "      <td>119775</td>\n",
       "      <td>Wicked Weed Brewing</td>\n",
       "      <td>30581</td>\n",
       "      <td>100</td>\n",
       "      <td>8.97</td>\n",
       "      <td>443</td>\n",
       "      <td>56</td>\n",
       "      <td>129</td>\n",
       "      <td>13</td>\n",
       "      <td>84.864735</td>\n",
       "      <td>19.080761</td>\n",
       "      <td>-27.714964</td>\n",
       "    </tr>\n",
       "    <tr>\n",
       "      <th>50</th>\n",
       "      <td>6.0</td>\n",
       "      <td>4.10</td>\n",
       "      <td>Grassroots Arctic Saison</td>\n",
       "      <td>96755</td>\n",
       "      <td>Grassroots Brewing</td>\n",
       "      <td>23205</td>\n",
       "      <td>137</td>\n",
       "      <td>8.29</td>\n",
       "      <td>795</td>\n",
       "      <td>109</td>\n",
       "      <td>129</td>\n",
       "      <td>28</td>\n",
       "      <td>228.228648</td>\n",
       "      <td>78.135379</td>\n",
       "      <td>-79.970607</td>\n",
       "    </tr>\n",
       "    <tr>\n",
       "      <th>186</th>\n",
       "      <td>8.0</td>\n",
       "      <td>4.12</td>\n",
       "      <td>Allagash Century Ale Brett Saison</td>\n",
       "      <td>146790</td>\n",
       "      <td>Allagash Brewing Company</td>\n",
       "      <td>4</td>\n",
       "      <td>35</td>\n",
       "      <td>7.04</td>\n",
       "      <td>233</td>\n",
       "      <td>50</td>\n",
       "      <td>129</td>\n",
       "      <td>12</td>\n",
       "      <td>83.706468</td>\n",
       "      <td>22.446860</td>\n",
       "      <td>-29.943193</td>\n",
       "    </tr>\n",
       "  </tbody>\n",
       "</table>\n",
       "</div>"
      ],
      "text/plain": [
       "     abv  avg_score                               beer  beer_ba_id  \\\n",
       "4    8.5       4.29                             Saison       36333   \n",
       "195  8.5       3.90                            Regalia      117973   \n",
       "14   8.0       4.29                     Seizoen Bretta       69702   \n",
       "118  6.5       3.90                         Bretticent      119775   \n",
       "50   6.0       4.10           Grassroots Arctic Saison       96755   \n",
       "186  8.0       4.12  Allagash Century Ale Brett Saison      146790   \n",
       "\n",
       "                      brewery  brewery_ba_id  gots  perc_dev  ratings  \\\n",
       "4                       Brett            423   873     10.02     3239   \n",
       "195    Perennial Artisan Ales          25888    31      8.72      220   \n",
       "14     Logsdon Farmhouse Ales          25710   263      7.46     1498   \n",
       "118       Wicked Weed Brewing          30581   100      8.97      443   \n",
       "50         Grassroots Brewing          23205   137      8.29      795   \n",
       "186  Allagash Brewing Company              4    35      7.04      233   \n",
       "\n",
       "     reviews  style_ba_id  wants     topic_0     topic_1     topic_2  \n",
       "4        768          129    673  341.267186   84.343018 -106.463368  \n",
       "195       28          129      8   47.288923   16.653431  -14.121573  \n",
       "14       263          129    190  375.604726  132.385002 -110.650645  \n",
       "118       56          129     13   84.864735   19.080761  -27.714964  \n",
       "50       109          129     28  228.228648   78.135379  -79.970607  \n",
       "186       50          129     12   83.706468   22.446860  -29.943193  "
      ]
     },
     "execution_count": 98,
     "metadata": {},
     "output_type": "execute_result"
    }
   ],
   "source": [
    "saison_beer_df.iloc[indices]"
   ]
  },
  {
   "cell_type": "code",
   "execution_count": 13,
   "metadata": {},
   "outputs": [
    {
     "data": {
      "text/html": [
       "<div>\n",
       "<style>\n",
       "    .dataframe thead tr:only-child th {\n",
       "        text-align: right;\n",
       "    }\n",
       "\n",
       "    .dataframe thead th {\n",
       "        text-align: left;\n",
       "    }\n",
       "\n",
       "    .dataframe tbody tr th {\n",
       "        vertical-align: top;\n",
       "    }\n",
       "</style>\n",
       "<table border=\"1\" class=\"dataframe\">\n",
       "  <thead>\n",
       "    <tr style=\"text-align: right;\">\n",
       "      <th></th>\n",
       "      <th>abv</th>\n",
       "      <th>avg_score</th>\n",
       "      <th>beer</th>\n",
       "      <th>beer_ba_id</th>\n",
       "      <th>brewery</th>\n",
       "      <th>brewery_ba_id</th>\n",
       "      <th>gots</th>\n",
       "      <th>perc_dev</th>\n",
       "      <th>ratings</th>\n",
       "      <th>reviews</th>\n",
       "      <th>style_ba_id</th>\n",
       "      <th>wants</th>\n",
       "      <th>topic_0</th>\n",
       "      <th>topic_1</th>\n",
       "      <th>topic_2</th>\n",
       "    </tr>\n",
       "  </thead>\n",
       "  <tbody>\n",
       "    <tr>\n",
       "      <th>0</th>\n",
       "      <td>7.7</td>\n",
       "      <td>4.17</td>\n",
       "      <td>Hennepin (Farmhouse Saison)</td>\n",
       "      <td>141</td>\n",
       "      <td>Brewery Ommegang</td>\n",
       "      <td>42</td>\n",
       "      <td>1,054</td>\n",
       "      <td>10.79%</td>\n",
       "      <td>6006</td>\n",
       "      <td>2176</td>\n",
       "      <td>129</td>\n",
       "      <td>360</td>\n",
       "      <td>212.016880</td>\n",
       "      <td>-39.530990</td>\n",
       "      <td>-19.251433</td>\n",
       "    </tr>\n",
       "    <tr>\n",
       "      <th>1</th>\n",
       "      <td>8.5</td>\n",
       "      <td>4.15</td>\n",
       "      <td>Tank 7 Farmhouse Ale</td>\n",
       "      <td>50570</td>\n",
       "      <td>Boulevard Brewing Co</td>\n",
       "      <td>423</td>\n",
       "      <td>1,634</td>\n",
       "      <td>10.36%</td>\n",
       "      <td>5154</td>\n",
       "      <td>1049</td>\n",
       "      <td>129</td>\n",
       "      <td>333</td>\n",
       "      <td>248.543979</td>\n",
       "      <td>-57.431339</td>\n",
       "      <td>-23.762868</td>\n",
       "    </tr>\n",
       "    <tr>\n",
       "      <th>2</th>\n",
       "      <td>6.5</td>\n",
       "      <td>4.10</td>\n",
       "      <td>Sofie</td>\n",
       "      <td>48824</td>\n",
       "      <td>Goose Island Beer Co</td>\n",
       "      <td>1146</td>\n",
       "      <td>1,164</td>\n",
       "      <td>10%</td>\n",
       "      <td>4479</td>\n",
       "      <td>1098</td>\n",
       "      <td>129</td>\n",
       "      <td>249</td>\n",
       "      <td>217.149246</td>\n",
       "      <td>11.935216</td>\n",
       "      <td>-39.347128</td>\n",
       "    </tr>\n",
       "    <tr>\n",
       "      <th>3</th>\n",
       "      <td>6.5</td>\n",
       "      <td>4.18</td>\n",
       "      <td>Saison Dupont</td>\n",
       "      <td>1717</td>\n",
       "      <td>Brasserie Dupont sprl</td>\n",
       "      <td>637</td>\n",
       "      <td>627</td>\n",
       "      <td>10.53%</td>\n",
       "      <td>4182</td>\n",
       "      <td>1617</td>\n",
       "      <td>129</td>\n",
       "      <td>286</td>\n",
       "      <td>233.161398</td>\n",
       "      <td>-47.930566</td>\n",
       "      <td>-25.817903</td>\n",
       "    </tr>\n",
       "    <tr>\n",
       "      <th>4</th>\n",
       "      <td>8.5</td>\n",
       "      <td>4.29</td>\n",
       "      <td>Saison</td>\n",
       "      <td>36333</td>\n",
       "      <td>Brett</td>\n",
       "      <td>423</td>\n",
       "      <td>873</td>\n",
       "      <td>10.02%</td>\n",
       "      <td>3239</td>\n",
       "      <td>768</td>\n",
       "      <td>129</td>\n",
       "      <td>673</td>\n",
       "      <td>341.267186</td>\n",
       "      <td>84.343018</td>\n",
       "      <td>-106.463368</td>\n",
       "    </tr>\n",
       "  </tbody>\n",
       "</table>\n",
       "</div>"
      ],
      "text/plain": [
       "   abv  avg_score                         beer  beer_ba_id  \\\n",
       "0  7.7       4.17  Hennepin (Farmhouse Saison)         141   \n",
       "1  8.5       4.15         Tank 7 Farmhouse Ale       50570   \n",
       "2  6.5       4.10                        Sofie       48824   \n",
       "3  6.5       4.18                Saison Dupont        1717   \n",
       "4  8.5       4.29                       Saison       36333   \n",
       "\n",
       "                 brewery  brewery_ba_id   gots perc_dev  ratings  reviews  \\\n",
       "0       Brewery Ommegang             42  1,054   10.79%     6006     2176   \n",
       "1   Boulevard Brewing Co            423  1,634   10.36%     5154     1049   \n",
       "2   Goose Island Beer Co           1146  1,164      10%     4479     1098   \n",
       "3  Brasserie Dupont sprl            637    627   10.53%     4182     1617   \n",
       "4                  Brett            423    873   10.02%     3239      768   \n",
       "\n",
       "   style_ba_id wants     topic_0    topic_1     topic_2  \n",
       "0          129   360  212.016880 -39.530990  -19.251433  \n",
       "1          129   333  248.543979 -57.431339  -23.762868  \n",
       "2          129   249  217.149246  11.935216  -39.347128  \n",
       "3          129   286  233.161398 -47.930566  -25.817903  \n",
       "4          129   673  341.267186  84.343018 -106.463368  "
      ]
     },
     "execution_count": 13,
     "metadata": {},
     "output_type": "execute_result"
    }
   ],
   "source": [
    "saison_beer_df.head()"
   ]
  },
  {
   "cell_type": "code",
   "execution_count": 17,
   "metadata": {},
   "outputs": [
    {
     "data": {
      "text/plain": [
       "<matplotlib.axes._subplots.AxesSubplot at 0x7f33246d24e0>"
      ]
     },
     "execution_count": 17,
     "metadata": {},
     "output_type": "execute_result"
    },
    {
     "data": {
      "image/png": "[encoded data removed]",
      "text/plain": [
       "<matplotlib.figure.Figure at 0x7f3324621860>"
      ]
     },
     "metadata": {},
     "output_type": "display_data"
    }
   ],
   "source": [
    "saison_beer_df.topic_0.hist()"
   ]
  },
  {
   "cell_type": "code",
   "execution_count": 18,
   "metadata": {
    "collapsed": true
   },
   "outputs": [],
   "source": [
    "saison_beer_df['perc_dev'] = saison_beer_df.perc_dev.map(lambda x: float(re.sub('%', '', x)))"
   ]
  },
  {
   "cell_type": "code",
   "execution_count": 19,
   "metadata": {
    "collapsed": true
   },
   "outputs": [],
   "source": [
    "saison_beer_df['wants'] = saison_beer_df.wants.map(lambda x: int(re.sub(',', '', x)))"
   ]
  },
  {
   "cell_type": "code",
   "execution_count": 20,
   "metadata": {
    "collapsed": true
   },
   "outputs": [],
   "source": [
    "saison_beer_df['gots'] = saison_beer_df.gots.map(lambda x: int(re.sub(',', '', x)))"
   ]
  },
  {
   "cell_type": "code",
   "execution_count": 21,
   "metadata": {},
   "outputs": [
    {
     "name": "stdout",
     "output_type": "stream",
     "text": [
      "<class 'pandas.core.frame.DataFrame'>\n",
      "RangeIndex: 1759 entries, 0 to 1758\n",
      "Data columns (total 15 columns):\n",
      "abv              1759 non-null float64\n",
      "avg_score        1759 non-null float64\n",
      "beer             1759 non-null object\n",
      "beer_ba_id       1759 non-null int64\n",
      "brewery          1759 non-null object\n",
      "brewery_ba_id    1759 non-null int64\n",
      "gots             1759 non-null int64\n",
      "perc_dev         1759 non-null float64\n",
      "ratings          1759 non-null int64\n",
      "reviews          1759 non-null int64\n",
      "style_ba_id      1759 non-null int64\n",
      "wants            1759 non-null int64\n",
      "topic_0          1759 non-null float64\n",
      "topic_1          1759 non-null float64\n",
      "topic_2          1759 non-null float64\n",
      "dtypes: float64(6), int64(7), object(2)\n",
      "memory usage: 206.2+ KB\n"
     ]
    }
   ],
   "source": [
    "saison_beer_df.info()"
   ]
  },
  {
   "cell_type": "code",
   "execution_count": 22,
   "metadata": {},
   "outputs": [
    {
     "name": "stdout",
     "output_type": "stream",
     "text": [
      "<class 'pandas.core.frame.DataFrame'>\n",
      "RangeIndex: 205264 entries, 0 to 205263\n",
      "Data columns (total 7 columns):\n",
      "beer_ba_id    205264 non-null int64\n",
      "feel          112807 non-null float64\n",
      "look          112807 non-null float64\n",
      "score         205264 non-null float64\n",
      "smell         112807 non-null float64\n",
      "taste         112807 non-null float64\n",
      "user_id       205210 non-null float64\n",
      "dtypes: float64(6), int64(1)\n",
      "memory usage: 11.0 MB\n"
     ]
    }
   ],
   "source": [
    "saison_user_df.info()"
   ]
  },
  {
   "cell_type": "code",
   "execution_count": 23,
   "metadata": {
    "collapsed": true
   },
   "outputs": [],
   "source": [
    "combined_df = saison_beer_df.merge(saison_user_df, how='outer', on='beer_ba_id')"
   ]
  },
  {
   "cell_type": "code",
   "execution_count": 24,
   "metadata": {},
   "outputs": [
    {
     "name": "stdout",
     "output_type": "stream",
     "text": [
      "<class 'pandas.core.frame.DataFrame'>\n",
      "Int64Index: 205264 entries, 0 to 205263\n",
      "Data columns (total 21 columns):\n",
      "abv              205264 non-null float64\n",
      "avg_score        205264 non-null float64\n",
      "beer             205264 non-null object\n",
      "beer_ba_id       205264 non-null int64\n",
      "brewery          205264 non-null object\n",
      "brewery_ba_id    205264 non-null int64\n",
      "gots             205264 non-null int64\n",
      "perc_dev         205264 non-null float64\n",
      "ratings          205264 non-null int64\n",
      "reviews          205264 non-null int64\n",
      "style_ba_id      205264 non-null int64\n",
      "wants            205264 non-null int64\n",
      "topic_0          205264 non-null float64\n",
      "topic_1          205264 non-null float64\n",
      "topic_2          205264 non-null float64\n",
      "feel             112807 non-null float64\n",
      "look             112807 non-null float64\n",
      "score            205264 non-null float64\n",
      "smell            112807 non-null float64\n",
      "taste            112807 non-null float64\n",
      "user_id          205210 non-null float64\n",
      "dtypes: float64(12), int64(7), object(2)\n",
      "memory usage: 34.5+ MB\n"
     ]
    }
   ],
   "source": [
    "combined_df.info()"
   ]
  },
  {
   "cell_type": "code",
   "execution_count": 25,
   "metadata": {
    "collapsed": true
   },
   "outputs": [],
   "source": [
    "df_combined_wide = pd.pivot_table(combined_df, values=[\"score\"],\n",
    "        index=[\"beer_ba_id\", \"user_id\"],\n",
    "        aggfunc=np.mean).unstack()"
   ]
  },
  {
   "cell_type": "code",
   "execution_count": 26,
   "metadata": {},
   "outputs": [
    {
     "data": {
      "text/html": [
       "<div>\n",
       "<style>\n",
       "    .dataframe thead tr:only-child th {\n",
       "        text-align: right;\n",
       "    }\n",
       "\n",
       "    .dataframe thead th {\n",
       "        text-align: left;\n",
       "    }\n",
       "\n",
       "    .dataframe tbody tr th {\n",
       "        vertical-align: top;\n",
       "    }\n",
       "</style>\n",
       "<table border=\"1\" class=\"dataframe\">\n",
       "  <thead>\n",
       "    <tr>\n",
       "      <th></th>\n",
       "      <th colspan=\"21\" halign=\"left\">score</th>\n",
       "    </tr>\n",
       "    <tr>\n",
       "      <th>user_id</th>\n",
       "      <th>1.0</th>\n",
       "      <th>2.0</th>\n",
       "      <th>3.0</th>\n",
       "      <th>16.0</th>\n",
       "      <th>19.0</th>\n",
       "      <th>22.0</th>\n",
       "      <th>29.0</th>\n",
       "      <th>30.0</th>\n",
       "      <th>31.0</th>\n",
       "      <th>32.0</th>\n",
       "      <th>...</th>\n",
       "      <th>1204907.0</th>\n",
       "      <th>1205051.0</th>\n",
       "      <th>1205290.0</th>\n",
       "      <th>1205437.0</th>\n",
       "      <th>1205627.0</th>\n",
       "      <th>1205725.0</th>\n",
       "      <th>1205994.0</th>\n",
       "      <th>1206027.0</th>\n",
       "      <th>1206149.0</th>\n",
       "      <th>1206207.0</th>\n",
       "    </tr>\n",
       "    <tr>\n",
       "      <th>beer_ba_id</th>\n",
       "      <th></th>\n",
       "      <th></th>\n",
       "      <th></th>\n",
       "      <th></th>\n",
       "      <th></th>\n",
       "      <th></th>\n",
       "      <th></th>\n",
       "      <th></th>\n",
       "      <th></th>\n",
       "      <th></th>\n",
       "      <th></th>\n",
       "      <th></th>\n",
       "      <th></th>\n",
       "      <th></th>\n",
       "      <th></th>\n",
       "      <th></th>\n",
       "      <th></th>\n",
       "      <th></th>\n",
       "      <th></th>\n",
       "      <th></th>\n",
       "      <th></th>\n",
       "    </tr>\n",
       "  </thead>\n",
       "  <tbody>\n",
       "    <tr>\n",
       "      <th>141</th>\n",
       "      <td>4.30</td>\n",
       "      <td>NaN</td>\n",
       "      <td>4.25</td>\n",
       "      <td>4.20</td>\n",
       "      <td>NaN</td>\n",
       "      <td>4.29</td>\n",
       "      <td>NaN</td>\n",
       "      <td>4.84</td>\n",
       "      <td>4.76</td>\n",
       "      <td>4.77</td>\n",
       "      <td>...</td>\n",
       "      <td>NaN</td>\n",
       "      <td>NaN</td>\n",
       "      <td>NaN</td>\n",
       "      <td>NaN</td>\n",
       "      <td>NaN</td>\n",
       "      <td>NaN</td>\n",
       "      <td>NaN</td>\n",
       "      <td>4.06</td>\n",
       "      <td>NaN</td>\n",
       "      <td>NaN</td>\n",
       "    </tr>\n",
       "    <tr>\n",
       "      <th>1510</th>\n",
       "      <td>NaN</td>\n",
       "      <td>NaN</td>\n",
       "      <td>3.63</td>\n",
       "      <td>3.83</td>\n",
       "      <td>NaN</td>\n",
       "      <td>NaN</td>\n",
       "      <td>3.65</td>\n",
       "      <td>NaN</td>\n",
       "      <td>NaN</td>\n",
       "      <td>NaN</td>\n",
       "      <td>...</td>\n",
       "      <td>NaN</td>\n",
       "      <td>NaN</td>\n",
       "      <td>NaN</td>\n",
       "      <td>NaN</td>\n",
       "      <td>NaN</td>\n",
       "      <td>NaN</td>\n",
       "      <td>NaN</td>\n",
       "      <td>NaN</td>\n",
       "      <td>NaN</td>\n",
       "      <td>NaN</td>\n",
       "    </tr>\n",
       "    <tr>\n",
       "      <th>1715</th>\n",
       "      <td>4.00</td>\n",
       "      <td>NaN</td>\n",
       "      <td>NaN</td>\n",
       "      <td>NaN</td>\n",
       "      <td>NaN</td>\n",
       "      <td>NaN</td>\n",
       "      <td>NaN</td>\n",
       "      <td>NaN</td>\n",
       "      <td>NaN</td>\n",
       "      <td>NaN</td>\n",
       "      <td>...</td>\n",
       "      <td>NaN</td>\n",
       "      <td>NaN</td>\n",
       "      <td>NaN</td>\n",
       "      <td>NaN</td>\n",
       "      <td>NaN</td>\n",
       "      <td>NaN</td>\n",
       "      <td>NaN</td>\n",
       "      <td>NaN</td>\n",
       "      <td>NaN</td>\n",
       "      <td>NaN</td>\n",
       "    </tr>\n",
       "    <tr>\n",
       "      <th>1716</th>\n",
       "      <td>3.57</td>\n",
       "      <td>4.0</td>\n",
       "      <td>3.60</td>\n",
       "      <td>NaN</td>\n",
       "      <td>NaN</td>\n",
       "      <td>4.35</td>\n",
       "      <td>NaN</td>\n",
       "      <td>NaN</td>\n",
       "      <td>NaN</td>\n",
       "      <td>NaN</td>\n",
       "      <td>...</td>\n",
       "      <td>NaN</td>\n",
       "      <td>NaN</td>\n",
       "      <td>NaN</td>\n",
       "      <td>NaN</td>\n",
       "      <td>NaN</td>\n",
       "      <td>NaN</td>\n",
       "      <td>NaN</td>\n",
       "      <td>NaN</td>\n",
       "      <td>NaN</td>\n",
       "      <td>NaN</td>\n",
       "    </tr>\n",
       "    <tr>\n",
       "      <th>1717</th>\n",
       "      <td>NaN</td>\n",
       "      <td>NaN</td>\n",
       "      <td>4.18</td>\n",
       "      <td>4.08</td>\n",
       "      <td>NaN</td>\n",
       "      <td>4.48</td>\n",
       "      <td>NaN</td>\n",
       "      <td>NaN</td>\n",
       "      <td>NaN</td>\n",
       "      <td>4.72</td>\n",
       "      <td>...</td>\n",
       "      <td>NaN</td>\n",
       "      <td>NaN</td>\n",
       "      <td>NaN</td>\n",
       "      <td>NaN</td>\n",
       "      <td>NaN</td>\n",
       "      <td>NaN</td>\n",
       "      <td>NaN</td>\n",
       "      <td>NaN</td>\n",
       "      <td>NaN</td>\n",
       "      <td>NaN</td>\n",
       "    </tr>\n",
       "  </tbody>\n",
       "</table>\n",
       "<p>5 rows × 27167 columns</p>\n",
       "</div>"
      ],
      "text/plain": [
       "               score                                                    \\\n",
       "user_id    1.0       2.0       3.0       16.0      19.0      22.0        \n",
       "beer_ba_id                                                               \n",
       "141             4.30       NaN      4.25      4.20       NaN      4.29   \n",
       "1510             NaN       NaN      3.63      3.83       NaN       NaN   \n",
       "1715            4.00       NaN       NaN       NaN       NaN       NaN   \n",
       "1716            3.57       4.0      3.60       NaN       NaN      4.35   \n",
       "1717             NaN       NaN      4.18      4.08       NaN      4.48   \n",
       "\n",
       "                                                      ...               \\\n",
       "user_id    29.0      30.0      31.0      32.0         ...    1204907.0   \n",
       "beer_ba_id                                            ...                \n",
       "141              NaN      4.84      4.76      4.77    ...          NaN   \n",
       "1510            3.65       NaN       NaN       NaN    ...          NaN   \n",
       "1715             NaN       NaN       NaN       NaN    ...          NaN   \n",
       "1716             NaN       NaN       NaN       NaN    ...          NaN   \n",
       "1717             NaN       NaN       NaN      4.72    ...          NaN   \n",
       "\n",
       "                                                                        \\\n",
       "user_id    1205051.0 1205290.0 1205437.0 1205627.0 1205725.0 1205994.0   \n",
       "beer_ba_id                                                               \n",
       "141              NaN       NaN       NaN       NaN       NaN       NaN   \n",
       "1510             NaN       NaN       NaN       NaN       NaN       NaN   \n",
       "1715             NaN       NaN       NaN       NaN       NaN       NaN   \n",
       "1716             NaN       NaN       NaN       NaN       NaN       NaN   \n",
       "1717             NaN       NaN       NaN       NaN       NaN       NaN   \n",
       "\n",
       "                                          \n",
       "user_id    1206027.0 1206149.0 1206207.0  \n",
       "beer_ba_id                                \n",
       "141             4.06       NaN       NaN  \n",
       "1510             NaN       NaN       NaN  \n",
       "1715             NaN       NaN       NaN  \n",
       "1716             NaN       NaN       NaN  \n",
       "1717             NaN       NaN       NaN  \n",
       "\n",
       "[5 rows x 27167 columns]"
      ]
     },
     "execution_count": 26,
     "metadata": {},
     "output_type": "execute_result"
    }
   ],
   "source": [
    "df_combined_wide.head()"
   ]
  },
  {
   "cell_type": "code",
   "execution_count": 27,
   "metadata": {},
   "outputs": [
    {
     "data": {
      "text/plain": [
       "(1759, 27167)"
      ]
     },
     "execution_count": 27,
     "metadata": {},
     "output_type": "execute_result"
    }
   ],
   "source": [
    "df_combined_wide.shape"
   ]
  },
  {
   "cell_type": "code",
   "execution_count": 28,
   "metadata": {},
   "outputs": [
    {
     "data": {
      "text/plain": [
       "27168"
      ]
     },
     "execution_count": 28,
     "metadata": {},
     "output_type": "execute_result"
    }
   ],
   "source": [
    "len(saison_user_df.user_id.unique())"
   ]
  },
  {
   "cell_type": "code",
   "execution_count": 29,
   "metadata": {
    "collapsed": true
   },
   "outputs": [],
   "source": [
    "df_combined_wide.fillna(0, inplace=True)"
   ]
  },
  {
   "cell_type": "code",
   "execution_count": 30,
   "metadata": {
    "collapsed": true
   },
   "outputs": [],
   "source": [
    "dists = cosine_similarity(df_combined_wide)"
   ]
  },
  {
   "cell_type": "code",
   "execution_count": 31,
   "metadata": {},
   "outputs": [
    {
     "data": {
      "text/plain": [
       "array([[ 1.        ,  0.16608224,  0.15765772,  0.29461899,  0.44401834],\n",
       "       [ 0.16608224,  1.        ,  0.08542507,  0.14719215,  0.1503644 ],\n",
       "       [ 0.15765772,  0.08542507,  1.        ,  0.26787396,  0.2016092 ],\n",
       "       [ 0.29461899,  0.14719215,  0.26787396,  1.        ,  0.37290029],\n",
       "       [ 0.44401834,  0.1503644 ,  0.2016092 ,  0.37290029,  1.        ]])"
      ]
     },
     "execution_count": 31,
     "metadata": {},
     "output_type": "execute_result"
    }
   ],
   "source": [
    "dists[:5, :5]"
   ]
  },
  {
   "cell_type": "code",
   "execution_count": 32,
   "metadata": {
    "collapsed": true
   },
   "outputs": [],
   "source": [
    "dists_df = pd.DataFrame(dists, columns=df_combined_wide.index)\n",
    "dists_df.index = dists_df.columns"
   ]
  },
  {
   "cell_type": "code",
   "execution_count": 33,
   "metadata": {},
   "outputs": [
    {
     "data": {
      "text/html": [
       "<div>\n",
       "<style>\n",
       "    .dataframe thead tr:only-child th {\n",
       "        text-align: right;\n",
       "    }\n",
       "\n",
       "    .dataframe thead th {\n",
       "        text-align: left;\n",
       "    }\n",
       "\n",
       "    .dataframe tbody tr th {\n",
       "        vertical-align: top;\n",
       "    }\n",
       "</style>\n",
       "<table border=\"1\" class=\"dataframe\">\n",
       "  <thead>\n",
       "    <tr style=\"text-align: right;\">\n",
       "      <th>beer_ba_id</th>\n",
       "      <th>141</th>\n",
       "      <th>1510</th>\n",
       "      <th>1715</th>\n",
       "      <th>1716</th>\n",
       "      <th>1717</th>\n",
       "    </tr>\n",
       "    <tr>\n",
       "      <th>beer_ba_id</th>\n",
       "      <th></th>\n",
       "      <th></th>\n",
       "      <th></th>\n",
       "      <th></th>\n",
       "      <th></th>\n",
       "    </tr>\n",
       "  </thead>\n",
       "  <tbody>\n",
       "    <tr>\n",
       "      <th>141</th>\n",
       "      <td>1.000000</td>\n",
       "      <td>0.166082</td>\n",
       "      <td>0.157658</td>\n",
       "      <td>0.294619</td>\n",
       "      <td>0.444018</td>\n",
       "    </tr>\n",
       "    <tr>\n",
       "      <th>1510</th>\n",
       "      <td>0.166082</td>\n",
       "      <td>1.000000</td>\n",
       "      <td>0.085425</td>\n",
       "      <td>0.147192</td>\n",
       "      <td>0.150364</td>\n",
       "    </tr>\n",
       "    <tr>\n",
       "      <th>1715</th>\n",
       "      <td>0.157658</td>\n",
       "      <td>0.085425</td>\n",
       "      <td>1.000000</td>\n",
       "      <td>0.267874</td>\n",
       "      <td>0.201609</td>\n",
       "    </tr>\n",
       "    <tr>\n",
       "      <th>1716</th>\n",
       "      <td>0.294619</td>\n",
       "      <td>0.147192</td>\n",
       "      <td>0.267874</td>\n",
       "      <td>1.000000</td>\n",
       "      <td>0.372900</td>\n",
       "    </tr>\n",
       "    <tr>\n",
       "      <th>1717</th>\n",
       "      <td>0.444018</td>\n",
       "      <td>0.150364</td>\n",
       "      <td>0.201609</td>\n",
       "      <td>0.372900</td>\n",
       "      <td>1.000000</td>\n",
       "    </tr>\n",
       "  </tbody>\n",
       "</table>\n",
       "</div>"
      ],
      "text/plain": [
       "beer_ba_id      141       1510      1715      1716      1717\n",
       "beer_ba_id                                                  \n",
       "141         1.000000  0.166082  0.157658  0.294619  0.444018\n",
       "1510        0.166082  1.000000  0.085425  0.147192  0.150364\n",
       "1715        0.157658  0.085425  1.000000  0.267874  0.201609\n",
       "1716        0.294619  0.147192  0.267874  1.000000  0.372900\n",
       "1717        0.444018  0.150364  0.201609  0.372900  1.000000"
      ]
     },
     "execution_count": 33,
     "metadata": {},
     "output_type": "execute_result"
    }
   ],
   "source": [
    "dists_df.iloc[:5, :5]"
   ]
  },
  {
   "cell_type": "code",
   "execution_count": 34,
   "metadata": {
    "collapsed": true
   },
   "outputs": [],
   "source": [
    "beer_dict = dict(zip(list(saison_beer_df.beer_ba_id.values), list(saison_beer_df.beer.values)))"
   ]
  },
  {
   "cell_type": "code",
   "execution_count": 35,
   "metadata": {},
   "outputs": [
    {
     "data": {
      "text/plain": [
       "'Saison Dupont'"
      ]
     },
     "execution_count": 35,
     "metadata": {},
     "output_type": "execute_result"
    }
   ],
   "source": [
    "beer_dict[1717]"
   ]
  },
  {
   "cell_type": "code",
   "execution_count": 36,
   "metadata": {
    "collapsed": true
   },
   "outputs": [],
   "source": [
    "beer_id_dict = dict(zip(list(saison_beer_df.beer.values), list(saison_beer_df.beer_ba_id.values)))"
   ]
  },
  {
   "cell_type": "code",
   "execution_count": 87,
   "metadata": {
    "collapsed": true
   },
   "outputs": [],
   "source": [
    "def get_similar(beers, n=None):\n",
    "    \"\"\"\n",
    "    Finds which beers are most similar to the beers provided.\n",
    "    \n",
    "    Parameters\n",
    "    ----------\n",
    "    beers: list\n",
    "    \n",
    "    Returns\n",
    "    -------\n",
    "    ranked_beers: list\n",
    "        rank ordered beers\n",
    "    \"\"\"\n",
    "    \n",
    "    beers = [beer_id_dict[beer] for beer in beers if beer_id_dict[beer] in dists_df.columns]\n",
    "    beers_summed = dists_df[beers].apply(lambda row: np.sum(row), axis=1)\n",
    "    beers_summed = beers_summed.sort_values(ascending=False)\n",
    "    ranked_beers = beers_summed.index[beers_summed.index.isin(beers)==False]\n",
    "    ranked_beer_ids = ranked_beers.tolist()\n",
    "    ranked_beers = [beer_dict[beer_id] for beer_id in ranked_beer_ids]\n",
    "    if n is None:\n",
    "        return ranked_beers\n",
    "    else:\n",
    "        return ranked_beers[:n]"
   ]
  },
  {
   "cell_type": "code",
   "execution_count": 106,
   "metadata": {},
   "outputs": [
    {
     "data": {
      "text/plain": [
       "['Hennepin (Farmhouse Saison)',\n",
       " 'Sofie',\n",
       " 'Avec Les Bons Voeux',\n",
       " 'Saison',\n",
       " 'Fantôme Saison',\n",
       " 'Tank 7 Farmhouse Ale']"
      ]
     },
     "execution_count": 106,
     "metadata": {},
     "output_type": "execute_result"
    }
   ],
   "source": [
    "get_similar(['Saison Dupont', 'Saison'], n=6)"
   ]
  },
  {
   "cell_type": "markdown",
   "metadata": {},
   "source": [
    "### Content-based recommendations for full dataset"
   ]
  },
  {
   "cell_type": "code",
   "execution_count": 3,
   "metadata": {
    "collapsed": true
   },
   "outputs": [],
   "source": [
    "full_beer_df = pd.read_csv('full_beer_info.csv.gz', compression='gzip')"
   ]
  },
  {
   "cell_type": "code",
   "execution_count": 4,
   "metadata": {},
   "outputs": [],
   "source": [
    "full_text_df = pd.read_csv('full_text_info.csv.gz', compression='gzip')"
   ]
  },
  {
   "cell_type": "code",
   "execution_count": 5,
   "metadata": {
    "collapsed": true
   },
   "outputs": [],
   "source": [
    "vectorizer = TfidfVectorizer(min_df=10, max_df=0.8, stop_words = 'english', strip_accents='ascii')"
   ]
  },
  {
   "cell_type": "code",
   "execution_count": 6,
   "metadata": {},
   "outputs": [],
   "source": [
    "count_mat = vectorizer.fit_transform(full_text_df.text)"
   ]
  },
  {
   "cell_type": "code",
   "execution_count": 7,
   "metadata": {},
   "outputs": [
    {
     "data": {
      "text/plain": [
       "<41798x60222 sparse matrix of type '<class 'numpy.float64'>'\n",
       "\twith 25369630 stored elements in Compressed Sparse Row format>"
      ]
     },
     "execution_count": 7,
     "metadata": {},
     "output_type": "execute_result"
    }
   ],
   "source": [
    "count_mat"
   ]
  },
  {
   "cell_type": "code",
   "execution_count": 8,
   "metadata": {},
   "outputs": [],
   "source": [
    "lsa = TruncatedSVD(50)\n",
    "reduced_mat = lsa.fit_transform(count_mat)"
   ]
  },
  {
   "cell_type": "code",
   "execution_count": 9,
   "metadata": {},
   "outputs": [
    {
     "data": {
      "image/png": "[encoded data removed]",
      "text/plain": [
       "<matplotlib.figure.Figure at 0x7fd9680d2588>"
      ]
     },
     "metadata": {},
     "output_type": "display_data"
    }
   ],
   "source": [
    "fig, ax = plt.subplots()\n",
    "ax.plot(lsa.explained_variance_ratio_,'^')\n",
    "ax.set_ylabel(\"Explained variance\")\n",
    "ax.set_xlabel(\"Topic\");"
   ]
  },
  {
   "cell_type": "code",
   "execution_count": 12,
   "metadata": {},
   "outputs": [
    {
     "name": "stdout",
     "output_type": "stream",
     "text": [
      "topic 0\n",
      "['hops' 'sweet' 'dark' 'bit' 'hop' 'citrus' 'ipa' 'white' 'flavor'\n",
      " 'caramel' 'chocolate' 'little' 'brown' 'bottle' 'glass' 'orange' 'coffee'\n",
      " 'bitterness' 'lacing' 'ale' 'just' 'bitter' 'mouthfeel' 'malts' 'really'\n",
      " 'nose' 'amber' 'pine' 'pale' 'pours' 'dry' 'roasted' 'flavors' 'great'\n",
      " 'fruit']\n",
      "topic 1\n",
      "['coffee' 'chocolate' 'dark' 'stout' 'roasted' 'black' 'brown' 'porter'\n",
      " 'vanilla' 'bourbon' 'roast' 'tan' 'cocoa' 'roasty' 'milk' 'barrel'\n",
      " 'molasses' 'rich' 'smoke' 'oatmeal' 'mocha' 'creamy' 'stouts' 'burnt'\n",
      " 'espresso' 'oak' 'licorice' 'imperial' 'malts' 'toffee' 'pitch' 'char'\n",
      " 'smooth' 'opaque' 'deep']\n",
      "topic 2\n",
      "['ipa' 'pine' 'grapefruit' 'citrus' 'coffee' 'tropical' 'hop' 'hops'\n",
      " 'orange' 'chocolate' 'bitter' 'stout' 'mango' 'piney' 'dipa' 'pineapple'\n",
      " 'black' 'bitterness' 'dank' 'hoppy' 'juicy' 'ipas' 'resin' 'roasted'\n",
      " '20164' 'double' 'tangerine' '20174' 'resinous' 'coast' 'imperial' '116'\n",
      " 'citra' 'west' 'porter']\n",
      "topic 3\n",
      "['sour' 'bourbon' 'tart' 'saison' 'oak' 'funk' 'barrel' 'orange' 'fruit'\n",
      " 'brett' 'vanilla' 'belgian' 'wheat' 'tropical' 'lemon' 'yeast' '20164'\n",
      " '20174' 'citrus' 'hazy' 'pineapple' 'tartness' 'mango' 'banana' 'funky'\n",
      " 'ipa' 'stout' 'grapefruit' 'wine' 'cherry' 'peach' '20154' 'juicy' 'clove'\n",
      " 'aged']\n",
      "topic 4\n",
      "['bourbon' 'caramel' 'brown' 'oak' 'barrel' 'red' 'dark' 'amber' 'toffee'\n",
      " 'vanilla' 'barleywine' 'sweet' 'sugar' 'cherry' 'aged' 'ale' 'copper'\n",
      " 'cherries' 'fruit' 'pumpkin' 'ipa' 'malty' 'raisins' 'fruits' 'whiskey'\n",
      " 'rye' 'pine' 'reddish' 'scotch' 'boozy' 'wine' 'deep' 'booze' 'raisin'\n",
      " 'molasses']\n",
      "topic 5\n",
      "['bourbon' 'lager' 'barrel' 'vanilla' 'oak' 'pilsner' 'corn' 'aged' 'pale'\n",
      " 'stout' 'pils' 'yellow' 'golden' 'clean' 'crisp' 'whiskey' 'clear' 'straw'\n",
      " 'grassy' 'lagers' 'grainy' 'pilsener' 'coconut' 'macro' 'grain' 'adjunct'\n",
      " 'barrels' 'gold' 'german' 'hops' 'czech' 'euro' 'helles' 'refreshing'\n",
      " 'kolsch']\n",
      "topic 6\n",
      "['sour' 'tart' 'funk' 'cherry' 'brett' 'red' 'tartness' 'sourness'\n",
      " 'cherries' 'raspberry' 'vinegar' 'funky' 'wild' 'wine' 'lactic' 'oak'\n",
      " 'acidity' 'acidic' 'lambic' 'fruit' 'lager' 'berliner' 'pink' 'porter'\n",
      " 'raspberries' 'dry' 'coffee' 'gose' 'sours' 'barnyard' 'roasted' 'acid'\n",
      " 'flanders' 'grape' 'saison']\n",
      "topic 7\n",
      "['pumpkin' 'cinnamon' 'nutmeg' 'pie' 'sour' 'ale' 'spices' 'coffee' 'tart'\n",
      " 'spice' 'funk' 'placeholder' 'fall' 'ginger' 'allspice' 'brett' '2014'\n",
      " 'lager' 'united' 'states' 'brewing' '2015' 'porter' 'oct' '2016' 'wild'\n",
      " 'tartness' 'pale' 'red' 'sourness' 'rotating' 'company' 'american' 'funky'\n",
      " 'cherry']\n",
      "topic 8\n",
      "['rye' 'ale' 'saison' 'placeholder' 'pale' '2014' 'united' 'states'\n",
      " 'brewing' '2015' 'rotating' 'american' 'apa' 'company' 'bourbon' 'coffee'\n",
      " 'ca' 'farmhouse' '2013' 'amber' 'tap' '2016' 'english' 'red' 'brewery'\n",
      " 'round' 'barrel' '00' 'span' 'position' 'hops' 'year' 'belgian' '129'\n",
      " 'california']\n",
      "topic 9\n",
      "['wheat' 'banana' 'hefe' 'hefeweizen' 'brown' 'porter' 'sour' 'placeholder'\n",
      " 'clove' 'american' 'tart' 'united' 'states' 'weizen' 'brewing' 'ale'\n",
      " 'berliner' 'red' 'gose' 'ipa' '2014' 'rotating' '2016' '2015' 'raspberry'\n",
      " 'company' 'cherry' 'summer' 'tap' '2017' 'brewery' 'cloudy' '116' 'wheaty'\n",
      " 'refreshing']\n"
     ]
    }
   ],
   "source": [
    "terms = np.array(vectorizer.get_feature_names())\n",
    "for i in range(10):\n",
    "    print(\"topic {}\".format(i))\n",
    "    print(get_topical_terms(lsa.components_,i,terms, 35))"
   ]
  },
  {
   "cell_type": "code",
   "execution_count": 14,
   "metadata": {
    "collapsed": true
   },
   "outputs": [],
   "source": [
    "nmf = NMF(50)\n",
    "reduced_mat_nmf = nmf.fit_transform(count_mat)"
   ]
  },
  {
   "cell_type": "code",
   "execution_count": 16,
   "metadata": {},
   "outputs": [
    {
     "name": "stdout",
     "output_type": "stream",
     "text": [
      "topic 0\n",
      "['bottle' 'bit' 'little' 'flavor' 'just' 'glass' 'pretty' 'mouthfeel'\n",
      " 'really' '20113' 'hops' 'quite' 'bad' 'poured' 'drinkability' 'brew'\n",
      " 'lacing' '20103' 'sweet' 'pours' 'hop' 'flavors' 'way' 'think' 'slightly'\n",
      " 'decent' 'nose' 'better' '20093' 'maybe' '20123' 'quickly' 'drink' 'try'\n",
      " 'drinkable']\n",
      "topic 1\n",
      "['chocolate' 'black' 'dark' 'roasted' 'cocoa' 'roast' 'tan' 'roasty'\n",
      " 'malts' 'milk' 'licorice' 'molasses' 'mocha' 'brown' 'creamy' 'bitter'\n",
      " 'burnt' 'rich' 'imperial' 'char' 'pitch' 'ris' 'smooth' 'opaque' 'lacing'\n",
      " 'charred' 'pours' 'bittersweet' 'powder' 'bitterness' 'jet' 'hints' 'deep'\n",
      " 'flavors' 'hint']\n",
      "topic 2\n",
      "['pine' 'grapefruit' 'hops' 'citrus' 'hop' 'bitter' 'piney' 'hoppy'\n",
      " 'bitterness' 'resin' 'floral' 'resinous' 'fresh' 'big' 'lacing' 'dry'\n",
      " 'great' 'white' 'rind' 'balance' 'citrusy' 'sticky' 'glass' 'resiny'\n",
      " 'balanced' 'dank' 'tropical' 'moderate' 'earthy' 'strong' 'backbone'\n",
      " '20154' 'solid' 'really' 'lots']\n",
      "topic 3\n",
      "['sour' 'tart' 'oak' 'funk' 'sourness' 'tartness' 'vinegar' 'wine' 'wild'\n",
      " 'lactic' 'funky' 'acidity' 'acidic' 'berliner' 'apple' 'fruit' 'peach'\n",
      " 'lambic' 'lemon' 'barrel' 'white' 'sours' 'grape' 'acid' 'gueuze'\n",
      " 'apricot' 'dry' 'puckering' 'lacto' 'grapes' 'bottle' 'acetic' 'really'\n",
      " 'green' 'vinous']\n",
      "topic 4\n",
      "['dark' 'barleywine' 'sweet' 'caramel' 'brown' 'sugar' 'raisins' 'fruit'\n",
      " 'fruits' 'toffee' 'raisin' 'molasses' 'figs' 'rich' 'quad' 'booze' 'plum'\n",
      " 'plums' 'wine' 'fig' 'boozy' 'dates' 'strong' 'dried' 'doppelbock' 'tan'\n",
      " 'sweetness' 'big' 'dubbel' 'deep' 'warming' 'ruby' 'rum' 'complex'\n",
      " 'bottle']\n",
      "topic 5\n",
      "['bourbon' 'barrel' 'oak' 'aged' 'vanilla' 'whiskey' 'barrels' 'aging'\n",
      " 'boozy' 'wood' 'ba' 'booze' 'caramel' 'bottle' 'base' 'brown' 'oaky'\n",
      " 'stout' 'snifter' 'toffee' 'imperial' 'heat' '20164' 'really' 'barleywine'\n",
      " 'bba' 'flavors' 'big' 'vintage' 'hot' 'great' 'little' '20154' 'nose'\n",
      " 'bit']\n",
      "topic 6\n",
      "['banana' 'clove' 'hefe' 'hefeweizen' 'weizen' 'cloves' 'yeast' 'bananas'\n",
      " 'cloudy' 'bubblegum' 'german' 'spice' 'yeasty' 'white' 'hazy' 'esters'\n",
      " 'hefeweizens' 'hefes' 'bread' 'yellow' 'spicy' 'bavarian' '89' 'wheat'\n",
      " 'weizenbock' 'gum' 'dunkel' 'glass' 'dunkelweizen' 'creamy' 'spices'\n",
      " 'sweet' 'weisse' 'wheaty' 'golden']\n",
      "topic 7\n",
      "['pumpkin' 'nutmeg' 'pie' 'cinnamon' 'spices' 'spice' 'allspice' 'fall'\n",
      " 'ale' 'clove' 'oct' 'pumpkins' 'ginger' 'spiced' 'squash' 'sep' '72'\n",
      " 'gourd' 'nov' 'flavor' 'orange' 'sugar' 'spicing' 'seasonal' 'amber'\n",
      " 'ales' 'beers' 'cloves' 'sweet' 'season' 'copper' 'spicy' 'crust'\n",
      " 'pumking' 'autumn']\n",
      "topic 8\n",
      "['pale' 'ale' 'apa' 'hops' 'hop' '97' 'american' 'hoppy' 'citrus' 'floral'\n",
      " 'ales' 'golden' 'session' 'citrusy' 'cascade' 'balanced' 'bitterness'\n",
      " 'hopped' 'grassy' 'decent' 'pint' 'gold' 'cream' 'white' 'english' 'crisp'\n",
      " 'fresh' 'citra' 'malts' 'clean' 'average' 'copper' 'apas' 'refreshing'\n",
      " 'biscuit']\n",
      "topic 9\n",
      "['wheat' 'summer' 'wheaty' 'lemon' 'berliner' 'yeast' 'refreshing' 'tart'\n",
      " '93' 'cloudy' 'hazy' 'yellow' 'pale' 'tartness' 'american' 'flavor'\n",
      " 'weisse' 'ale' 'weizen' 'lemony' 'straw' 'citrus' 'wheats' 'weiss' 'hot'\n",
      " 'little' 'weissbier' 'grainy' 'white' 'unfiltered' 'wheatwine' 'hint'\n",
      " 'day' 'beers' 'brew']\n"
     ]
    }
   ],
   "source": [
    "terms = np.array(vectorizer.get_feature_names())\n",
    "for i in range(10):\n",
    "    print(\"topic {}\".format(i))\n",
    "    print(get_topical_terms(nmf.components_,i,terms, 35))"
   ]
  },
  {
   "cell_type": "code",
   "execution_count": 18,
   "metadata": {},
   "outputs": [
    {
     "name": "stdout",
     "output_type": "stream",
     "text": [
      "topic 10\n",
      "['coffee' 'roasted' 'espresso' 'beans' 'black' 'roast' 'dark' 'mocha'\n",
      " 'bitter' '20164' 'bean' 'flavor' 'roasty' 'cold' 'rich' 'grounds' 'strong'\n",
      " 'cream' '20154' 'great' 'really' 'bitterness' 'breakfast' 'creamy'\n",
      " 'flavors' 'smooth' 'burnt' 'nose' 'java' 'ground' 'stouts' 'forward' 'big'\n",
      " 'just' 'lacing']\n",
      "topic 11\n",
      "['rye' 'spicy' 'spice' 'whiskey' 'spiciness' 'bread' 'roggenbier' 'peppery'\n",
      " 'hops' 'really' 'barrel' 'dry' '12' 'flavor' 'character' 'grain' 'bit'\n",
      " 'interesting' 'earthy' 'caraway' 'bready' 'little' 'adds' 'nose' 'pepper'\n",
      " 'comes' 'big' 'grainy' 'juniper' 'kvass' '2013' '2012' '20143' 'dark'\n",
      " 'pumpernickel']\n",
      "topic 12\n",
      "['porter' 'roasted' 'porters' 'dark' '159' 'baltic' 'tan' 'roasty' 'brown'\n",
      " 'chocolate' 'roast' 'robust' 'malts' 'cocoa' 'american' 'pint' 'ruby'\n",
      " 'dry' '101' 'cola' 'peanut' 'opaque' 'smooth' 'sweet' 'coffee' 'hint'\n",
      " 'solid' 'watery' 'burnt' 'deep' 'little' 'decent' 'hints' 'highlights'\n",
      " 'roastiness']\n",
      "topic 13\n",
      "['tropical' 'mango' 'pineapple' 'fruit' '20164' 'juicy' 'dank' 'peach'\n",
      " 'mosaic' 'citra' 'grapefruit' 'juice' 'papaya' 'melon' 'passion' 'guava'\n",
      " 'fruits' 'tangerine' 'hazy' '20174' '20154' 'fruity' 'great'\n",
      " 'passionfruit' 'nose' 'galaxy' 'trillium' 'really' 'white' 'bitterness'\n",
      " 'super' 'nelson' 'just' 'little' 'fresh']\n",
      "topic 14\n",
      "['ipa' 'ipas' '116' 'hop' 'american' 'hops' 'coast' 'citrus' 'west'\n",
      " 'bitterness' 'india' 'hoppy' 'session' 'floral' 'piney' 'citrusy' 'decent'\n",
      " '20153' 'balanced' 'bitter' 'dark' 'copper' 'brewery' 'jul' 'solid'\n",
      " 'golden' 'just' 'pint' 'new' '20163' 'average' 'english' 'local' 'east'\n",
      " 'really']\n",
      "topic 15\n",
      "['saison' 'farmhouse' 'yeast' '129' 'saisons' 'funk' 'pepper' 'spice' 'dry'\n",
      " 'peppery' 'funky' 'spicy' 'yeasty' 'white' 'ale' 'tart' 'spices' 'hay'\n",
      " 'lemon' 'earthy' 'hazy' 'pear' 'barnyard' 'floral' 'rustic' 'fruity'\n",
      " 'peppercorn' 'apple' 'clove' 'fruit' 'wine' 'really' 'bit' 'tartness'\n",
      " 'tulip']\n",
      "topic 16\n",
      "['pilsner' 'pils' 'hops' 'pilsener' 'german' 'czech' 'grassy' 'hop' 'crisp'\n",
      " 'pilsners' 'noble' 'clean' 'white' 'floral' 'golden' 'clear' 'saaz'\n",
      " 'straw' 'bitterness' 'spicy' 'yellow' 'dry' 'grainy' 'bready' 'malts'\n",
      " 'herbal' 'bitter' 'hoppy' 'gold' 'pale' 'grass' 'refreshing' 'grain'\n",
      " 'fresh' 'sweet']\n",
      "topic 17\n",
      "['amber' 'caramel' 'sweet' 'hops' 'copper' 'malts' 'malty' 'clear' 'white'\n",
      " 'hop' 'toasted' 'toffee' 'bready' 'lacing' 'earthy' 'decent' 'slightly'\n",
      " 'sweetness' 'bitterness' 'mild' 'bodied' 'slight' 'bread' 'balanced'\n",
      " 'toasty' 'smooth' 'pint' 'pours' 'moderate' 'finger' 'hint' 'flavor'\n",
      " 'floral' 'glass' 'biscuit']\n",
      "topic 18\n",
      "['lager' 'lagers' 'helles' 'clean' 'euro' 'hops' 'pale' 'crisp' 'vienna'\n",
      " 'munich' 'grassy' 'clear' 'golden' 'hop' 'malty' 'grainy' 'grain' 'malts'\n",
      " 'german' 'noble' 'white' 'dunkel' 'bready' 'refreshing' 'gold' 'bock'\n",
      " 'bread' 'yeast' 'sweet' 'grains' 'macro' 'dortmunder' 'bitterness' 'dark'\n",
      " 'export']\n",
      "topic 19\n",
      "['moderate' 'yeast' 'herbal' 'flavors' 'earthiness' 'balance' 'aromas'\n",
      " 'bready' 'robustness' 'complexity' 'toasted' 'earthy' 'bread' 'glass'\n",
      " 'zero' 'biscuit' 'floral' 'pepper' 'reduces' 'amounts' 'pear' 'great'\n",
      " 'cracker' 'smooth' 'impart' 'cap' 'characterssuperspak' 'fruity' 'dense'\n",
      " 'grassy' 'apple' 'bitterness' 'clings' 'michigan' 'malts']\n"
     ]
    }
   ],
   "source": [
    "terms = np.array(vectorizer.get_feature_names())\n",
    "for i in range(10, 20):\n",
    "    print(\"topic {}\".format(i))\n",
    "    print(get_topical_terms(nmf.components_,i,terms, 35))"
   ]
  },
  {
   "cell_type": "code",
   "execution_count": 22,
   "metadata": {},
   "outputs": [],
   "source": [
    "with open('lsa_matrix_full_beer.p', 'wb') as file:\n",
    "    pickle.dump(reduced_mat, file)"
   ]
  },
  {
   "cell_type": "code",
   "execution_count": 23,
   "metadata": {
    "collapsed": true
   },
   "outputs": [],
   "source": [
    "with open('nmf_matrix_full_beer.p', 'wb') as file:\n",
    "    pickle.dump(reduced_mat_nmf, file)"
   ]
  },
  {
   "cell_type": "code",
   "execution_count": null,
   "metadata": {
    "collapsed": true
   },
   "outputs": [],
   "source": []
  }
 ],
 "metadata": {
  "kernelspec": {
   "display_name": "Python 3",
   "language": "python",
   "name": "python3"
  },
  "language_info": {
   "codemirror_mode": {
    "name": "ipython",
    "version": 3
   },
   "file_extension": ".py",
   "mimetype": "text/x-python",
   "name": "python",
   "nbconvert_exporter": "python",
   "pygments_lexer": "ipython3",
   "version": "3.6.2"
  }
 },
 "nbformat": 4,
 "nbformat_minor": 2
}
