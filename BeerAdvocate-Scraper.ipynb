{
 "cells": [
  {
   "cell_type": "markdown",
   "metadata": {},
   "source": [
    "# Scrape BeerAdvocate for beer ratings\n",
    "This notebook scrapes BeerAdvocate for ratings of beer to subsequently perform linear regression on the ratings in terms of other available information on the beer. We start with the style page since we can use this to obtain a list of all beers of that style easily from there."
   ]
  },
  {
   "cell_type": "code",
   "execution_count": 1,
   "metadata": {
    "collapsed": true
   },
   "outputs": [],
   "source": [
    "import pandas as pd\n",
    "import numpy as np\n",
    "from bs4 import BeautifulSoup\n",
    "import requests\n",
    "import os\n",
    "import re\n",
    "import matplotlib.pyplot as plt\n",
    "import seaborn as sns\n",
    "%matplotlib inline"
   ]
  },
  {
   "cell_type": "code",
   "execution_count": 14,
   "metadata": {},
   "outputs": [],
   "source": [
    "start_url = \"https://www.beeradvocate.com/beer/style/\"\n",
    "\n",
    "styles = os.path.join(os.path.curdir, \"data\", \"styles.html\")\n",
    "\n",
    "if not os.path.exists(styles):\n",
    "    os.makedirs(\"data\")\n",
    "    r = requests.get(start_url)\n",
    "    page = r.text\n",
    "    with open(styles, 'w') as file:\n",
    "        file.write(page)\n",
    "else:\n",
    "    with open(styles, 'r') as file:\n",
    "        page = file.read()"
   ]
  },
  {
   "cell_type": "code",
   "execution_count": 15,
   "metadata": {},
   "outputs": [],
   "source": [
    "soup = BeautifulSoup(page,\"lxml\")"
   ]
  },
  {
   "cell_type": "code",
   "execution_count": 19,
   "metadata": {},
   "outputs": [
    {
     "data": {
      "text/plain": [
       "<table border=\"0\" cellpadding=\"0\" cellspacing=\"0\" class=\"break\" width=\"100%\">\n",
       "<tr>\n",
       "<td align=\"left\" valign=\"top\" width=\"50%\">\n",
       "<table border=\"0\" cellpadding=\"2\" cellspacing=\"0\" width=\"100%\">\n",
       "<tr>\n",
       "<td align=\"left\" bgcolor=\"#000000\" valign=\"top\"><span style=\"color: #FFFFFF; font-weight: bold; font-size: 8pt;\">Ale Styles</span></td>\n",
       "<td align=\"left\" class=\"hr_bottom_black\" valign=\"top\" width=\"100\"> </td>\n",
       "</tr><tr>\n",
       "<td align=\"left\" colspan=\"2\" valign=\"top\">\n",
       "<br/><b>American Ales</b><br/><a href=\"/beer/style/128/\">American Amber / Red Ale</a><br/><a href=\"/beer/style/19/\">American Barleywine</a><br/><a href=\"/beer/style/175/\">American Black Ale</a><br/><a href=\"/beer/style/99/\">American Blonde Ale</a><br/><a href=\"/beer/style/73/\">American Brown Ale</a><br/><a href=\"/beer/style/94/\">American Dark Wheat Ale</a><br/><a href=\"/beer/style/140/\">American Double / Imperial IPA</a><br/><a href=\"/beer/style/157/\">American Double / Imperial Stout</a><br/><a href=\"/beer/style/116/\">American IPA</a><br/><a href=\"/beer/style/97/\">American Pale Ale (APA)</a><br/><a href=\"/beer/style/93/\">American Pale Wheat Ale</a><br/><a href=\"/beer/style/159/\">American Porter</a><br/><a href=\"/beer/style/158/\">American Stout</a><br/><a href=\"/beer/style/78/\">American Strong Ale</a><br/><a href=\"/beer/style/171/\">American Wild Ale</a><br/><a href=\"/beer/style/130/\">Black &amp; Tan</a><br/><a href=\"/beer/style/163/\">Chile Beer</a><br/><a href=\"/beer/style/6/\">Cream Ale</a><br/><a href=\"/beer/style/72/\">Pumpkin Ale</a><br/><a href=\"/beer/style/12/\">Rye Beer</a><br/><a href=\"/beer/style/60/\">Wheatwine</a><br/><br/><b>Belgian / French Ales</b><br/><a href=\"/beer/style/119/\">Belgian Dark Ale</a><br/><a href=\"/beer/style/174/\">Belgian IPA</a><br/><a href=\"/beer/style/54/\">Belgian Pale Ale</a><br/><a href=\"/beer/style/56/\">Belgian Strong Dark Ale</a><br/><a href=\"/beer/style/55/\">Belgian Strong Pale Ale</a><br/><a href=\"/beer/style/141/\">Bière de Champagne / Bière Brut</a><br/><a href=\"/beer/style/127/\">Bière de Garde</a><br/><a href=\"/beer/style/57/\">Dubbel</a><br/><a href=\"/beer/style/15/\">Faro</a><br/><a href=\"/beer/style/52/\">Flanders Oud Bruin</a><br/><a href=\"/beer/style/53/\">Flanders Red Ale</a><br/><a href=\"/beer/style/14/\">Gueuze</a><br/><a href=\"/beer/style/10/\">Lambic - Fruit</a><br/><a href=\"/beer/style/50/\">Lambic - Unblended</a><br/><a href=\"/beer/style/142/\">Quadrupel (Quad)</a><br/><a href=\"/beer/style/129/\">Saison / Farmhouse Ale</a><br/><a href=\"/beer/style/58/\">Tripel</a><br/><a href=\"/beer/style/48/\">Witbier</a><br/><br/><b>English Ales</b><br/><a href=\"/beer/style/80/\">Baltic Porter</a><br/><a href=\"/beer/style/114/\">Braggot</a><br/><a href=\"/beer/style/152/\">English Barleywine</a><br/><a href=\"/beer/style/98/\">English Bitter</a><br/><a href=\"/beer/style/74/\">English Brown Ale</a><br/><a href=\"/beer/style/75/\">English Dark Mild Ale</a><br/><a href=\"/beer/style/150/\">English India Pale Ale (IPA)</a><br/><a href=\"/beer/style/154/\">English Pale Ale</a><br/><a href=\"/beer/style/76/\">English Pale Mild Ale</a><br/><a href=\"/beer/style/101/\">English Porter</a><br/><a href=\"/beer/style/13/\">English Stout</a><br/><a href=\"/beer/style/165/\">English Strong Ale</a><br/><a href=\"/beer/style/66/\">Extra Special / Strong Bitter (ESB)</a><br/><a href=\"/beer/style/95/\">Foreign / Export Stout</a><br/><a href=\"/beer/style/82/\">Milk / Sweet Stout</a><br/><a href=\"/beer/style/69/\">Oatmeal Stout</a><br/><a href=\"/beer/style/79/\">Old Ale</a><br/><a href=\"/beer/style/84/\">Russian Imperial Stout</a><br/><a href=\"/beer/style/47/\">Winter Warmer</a><br/><br/><b>Finnish Ales</b><br/><a href=\"/beer/style/148/\">Sahti</a><br/><br/><b>German Ales</b><br/><a href=\"/beer/style/86/\">Altbier</a><br/><a href=\"/beer/style/87/\">Berliner Weissbier</a><br/><a href=\"/beer/style/91/\">Dunkelweizen</a><br/><a href=\"/beer/style/16/\">Gose</a><br/><a href=\"/beer/style/89/\">Hefeweizen</a><br/><a href=\"/beer/style/85/\">Kölsch</a><br/><a href=\"/beer/style/90/\">Kristalweizen</a><br/><a href=\"/beer/style/18/\">Roggenbier</a><br/><a href=\"/beer/style/92/\">Weizenbock</a><br/><br/><b>Irish Ales</b><br/><a href=\"/beer/style/162/\">Irish Dry Stout</a><br/><a href=\"/beer/style/161/\">Irish Red Ale</a><br/><br/><b>Russian Ales</b><br/><a href=\"/beer/style/173/\">Kvass</a><br/><br/><b>Scottish Ales</b><br/><a href=\"/beer/style/77/\">Scotch Ale / Wee Heavy</a><br/><a href=\"/beer/style/68/\">Scottish Ale</a><br/><a href=\"/beer/style/70/\">Scottish Gruit / Ancient Herbed Ale</a><br/></td>\n",
       "</tr>\n",
       "</table>\n",
       "</td>\n",
       "<td align=\"left\" valign=\"top\" width=\"50%\">\n",
       "<table border=\"0\" cellpadding=\"2\" cellspacing=\"0\" width=\"100%\">\n",
       "<tr>\n",
       "<td align=\"left\" bgcolor=\"#000000\" valign=\"top\"><span style=\"color: #FFFFFF; font-weight: bold; font-size: 8pt;\">Lager Styles</span></td>\n",
       "<td align=\"left\" class=\"hr_bottom_black\" valign=\"top\" width=\"100\"> </td>\n",
       "</tr><tr>\n",
       "<td align=\"left\" colspan=\"2\" valign=\"top\">\n",
       "<br/><b>American Lagers</b><br/><a href=\"/beer/style/38/\">American Adjunct Lager</a><br/><a href=\"/beer/style/147/\">American Amber / Red Lager</a><br/><a href=\"/beer/style/164/\">American Double / Imperial Pilsner</a><br/><a href=\"/beer/style/42/\">American Malt Liquor</a><br/><a href=\"/beer/style/155/\">American Pale Lager</a><br/><a href=\"/beer/style/132/\">California Common / Steam Beer</a><br/><a href=\"/beer/style/39/\">Light Lager</a><br/><a href=\"/beer/style/5/\">Low Alcohol Beer</a><br/><br/><b>Czech Lagers</b><br/><a href=\"/beer/style/40/\">Czech Pilsener</a><br/><br/><b>European Lagers</b><br/><a href=\"/beer/style/149/\">Euro Dark Lager</a><br/><a href=\"/beer/style/37/\">Euro Pale Lager</a><br/><a href=\"/beer/style/43/\">Euro Strong Lager</a><br/><br/><b>German Lagers</b><br/><a href=\"/beer/style/32/\">Bock</a><br/><a href=\"/beer/style/35/\">Doppelbock</a><br/><a href=\"/beer/style/20/\">Dortmunder / Export Lager</a><br/><a href=\"/beer/style/36/\">Eisbock</a><br/><a href=\"/beer/style/41/\">German Pilsener</a><br/><a href=\"/beer/style/131/\">Kellerbier / Zwickelbier</a><br/><a href=\"/beer/style/33/\">Maibock / Helles Bock</a><br/><a href=\"/beer/style/29/\">Märzen / Oktoberfest</a><br/><a href=\"/beer/style/46/\">Munich Dunkel Lager</a><br/><a href=\"/beer/style/21/\">Munich Helles Lager</a><br/><a href=\"/beer/style/7/\">Rauchbier</a><br/><a href=\"/beer/style/31/\">Schwarzbier</a><br/><a href=\"/beer/style/30/\">Vienna Lager</a><br/><br/><b>Japanese Lagers</b><br/><a href=\"/beer/style/168/\">Happoshu</a><br/><a href=\"/beer/style/169/\">Japanese Rice Lager</a><br/></td>\n",
       "</tr>\n",
       "</table>\n",
       "<br/>\n",
       "<table border=\"0\" cellpadding=\"2\" cellspacing=\"0\" width=\"100%\">\n",
       "<tr>\n",
       "<td align=\"left\" bgcolor=\"#000000\" valign=\"top\"><span style=\"color: #FFFFFF; font-weight: bold; font-size: 8pt;\">Hybrid Styles</span></td>\n",
       "<td align=\"left\" class=\"hr_bottom_black\" valign=\"top\" width=\"100\"> </td>\n",
       "</tr><tr>\n",
       "<td align=\"left\" colspan=\"2\" valign=\"top\">\n",
       "<br/><a href=\"/beer/style/9/\">Fruit / Vegetable Beer</a><br/><a href=\"/beer/style/8/\">Herbed / Spiced Beer</a><br/><a href=\"/beer/style/11/\">Smoked Beer</a></td>\n",
       "</tr>\n",
       "</table>\n",
       "<br/>\n",
       "Hybrid styles are in the process of being sorted and moved into proper categories.\n",
       "\n",
       "</td>\n",
       "</tr>\n",
       "</table>"
      ]
     },
     "execution_count": 19,
     "metadata": {},
     "output_type": "execute_result"
    }
   ],
   "source": [
    "soup.find('table')"
   ]
  },
  {
   "cell_type": "code",
   "execution_count": null,
   "metadata": {
    "collapsed": true
   },
   "outputs": [],
   "source": []
  }
 ],
 "metadata": {
  "kernelspec": {
   "display_name": "Python 3",
   "language": "python",
   "name": "python3"
  },
  "language_info": {
   "codemirror_mode": {
    "name": "ipython",
    "version": 3
   },
   "file_extension": ".py",
   "mimetype": "text/x-python",
   "name": "python",
   "nbconvert_exporter": "python",
   "pygments_lexer": "ipython3",
   "version": "3.6.1"
  }
 },
 "nbformat": 4,
 "nbformat_minor": 2
}
