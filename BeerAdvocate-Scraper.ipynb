{
 "cells": [
  {
   "cell_type": "markdown",
   "metadata": {},
   "source": [
    "# Scrape BeerAdvocate for beer ratings\n",
    "This notebook scrapes BeerAdvocate for ratings of beer to subsequently perform linear regression on the ratings in terms of other available information on the beer. We start with the style page since we can use this to obtain a list of all beers of that style easily from there."
   ]
  },
  {
   "cell_type": "code",
   "execution_count": 2,
   "metadata": {
    "collapsed": true
   },
   "outputs": [],
   "source": [
    "import pandas as pd\n",
    "import numpy as np\n",
    "from bs4 import BeautifulSoup\n",
    "import requests\n",
    "import random\n",
    "import os\n",
    "import re\n",
    "import time\n",
    "import matplotlib.pyplot as plt\n",
    "import seaborn as sns\n",
    "from fake_useragent import UserAgent\n",
    "from collections import defaultdict\n",
    "\n",
    "%matplotlib inline"
   ]
  },
  {
   "cell_type": "markdown",
   "metadata": {},
   "source": [
    "## Useful constants and functions"
   ]
  },
  {
   "cell_type": "code",
   "execution_count": 19,
   "metadata": {
    "collapsed": true
   },
   "outputs": [],
   "source": [
    "base_url = \"https://www.beeradvocate.com\"\n",
    "start_url = base_url+\"/beer/style/\"\n",
    "\n",
    "ua = UserAgent()\n",
    "\n",
    "def download_parse_ba(style_file, url):\n",
    "    \"\"\"\n",
    "    sytle_file: file to be written (including subdirectory)\n",
    "    url: url to read from\n",
    "    Reads a url from BeerAdvocate.com and dumps\n",
    "    its main content into a local HTML file\n",
    "    \"\"\"\n",
    "    \n",
    "    user_agent = {'User-agent': ua.random}\n",
    "    \n",
    "    r = requests.get(url, headers = user_agent)\n",
    "    soup = BeautifulSoup(r.text, \"lxml\")\n",
    "    main_content = soup.find(id='ba-content')\n",
    "    \n",
    "    with open(style_file, 'w') as file:\n",
    "        file.write(str(main_content))\n",
    "    \n",
    "    time.sleep(random.uniform(2, 4))\n",
    "    \n",
    "    return\n",
    "\n",
    "def find_style_num(style_file):\n",
    "    \"\"\"\n",
    "    style_file: html file in style list\n",
    "    Returns the total number of beers in the style category\n",
    "    \"\"\"\n",
    "    with open(style_file, 'r') as file:\n",
    "        page = file.read()\n",
    "    \n",
    "    soup = BeautifulSoup(page,\"lxml\")\n",
    "        \n",
    "    # Find number of beers for the style\n",
    "\n",
    "    beer_num_tag = soup.find('table').find('span').find('b').text\n",
    "    \n",
    "    # Find 'word' directly to the left of a parentheses\n",
    "    criteria = re.compile('\\w+\\)')\n",
    "\n",
    "    found = re.search(criteria, beer_num_tag)\n",
    "    \n",
    "    return int(found.group(0).split(')')[0])\n",
    "\n",
    "def parse_beers_links(style_file, beer_dict):\n",
    "    \"\"\"\n",
    "    style_file: html file in style list\n",
    "    beer_links: reference to dictionary of beers to update\n",
    "    Updates dictionary with each beer, its associated data,\n",
    "    and a link to its review page\n",
    "    Returns True if a beer on the page had less than 10 ratings\n",
    "    Returns False otherwise\n",
    "    \"\"\"\n",
    "    \n",
    "    with open(style_file, 'r') as file:\n",
    "        soup = BeautifulSoup(file.read(), \"lxml\")\n",
    "        \n",
    "    beer_rows = soup.find(\"table\").findAll(\"tr\")\n",
    "    \n",
    "    # Flag to stop reading entries when number of ratings is less than 10\n",
    "    stop_flag = False\n",
    "    \n",
    "    for beer_row in beer_rows[3:len(beer_rows)-1]:\n",
    "        table_entries = beer_row.findAll(\"td\")\n",
    "        namelink = table_entries[0].find(\"a\")\n",
    "    \n",
    "        beer_link = namelink['href']\n",
    "        beer_name = namelink.text\n",
    "        \n",
    "        beer_name = re.sub(\"\\/\", \"\", beer_name)\n",
    "        beer_name = re.sub(\"\\.\", \"\", beer_name)\n",
    "        \n",
    "        brewery = table_entries[1].find(\"a\").text\n",
    "        brewery = re.sub(\"\\/\", \"\", brewery)\n",
    "        brewery = re.sub(\"\\.\", \"\", brewery)\n",
    "        \n",
    "        abv = table_entries[2].find(\"span\").text\n",
    "        \n",
    "        score = table_entries[3].find(\"b\").text\n",
    "        \n",
    "        ratings = int(re.sub(\",\", \"\", table_entries[4].find(\"b\").text))\n",
    "        \n",
    "        if ratings < 10:\n",
    "            stop_flag = True\n",
    "    \n",
    "        beer_dict[beer_name+'-'+brewery] = [beer_link, brewery, abv, score, ratings]\n",
    "    \n",
    "    return beer_dict, stop_flag\n",
    "\n",
    "def parse_beer_reviews(beer_dict):\n",
    "    \"\"\"\n",
    "    Takes a dictionary of beers and links\n",
    "    Returns a dataframe of beer information\n",
    "    \"\"\"\n",
    "    beer_dir = os.path.join(os.path.curdir, \"data\", \"beers\")\n",
    "    \n",
    "    beer_rating_dict = dict()\n",
    "    \n",
    "    for beer in beer_dict.keys():\n",
    "        \n",
    "        beer_path = os.path.join(beer_dir, beer+\".html\")\n",
    "\n",
    "        with open(beer_path, 'r') as file:\n",
    "            page = file.read()\n",
    "\n",
    "        soup = BeautifulSoup(page, \"lxml\")\n",
    "        \n",
    "        try:\n",
    "            ba_score = soup.find(class_=\"BAscore_big ba-score\").text\n",
    "        except:\n",
    "            print(beer+\".html\")\n",
    "            continue\n",
    "\n",
    "        if(ba_score == '-'):\n",
    "            ba_score = np.nan\n",
    "        else:\n",
    "            ba_score = int(ba_score)\n",
    "\n",
    "        beer_stats = soup.find(id=\"item_stats\")\n",
    "        ratings = beer_stats.find(class_=\"ba-ratings\").text\n",
    "        reviews = beer_stats.find(class_=\"ba-reviews\").text\n",
    "        perc_dev = beer_stats.find(class_=\"ba-pdev\").text\n",
    "        perc_dev = re.sub('\\s+','',perc_dev)\n",
    "        wants = beer_stats.find(class_=\"ba-wants\").text\n",
    "        gots = beer_stats.find(class_=\"ba-gots\").text\n",
    "\n",
    "        criteria = re.compile(\"[1-5]\\.?\\d*\\s\\|\")\n",
    "\n",
    "        look = []\n",
    "        smell = []\n",
    "        taste = []\n",
    "        feel = []\n",
    "\n",
    "        rating_tags = soup.findAll(id=\"rating_fullview_content_2\")\n",
    "        for rating_tag in rating_tags:\n",
    "            found = re.findall(criteria, rating_tag.find(class_=\"muted\").text)\n",
    "            if(found):\n",
    "                look.append(float(found[0].split(' ')[0]))\n",
    "                smell.append(float(found[1].split(' ')[0]))\n",
    "                taste.append(float(found[2].split(' ')[0]))\n",
    "                feel.append(float(found[3].split(' ')[0]))\n",
    "\n",
    "        try:\n",
    "            look_avg = sum(look)/len(look)\n",
    "            smell_avg = sum(smell)/len(smell)\n",
    "            taste_avg = sum(taste)/len(taste)\n",
    "            feel_avg = sum(feel)/len(feel)\n",
    "        except:\n",
    "            look_avg = np.nan\n",
    "            smell_avg = np.nan\n",
    "            taste_avg = np.nan\n",
    "            feel_avg = np.nan\n",
    "        \n",
    "        beer_rating_dict[beer] = {'ba_score' : ba_score, 'ratings' : ratings, 'reviews' : reviews,\n",
    "                                 'perc_dev' : perc_dev, 'wants' : wants, 'gots' : gots, 'look' : look_avg,\n",
    "                                 'smell' : smell_avg, 'taste' : taste_avg, 'feel' : feel_avg}\n",
    "    return beer_rating_dict"
   ]
  },
  {
   "cell_type": "markdown",
   "metadata": {},
   "source": [
    "## Grab first style file to start"
   ]
  },
  {
   "cell_type": "code",
   "execution_count": 3,
   "metadata": {
    "collapsed": true
   },
   "outputs": [],
   "source": [
    "\n",
    "\n",
    "styles = os.path.join(os.path.curdir, \"data\", \"styles.html\")\n",
    "\n",
    "if not os.path.exists(styles):\n",
    "    os.makedirs(\"data\")\n",
    "    r = requests.get(start_url)\n",
    "    page = r.text\n",
    "    with open(styles, 'w') as file:\n",
    "        file.write(page)\n",
    "else:\n",
    "    with open(styles, 'r') as file:\n",
    "        page = file.read()\n",
    "        \n"
   ]
  },
  {
   "cell_type": "code",
   "execution_count": 4,
   "metadata": {
    "collapsed": true
   },
   "outputs": [],
   "source": [
    "soup = BeautifulSoup(page,\"lxml\")"
   ]
  },
  {
   "cell_type": "code",
   "execution_count": 5,
   "metadata": {
    "collapsed": true
   },
   "outputs": [],
   "source": [
    "# Type = Ale, Lager, or Hybrid\n",
    "type_tables = soup.find('table').findAll('table')"
   ]
  },
  {
   "cell_type": "code",
   "execution_count": 6,
   "metadata": {
    "collapsed": true
   },
   "outputs": [],
   "source": [
    "style_link_dict = dict()\n",
    "for type_table in type_tables:\n",
    "    beer_type = type_table.find('span').text.split(\" \")[0]\n",
    "    style_link_dict[beer_type] = dict()\n",
    "    for style in type_table.findAll('a'):\n",
    "        style_name = \"\".join(style.text.split())\n",
    "        style_name = re.sub(\"/\", \"\", style_name)\n",
    "        style_name = re.sub(\"&\", \"And\", style_name)\n",
    "        style_name = style_name.split(\"(\")[0]\n",
    "        style_name = re.sub(\"è\", \"e\", style_name)\n",
    "        style_name = re.sub(\"ö\", \"o\", style_name)\n",
    "        style_name = re.sub(\"ä\", \"a\", style_name)\n",
    "        style_link_dict[beer_type][style_name] = base_url+style['href']\n",
    "        \n",
    "        "
   ]
  },
  {
   "cell_type": "code",
   "execution_count": 7,
   "metadata": {},
   "outputs": [
    {
     "data": {
      "text/plain": [
       "{'FruitVegetableBeer': 'https://www.beeradvocate.com/beer/style/9/',\n",
       " 'HerbedSpicedBeer': 'https://www.beeradvocate.com/beer/style/8/',\n",
       " 'SmokedBeer': 'https://www.beeradvocate.com/beer/style/11/'}"
      ]
     },
     "execution_count": 7,
     "metadata": {},
     "output_type": "execute_result"
    }
   ],
   "source": [
    "style_link_dict['Hybrid']"
   ]
  },
  {
   "cell_type": "markdown",
   "metadata": {},
   "source": [
    "## Grab first page of each style"
   ]
  },
  {
   "cell_type": "code",
   "execution_count": 8,
   "metadata": {
    "collapsed": true
   },
   "outputs": [],
   "source": [
    "for beer_type, styles in style_link_dict.items():\n",
    "    \n",
    "    beer_type_dir = os.path.join(os.path.curdir, \"data\", beer_type)\n",
    "    \n",
    "    if not os.path.exists(beer_type_dir):\n",
    "        os.makedirs(beer_type_dir)\n",
    "        \n",
    "    for style, url in styles.items():\n",
    "        style_type_dir = os.path.join(beer_type_dir, style)\n",
    "        if not os.path.exists(style_type_dir):\n",
    "            os.makedirs(style_type_dir)\n",
    "    \n",
    "        style_file = os.path.join(style_type_dir, style+\".html\")\n",
    "        \n",
    "        if not os.path.exists(style_file):\n",
    "            download_parse_ba(style_file, url)"
   ]
  },
  {
   "cell_type": "markdown",
   "metadata": {},
   "source": [
    "## Grab all pages that link to beer reviews based on first page"
   ]
  },
  {
   "cell_type": "code",
   "execution_count": 9,
   "metadata": {},
   "outputs": [
    {
     "name": "stdout",
     "output_type": "stream",
     "text": [
      "122\n",
      "Completed AmericanAmberRedAle\n",
      "27\n",
      "Completed AmericanBarleywine\n",
      "46\n",
      "Completed AmericanBlackAle\n",
      "81\n",
      "Completed AmericanBlondeAle\n",
      "78\n",
      "Completed AmericanBrownAle\n",
      "3\n",
      "Completed AmericanDarkWheatAle\n",
      "171\n",
      "Completed AmericanDoubleImperialIPA\n",
      "87\n",
      "Completed AmericanDoubleImperialStout\n",
      "441\n",
      "Completed AmericanIPA\n",
      "243\n",
      "Completed AmericanPaleAle\n",
      "59\n",
      "Completed AmericanPaleWheatAle\n",
      "118\n",
      "Completed AmericanPorter\n",
      "96\n",
      "Completed AmericanStout\n",
      "19\n",
      "Completed AmericanStrongAle\n",
      "97\n",
      "Completed AmericanWildAle\n",
      "1\n",
      "Completed BlackAndTan\n",
      "7\n",
      "Completed ChileBeer\n",
      "28\n",
      "Completed CreamAle\n",
      "27\n",
      "Completed PumpkinAle\n",
      "29\n",
      "Completed RyeBeer\n",
      "4\n",
      "Completed Wheatwine\n",
      "14\n",
      "Completed BelgianDarkAle\n",
      "24\n",
      "Completed BelgianIPA\n",
      "58\n",
      "Completed BelgianPaleAle\n",
      "25\n",
      "Completed BelgianStrongDarkAle\n",
      "28\n",
      "Completed BelgianStrongPaleAle\n",
      "0\n",
      "Completed BieredeChampagneBiereBrut\n",
      "12\n",
      "Completed BieredeGarde\n",
      "25\n",
      "Completed Dubbel\n",
      "0\n",
      "Completed Faro\n",
      "5\n",
      "Completed FlandersOudBruin\n",
      "6\n",
      "Completed FlandersRedAle\n",
      "2\n",
      "Completed Gueuze\n",
      "8\n",
      "Completed Lambic-Fruit\n",
      "1\n",
      "Completed Lambic-Unblended\n",
      "15\n",
      "Completed Quadrupel\n",
      "171\n",
      "Completed SaisonFarmhouseAle\n",
      "39\n",
      "Completed Tripel\n",
      "65\n",
      "Completed Witbier\n",
      "14\n",
      "Completed BalticPorter\n",
      "3\n",
      "Completed Braggot\n",
      "13\n",
      "Completed EnglishBarleywine\n",
      "46\n",
      "Completed EnglishBitter\n",
      "26\n",
      "Completed EnglishBrownAle\n",
      "14\n",
      "Completed EnglishDarkMildAle\n",
      "29\n",
      "Completed EnglishIndiaPaleAle\n",
      "44\n",
      "Completed EnglishPaleAle\n",
      "6\n",
      "Completed EnglishPaleMildAle\n",
      "27\n",
      "Completed EnglishPorter\n",
      "15\n",
      "Completed EnglishStout\n",
      "7\n",
      "Completed EnglishStrongAle\n",
      "32\n",
      "Completed ExtraSpecialStrongBitter\n",
      "9\n",
      "Completed ForeignExportStout\n",
      "41\n",
      "Completed MilkSweetStout\n",
      "34\n",
      "Completed OatmealStout\n",
      "10\n",
      "Completed OldAle\n",
      "40\n",
      "Completed RussianImperialStout\n",
      "21\n",
      "Completed WinterWarmer\n",
      "1\n",
      "Completed Sahti\n",
      "17\n",
      "Completed Altbier\n",
      "44\n",
      "Completed BerlinerWeissbier\n",
      "18\n",
      "Completed Dunkelweizen\n",
      "28\n",
      "Completed Gose\n",
      "74\n",
      "Completed Hefeweizen\n",
      "36\n",
      "Completed Kolsch\n",
      "3\n",
      "Completed Kristalweizen\n",
      "4\n",
      "Completed Roggenbier\n",
      "10\n",
      "Completed Weizenbock\n",
      "23\n",
      "Completed IrishDryStout\n",
      "25\n",
      "Completed IrishRedAle\n",
      "3\n",
      "Completed Kvass\n",
      "27\n",
      "Completed ScotchAleWeeHeavy\n",
      "20\n",
      "Completed ScottishAle\n",
      "4\n",
      "Completed ScottishGruitAncientHerbedAle\n"
     ]
    }
   ],
   "source": [
    "for beer_type, styles in style_link_dict.items():\n",
    "    \n",
    "    beer_type_dir = os.path.join(os.path.curdir, \"data\", beer_type)\n",
    "    \n",
    "    for style, url in styles.items():\n",
    "        \n",
    "        style_type_dir = os.path.join(beer_type_dir, style)\n",
    "        \n",
    "        first_style_file = os.path.join(style_type_dir, style+\".html\")\n",
    "        \n",
    "        beer_count = find_style_num(first_style_file)\n",
    "        \n",
    "        page_num = beer_count // 50\n",
    "        \n",
    "        print(page_num)\n",
    "        \n",
    "        # Get all pages that link to reviews of beer\n",
    "        \n",
    "        for i in range(1,page_num+1):\n",
    "            \n",
    "            style_file = os.path.join(style_type_dir, style+str(i)+\".html\")\n",
    "            url_params = url + \"?sort=revsD&start=\"+str(i*50)\n",
    "            \n",
    "        \n",
    "            if not os.path.exists(style_file):\n",
    "                download_parse_ba(style_file, url_params)\n",
    "        \n",
    "        print(\"Completed \"+style)\n",
    "        \n",
    "    # Grab just ales\n",
    "    break\n",
    "        "
   ]
  },
  {
   "cell_type": "markdown",
   "metadata": {
    "collapsed": true
   },
   "source": [
    "## Get data from pages on ales"
   ]
  },
  {
   "cell_type": "code",
   "execution_count": 10,
   "metadata": {
    "collapsed": true,
    "scrolled": false
   },
   "outputs": [],
   "source": [
    "ale_dict = dict()\n",
    "\n",
    "for style, url in style_link_dict[\"Ale\"].items():\n",
    "    \n",
    "    style_dir = os.path.join(\"data\", \"Ale\", style)\n",
    "    \n",
    "    first_style_file = os.path.join(style_dir, style+\".html\")\n",
    "    \n",
    "    beer_num = find_style_num(first_style_file)\n",
    "    \n",
    "    page_count = beer_num // 50\n",
    "    ale_dict[style] = dict()\n",
    "    \n",
    "    ale_dict[style], stop_reading = parse_beers_links(first_style_file, ale_dict[style])\n",
    "    \n",
    "    if stop_reading:\n",
    "        continue\n",
    "    \n",
    "    for i in range(1,page_count+1):\n",
    "        style_file = os.path.join(style_dir, style+str(i)+\".html\")\n",
    "        \n",
    "        ale_dict[style], stop_reading = parse_beers_links(style_file, ale_dict[style])\n",
    "        \n",
    "        if stop_reading:\n",
    "            break\n"
   ]
  },
  {
   "cell_type": "code",
   "execution_count": 11,
   "metadata": {},
   "outputs": [
    {
     "data": {
      "text/plain": [
       "5494"
      ]
     },
     "execution_count": 11,
     "metadata": {},
     "output_type": "execute_result"
    }
   ],
   "source": [
    "len(ale_dict['AmericanIPA'])"
   ]
  },
  {
   "cell_type": "code",
   "execution_count": 12,
   "metadata": {
    "scrolled": false
   },
   "outputs": [
    {
     "data": {
      "text/plain": [
       "37584"
      ]
     },
     "execution_count": 12,
     "metadata": {},
     "output_type": "execute_result"
    }
   ],
   "source": [
    "num_entries = 0\n",
    "for style, values in ale_dict.items():\n",
    "    num_entries += len(values)\n",
    "    \n",
    "num_entries"
   ]
  },
  {
   "cell_type": "code",
   "execution_count": 13,
   "metadata": {},
   "outputs": [
    {
     "name": "stdout",
     "output_type": "stream",
     "text": [
      "<class 'pandas.core.frame.DataFrame'>\n",
      "Index: 35753 entries, Fat Tire Amber Ale-New Belgium Brewing to Grewit Barrel-aged Old World Ale-Propolis Brewing\n",
      "Data columns (total 6 columns):\n",
      "link       35753 non-null object\n",
      "brewery    35753 non-null object\n",
      "abv        35753 non-null object\n",
      "score      35753 non-null object\n",
      "ratings    35753 non-null int64\n",
      "style      35753 non-null object\n",
      "dtypes: int64(1), object(5)\n",
      "memory usage: 1.9+ MB\n"
     ]
    }
   ],
   "source": [
    "ale_df_list = []\n",
    "for style, data in ale_dict.items():\n",
    "    temp_df = pd.DataFrame.from_dict(data, orient='index')\n",
    "    temp_df['style'] = style\n",
    "    ale_df_list.append(temp_df)\n",
    "\n",
    "ale_df = pd.concat(ale_df_list)\n",
    "ale_df.rename(columns={0: 'link', 1: 'brewery', 2: 'abv', 3:'score', 4:'ratings'}, inplace=True)\n",
    "\n",
    "filtered_ale_df = ale_df.loc[ale_df.abv != ' ? ', :] \n",
    "filtered_ale_df2 = filtered_ale_df.loc[filtered_ale_df.score != '-', :]\n",
    "\n",
    "filtered_ale_df2.info()"
   ]
  },
  {
   "cell_type": "code",
   "execution_count": 14,
   "metadata": {
    "collapsed": true
   },
   "outputs": [],
   "source": [
    "links = filtered_ale_df2.loc[:, 'link']\n"
   ]
  },
  {
   "cell_type": "code",
   "execution_count": 15,
   "metadata": {
    "collapsed": true
   },
   "outputs": [],
   "source": [
    "data_dir = os.path.join(os.path.curdir, \"data\")\n",
    "\n",
    "filtered_ale_df2.to_csv(os.path.join(data_dir,'initial_data.csv'))\n",
    "links.to_csv(os.path.join(data_dir,'links.csv'))"
   ]
  },
  {
   "cell_type": "markdown",
   "metadata": {},
   "source": [
    "## Get links for first 25 reviews"
   ]
  },
  {
   "cell_type": "code",
   "execution_count": 16,
   "metadata": {
    "collapsed": true
   },
   "outputs": [],
   "source": [
    "links_dict = links.to_dict()\n",
    "\n"
   ]
  },
  {
   "cell_type": "code",
   "execution_count": 17,
   "metadata": {
    "collapsed": true
   },
   "outputs": [],
   "source": [
    "beer_path = os.path.join(\"data\", \"beers\")\n",
    "\n",
    "if not os.path.exists(beer_path):\n",
    "    os.makedirs(beer_path)\n",
    "i = 0\n",
    "for beer, link in links_dict.items():\n",
    "    beer_file = os.path.join(beer_path, beer+\".html\")\n",
    "        \n",
    "    if not os.path.exists(beer_file):\n",
    "        download_parse_ba(beer_file, base_url+link)\n",
    "        \n",
    "    i += 1\n",
    "    #if not (i % 100):\n",
    "    #    time.sleep(60)\n",
    "    "
   ]
  },
  {
   "cell_type": "markdown",
   "metadata": {
    "collapsed": true
   },
   "source": [
    "## Parse downloaded pages for beer to get more numerical data"
   ]
  },
  {
   "cell_type": "code",
   "execution_count": null,
   "metadata": {
    "collapsed": true
   },
   "outputs": [],
   "source": [
    "\n"
   ]
  },
  {
   "cell_type": "code",
   "execution_count": 20,
   "metadata": {},
   "outputs": [
    {
     "name": "stdout",
     "output_type": "stream",
     "text": [
      "Otter Creek Brewing  Lawson's Double Or Nothing Maple Barleywine-Otter Creek Brewing.html\n",
      "Double Dry Hopped Cheddar Broccoli-Other Half Brewing Co.html\n",
      "Little Wolf-Zero Gravity Craft Brewery - Pine Street Brewery.html\n"
     ]
    }
   ],
   "source": [
    "beer_reviews_dict = parse_beer_reviews(links_dict)"
   ]
  },
  {
   "cell_type": "code",
   "execution_count": 21,
   "metadata": {
    "collapsed": true
   },
   "outputs": [],
   "source": [
    "beer_reviews_df = pd.DataFrame.from_dict(beer_reviews_dict, orient='index')"
   ]
  },
  {
   "cell_type": "code",
   "execution_count": 22,
   "metadata": {},
   "outputs": [
    {
     "name": "stdout",
     "output_type": "stream",
     "text": [
      "<class 'pandas.core.frame.DataFrame'>\n",
      "Index: 35748 entries,  Illustrated Man Dark Sour with Berries-Independence Brewing Co to ﻿Boji Blue Pale Ale-Okoboji Brewing Company\n",
      "Data columns (total 10 columns):\n",
      "ba_score    34181 non-null float64\n",
      "ratings     35748 non-null object\n",
      "reviews     35748 non-null object\n",
      "perc_dev    35748 non-null object\n",
      "wants       35748 non-null object\n",
      "gots        35748 non-null object\n",
      "look        35625 non-null float64\n",
      "smell       35625 non-null float64\n",
      "taste       35625 non-null float64\n",
      "feel        35625 non-null float64\n",
      "dtypes: float64(5), object(5)\n",
      "memory usage: 3.0+ MB\n"
     ]
    }
   ],
   "source": [
    "beer_reviews_df.info()"
   ]
  },
  {
   "cell_type": "code",
   "execution_count": 23,
   "metadata": {
    "collapsed": true
   },
   "outputs": [],
   "source": [
    "file_path = os.path.join(os.path.curdir, \"data\", \"beer_review_data.csv\")"
   ]
  },
  {
   "cell_type": "code",
   "execution_count": 24,
   "metadata": {
    "collapsed": true
   },
   "outputs": [],
   "source": [
    "beer_reviews_df.to_csv(file_path)"
   ]
  },
  {
   "cell_type": "code",
   "execution_count": 25,
   "metadata": {},
   "outputs": [
    {
     "data": {
      "text/plain": [
       "'13'"
      ]
     },
     "execution_count": 25,
     "metadata": {},
     "output_type": "execute_result"
    }
   ],
   "source": [
    "beer_reviews_df.ratings[0]"
   ]
  },
  {
   "cell_type": "code",
   "execution_count": 27,
   "metadata": {},
   "outputs": [
    {
     "data": {
      "text/plain": [
       "<matplotlib.axes._subplots.AxesSubplot at 0x7f9092244550>"
      ]
     },
     "execution_count": 27,
     "metadata": {},
     "output_type": "execute_result"
    },
    {
     "data": {
      "image/png": "[encoded data removed]",
      "text/plain": [
       "<matplotlib.figure.Figure at 0x7f9092737588>"
      ]
     },
     "metadata": {},
     "output_type": "display_data"
    }
   ],
   "source": [
    "beer_reviews_df.feel.plot('hist')"
   ]
  },
  {
   "cell_type": "markdown",
   "metadata": {
    "collapsed": true
   },
   "source": [
    "## Reload csv to avoid processing again"
   ]
  },
  {
   "cell_type": "code",
   "execution_count": 5,
   "metadata": {},
   "outputs": [
    {
     "name": "stdout",
     "output_type": "stream",
     "text": [
      "<class 'pandas.core.frame.DataFrame'>\n",
      "Index: 35753 entries, Fat Tire Amber Ale-New Belgium Brewing to Grewit Barrel-aged Old World Ale-Propolis Brewing\n",
      "Data columns (total 6 columns):\n",
      "link       35753 non-null object\n",
      "brewery    35753 non-null object\n",
      "abv        35753 non-null float64\n",
      "score      35753 non-null float64\n",
      "ratings    35753 non-null int64\n",
      "style      35753 non-null object\n",
      "dtypes: float64(2), int64(1), object(3)\n",
      "memory usage: 1.9+ MB\n"
     ]
    }
   ],
   "source": [
    "data_dir = os.path.join(os.path.curdir, \"data\")\n",
    "\n",
    "style_data = pd.read_csv(os.path.join(data_dir,'initial_data.csv'), index_col=0)\n",
    "review_data = pd.read_csv(os.path.join(data_dir, 'beer_review_data.csv'), index_col=0)\n",
    "\n",
    "style_data.info()"
   ]
  },
  {
   "cell_type": "code",
   "execution_count": 6,
   "metadata": {},
   "outputs": [
    {
     "name": "stdout",
     "output_type": "stream",
     "text": [
      "<class 'pandas.core.frame.DataFrame'>\n",
      "Index: 35748 entries,  Illustrated Man Dark Sour with Berries-Independence Brewing Co to ﻿Boji Blue Pale Ale-Okoboji Brewing Company\n",
      "Data columns (total 10 columns):\n",
      "ba_score    34181 non-null float64\n",
      "ratings     35748 non-null object\n",
      "reviews     35748 non-null object\n",
      "perc_dev    35748 non-null object\n",
      "wants       35748 non-null object\n",
      "gots        35748 non-null object\n",
      "look        35625 non-null float64\n",
      "smell       35625 non-null float64\n",
      "taste       35625 non-null float64\n",
      "feel        35625 non-null float64\n",
      "dtypes: float64(5), object(5)\n",
      "memory usage: 3.0+ MB\n"
     ]
    }
   ],
   "source": [
    "review_data.info()"
   ]
  },
  {
   "cell_type": "code",
   "execution_count": 12,
   "metadata": {},
   "outputs": [],
   "source": [
    "combined_data = review_data.merge(style_data, how='inner', left_index=True, right_index=True)"
   ]
  },
  {
   "cell_type": "code",
   "execution_count": 13,
   "metadata": {},
   "outputs": [
    {
     "data": {
      "text/html": [
       "<div>\n",
       "<style>\n",
       "    .dataframe thead tr:only-child th {\n",
       "        text-align: right;\n",
       "    }\n",
       "\n",
       "    .dataframe thead th {\n",
       "        text-align: left;\n",
       "    }\n",
       "\n",
       "    .dataframe tbody tr th {\n",
       "        vertical-align: top;\n",
       "    }\n",
       "</style>\n",
       "<table border=\"1\" class=\"dataframe\">\n",
       "  <thead>\n",
       "    <tr style=\"text-align: right;\">\n",
       "      <th></th>\n",
       "      <th>ba_score</th>\n",
       "      <th>ratings_x</th>\n",
       "      <th>reviews</th>\n",
       "      <th>perc_dev</th>\n",
       "      <th>wants</th>\n",
       "      <th>gots</th>\n",
       "      <th>look</th>\n",
       "      <th>smell</th>\n",
       "      <th>taste</th>\n",
       "      <th>feel</th>\n",
       "      <th>link</th>\n",
       "      <th>brewery</th>\n",
       "      <th>abv</th>\n",
       "      <th>score</th>\n",
       "      <th>ratings_y</th>\n",
       "      <th>style</th>\n",
       "    </tr>\n",
       "  </thead>\n",
       "  <tbody>\n",
       "    <tr>\n",
       "      <th>Illustrated Man Dark Sour with Berries-Independence Brewing Co</th>\n",
       "      <td>84.0</td>\n",
       "      <td>13</td>\n",
       "      <td>1</td>\n",
       "      <td>11.58%</td>\n",
       "      <td>0</td>\n",
       "      <td>4</td>\n",
       "      <td>3.846154</td>\n",
       "      <td>3.769231</td>\n",
       "      <td>3.769231</td>\n",
       "      <td>3.846154</td>\n",
       "      <td>/beer/profile/10284/271687/</td>\n",
       "      <td>Independence Brewing Co</td>\n",
       "      <td>5.50</td>\n",
       "      <td>3.80</td>\n",
       "      <td>13</td>\n",
       "      <td>AmericanWildAle</td>\n",
       "    </tr>\n",
       "    <tr>\n",
       "      <th>!!!PA Simcoe Mosaic-To Øl</th>\n",
       "      <td>82.0</td>\n",
       "      <td>13</td>\n",
       "      <td>7</td>\n",
       "      <td>27.83%</td>\n",
       "      <td>0</td>\n",
       "      <td>1</td>\n",
       "      <td>3.500000</td>\n",
       "      <td>3.461538</td>\n",
       "      <td>3.423077</td>\n",
       "      <td>3.519231</td>\n",
       "      <td>/beer/profile/24299/255424/</td>\n",
       "      <td>To Øl</td>\n",
       "      <td>13.00</td>\n",
       "      <td>3.27</td>\n",
       "      <td>13</td>\n",
       "      <td>AmericanDoubleImperialIPA</td>\n",
       "    </tr>\n",
       "    <tr>\n",
       "      <th>\"633\" American Pale Ale-Boothbay Craft Brewery  Watershed Tavern</th>\n",
       "      <td>84.0</td>\n",
       "      <td>24</td>\n",
       "      <td>6</td>\n",
       "      <td>13.46%</td>\n",
       "      <td>0</td>\n",
       "      <td>3</td>\n",
       "      <td>3.602941</td>\n",
       "      <td>3.529412</td>\n",
       "      <td>3.411765</td>\n",
       "      <td>3.500000</td>\n",
       "      <td>/beer/profile/29390/82909/</td>\n",
       "      <td>Boothbay Craft Brewery  Watershed Tavern</td>\n",
       "      <td>6.33</td>\n",
       "      <td>3.78</td>\n",
       "      <td>23</td>\n",
       "      <td>AmericanPaleAle</td>\n",
       "    </tr>\n",
       "    <tr>\n",
       "      <th>\"Admiral\" Stash-Milwaukee Brewing Company</th>\n",
       "      <td>85.0</td>\n",
       "      <td>50</td>\n",
       "      <td>9</td>\n",
       "      <td>14.47%</td>\n",
       "      <td>2</td>\n",
       "      <td>10</td>\n",
       "      <td>3.772727</td>\n",
       "      <td>3.750000</td>\n",
       "      <td>3.840909</td>\n",
       "      <td>3.795455</td>\n",
       "      <td>/beer/profile/18680/79709/</td>\n",
       "      <td>Milwaukee Brewing Company</td>\n",
       "      <td>7.00</td>\n",
       "      <td>3.87</td>\n",
       "      <td>50</td>\n",
       "      <td>BalticPorter</td>\n",
       "    </tr>\n",
       "    <tr>\n",
       "      <th>\"Keeper!\"-The Phoenix Ale Brewery</th>\n",
       "      <td>83.0</td>\n",
       "      <td>24</td>\n",
       "      <td>2</td>\n",
       "      <td>13.74%</td>\n",
       "      <td>0</td>\n",
       "      <td>3</td>\n",
       "      <td>3.583333</td>\n",
       "      <td>3.416667</td>\n",
       "      <td>3.472222</td>\n",
       "      <td>3.527778</td>\n",
       "      <td>/beer/profile/26382/106601/</td>\n",
       "      <td>The Phoenix Ale Brewery</td>\n",
       "      <td>6.30</td>\n",
       "      <td>3.64</td>\n",
       "      <td>24</td>\n",
       "      <td>BieredeGarde</td>\n",
       "    </tr>\n",
       "  </tbody>\n",
       "</table>\n",
       "</div>"
      ],
      "text/plain": [
       "                                                    ba_score ratings_x  \\\n",
       " Illustrated Man Dark Sour with Berries-Indepen...      84.0        13   \n",
       "!!!PA Simcoe Mosaic-To Øl                               82.0        13   \n",
       "\"633\" American Pale Ale-Boothbay Craft Brewery ...      84.0        24   \n",
       "\"Admiral\" Stash-Milwaukee Brewing Company               85.0        50   \n",
       "\"Keeper!\"-The Phoenix Ale Brewery                       83.0        24   \n",
       "\n",
       "                                                   reviews perc_dev wants  \\\n",
       " Illustrated Man Dark Sour with Berries-Indepen...       1   11.58%     0   \n",
       "!!!PA Simcoe Mosaic-To Øl                                7   27.83%     0   \n",
       "\"633\" American Pale Ale-Boothbay Craft Brewery ...       6   13.46%     0   \n",
       "\"Admiral\" Stash-Milwaukee Brewing Company                9   14.47%     2   \n",
       "\"Keeper!\"-The Phoenix Ale Brewery                        2   13.74%     0   \n",
       "\n",
       "                                                   gots      look     smell  \\\n",
       " Illustrated Man Dark Sour with Berries-Indepen...    4  3.846154  3.769231   \n",
       "!!!PA Simcoe Mosaic-To Øl                             1  3.500000  3.461538   \n",
       "\"633\" American Pale Ale-Boothbay Craft Brewery ...    3  3.602941  3.529412   \n",
       "\"Admiral\" Stash-Milwaukee Brewing Company            10  3.772727  3.750000   \n",
       "\"Keeper!\"-The Phoenix Ale Brewery                     3  3.583333  3.416667   \n",
       "\n",
       "                                                       taste      feel  \\\n",
       " Illustrated Man Dark Sour with Berries-Indepen...  3.769231  3.846154   \n",
       "!!!PA Simcoe Mosaic-To Øl                           3.423077  3.519231   \n",
       "\"633\" American Pale Ale-Boothbay Craft Brewery ...  3.411765  3.500000   \n",
       "\"Admiral\" Stash-Milwaukee Brewing Company           3.840909  3.795455   \n",
       "\"Keeper!\"-The Phoenix Ale Brewery                   3.472222  3.527778   \n",
       "\n",
       "                                                                           link  \\\n",
       " Illustrated Man Dark Sour with Berries-Indepen...  /beer/profile/10284/271687/   \n",
       "!!!PA Simcoe Mosaic-To Øl                           /beer/profile/24299/255424/   \n",
       "\"633\" American Pale Ale-Boothbay Craft Brewery ...   /beer/profile/29390/82909/   \n",
       "\"Admiral\" Stash-Milwaukee Brewing Company            /beer/profile/18680/79709/   \n",
       "\"Keeper!\"-The Phoenix Ale Brewery                   /beer/profile/26382/106601/   \n",
       "\n",
       "                                                                                     brewery  \\\n",
       " Illustrated Man Dark Sour with Berries-Indepen...                   Independence Brewing Co   \n",
       "!!!PA Simcoe Mosaic-To Øl                                                              To Øl   \n",
       "\"633\" American Pale Ale-Boothbay Craft Brewery ...  Boothbay Craft Brewery  Watershed Tavern   \n",
       "\"Admiral\" Stash-Milwaukee Brewing Company                          Milwaukee Brewing Company   \n",
       "\"Keeper!\"-The Phoenix Ale Brewery                                    The Phoenix Ale Brewery   \n",
       "\n",
       "                                                      abv  score  ratings_y  \\\n",
       " Illustrated Man Dark Sour with Berries-Indepen...   5.50   3.80         13   \n",
       "!!!PA Simcoe Mosaic-To Øl                           13.00   3.27         13   \n",
       "\"633\" American Pale Ale-Boothbay Craft Brewery ...   6.33   3.78         23   \n",
       "\"Admiral\" Stash-Milwaukee Brewing Company            7.00   3.87         50   \n",
       "\"Keeper!\"-The Phoenix Ale Brewery                    6.30   3.64         24   \n",
       "\n",
       "                                                                        style  \n",
       " Illustrated Man Dark Sour with Berries-Indepen...            AmericanWildAle  \n",
       "!!!PA Simcoe Mosaic-To Øl                           AmericanDoubleImperialIPA  \n",
       "\"633\" American Pale Ale-Boothbay Craft Brewery ...            AmericanPaleAle  \n",
       "\"Admiral\" Stash-Milwaukee Brewing Company                        BalticPorter  \n",
       "\"Keeper!\"-The Phoenix Ale Brewery                                BieredeGarde  "
      ]
     },
     "execution_count": 13,
     "metadata": {},
     "output_type": "execute_result"
    }
   ],
   "source": [
    "combined_data.head()"
   ]
  },
  {
   "cell_type": "code",
   "execution_count": 14,
   "metadata": {},
   "outputs": [
    {
     "name": "stdout",
     "output_type": "stream",
     "text": [
      "<class 'pandas.core.frame.DataFrame'>\n",
      "Index: 35750 entries,  Illustrated Man Dark Sour with Berries-Independence Brewing Co to ﻿Boji Blue Pale Ale-Okoboji Brewing Company\n",
      "Data columns (total 16 columns):\n",
      "ba_score     34183 non-null float64\n",
      "ratings_x    35750 non-null object\n",
      "reviews      35750 non-null object\n",
      "perc_dev     35750 non-null object\n",
      "wants        35750 non-null object\n",
      "gots         35750 non-null object\n",
      "look         35627 non-null float64\n",
      "smell        35627 non-null float64\n",
      "taste        35627 non-null float64\n",
      "feel         35627 non-null float64\n",
      "link         35750 non-null object\n",
      "brewery      35750 non-null object\n",
      "abv          35750 non-null float64\n",
      "score        35750 non-null float64\n",
      "ratings_y    35750 non-null int64\n",
      "style        35750 non-null object\n",
      "dtypes: float64(7), int64(1), object(8)\n",
      "memory usage: 4.6+ MB\n"
     ]
    }
   ],
   "source": [
    "combined_data.info()"
   ]
  },
  {
   "cell_type": "code",
   "execution_count": 18,
   "metadata": {
    "collapsed": true
   },
   "outputs": [],
   "source": [
    "combined_data.drop('ratings_y', inplace=True, axis=1)"
   ]
  },
  {
   "cell_type": "code",
   "execution_count": 20,
   "metadata": {},
   "outputs": [],
   "source": [
    "combined_data.rename(columns={'ratings_x' : 'ratings'}, inplace=True)"
   ]
  },
  {
   "cell_type": "code",
   "execution_count": 21,
   "metadata": {},
   "outputs": [
    {
     "name": "stdout",
     "output_type": "stream",
     "text": [
      "<class 'pandas.core.frame.DataFrame'>\n",
      "Index: 35750 entries,  Illustrated Man Dark Sour with Berries-Independence Brewing Co to ﻿Boji Blue Pale Ale-Okoboji Brewing Company\n",
      "Data columns (total 15 columns):\n",
      "ba_score    34183 non-null float64\n",
      "ratings     35750 non-null object\n",
      "reviews     35750 non-null object\n",
      "perc_dev    35750 non-null object\n",
      "wants       35750 non-null object\n",
      "gots        35750 non-null object\n",
      "look        35627 non-null float64\n",
      "smell       35627 non-null float64\n",
      "taste       35627 non-null float64\n",
      "feel        35627 non-null float64\n",
      "link        35750 non-null object\n",
      "brewery     35750 non-null object\n",
      "abv         35750 non-null float64\n",
      "score       35750 non-null float64\n",
      "style       35750 non-null object\n",
      "dtypes: float64(7), object(8)\n",
      "memory usage: 4.4+ MB\n"
     ]
    }
   ],
   "source": [
    "combined_data.info()"
   ]
  },
  {
   "cell_type": "code",
   "execution_count": 23,
   "metadata": {},
   "outputs": [],
   "source": [
    "combined_data['perc_dev_1'] = combined_data['perc_dev'].str.replace(\"%\", \"\")"
   ]
  },
  {
   "cell_type": "code",
   "execution_count": 25,
   "metadata": {},
   "outputs": [],
   "source": [
    "combined_data['perc_dev'] = combined_data.perc_dev_1.map(lambda x: float(x))"
   ]
  },
  {
   "cell_type": "code",
   "execution_count": 27,
   "metadata": {},
   "outputs": [],
   "source": [
    "combined_data.drop('perc_dev_1', inplace=True, axis=1)"
   ]
  },
  {
   "cell_type": "code",
   "execution_count": 34,
   "metadata": {},
   "outputs": [
    {
     "ename": "AttributeError",
     "evalue": "Can only use .str accessor with string values, which use np.object_ dtype in pandas",
     "output_type": "error",
     "traceback": [
      "\u001b[0;31m---------------------------------------------------------------------------\u001b[0m",
      "\u001b[0;31mAttributeError\u001b[0m                            Traceback (most recent call last)",
      "\u001b[0;32m<ipython-input-34-39b4371edeb3>\u001b[0m in \u001b[0;36m<module>\u001b[0;34m()\u001b[0m\n\u001b[0;32m----> 1\u001b[0;31m \u001b[0mcombined_data\u001b[0m\u001b[0;34m[\u001b[0m\u001b[0;34m'reviews'\u001b[0m\u001b[0;34m]\u001b[0m \u001b[0;34m=\u001b[0m \u001b[0mcombined_data\u001b[0m\u001b[0;34m.\u001b[0m\u001b[0mreviews\u001b[0m\u001b[0;34m.\u001b[0m\u001b[0mstr\u001b[0m\u001b[0;34m.\u001b[0m\u001b[0mreplace\u001b[0m\u001b[0;34m(\u001b[0m\u001b[0;34m\",\"\u001b[0m\u001b[0;34m,\u001b[0m \u001b[0;34m\"\"\u001b[0m\u001b[0;34m)\u001b[0m\u001b[0;34m\u001b[0m\u001b[0m\n\u001b[0m\u001b[1;32m      2\u001b[0m \u001b[0mcombined_data\u001b[0m\u001b[0;34m[\u001b[0m\u001b[0;34m'ratings'\u001b[0m\u001b[0;34m]\u001b[0m \u001b[0;34m=\u001b[0m \u001b[0mcombined_data\u001b[0m\u001b[0;34m.\u001b[0m\u001b[0mratings\u001b[0m\u001b[0;34m.\u001b[0m\u001b[0mstr\u001b[0m\u001b[0;34m.\u001b[0m\u001b[0mreplace\u001b[0m\u001b[0;34m(\u001b[0m\u001b[0;34m\",\"\u001b[0m\u001b[0;34m,\u001b[0m \u001b[0;34m\"\"\u001b[0m\u001b[0;34m)\u001b[0m\u001b[0;34m\u001b[0m\u001b[0m\n\u001b[1;32m      3\u001b[0m \u001b[0mcombined_data\u001b[0m\u001b[0;34m[\u001b[0m\u001b[0;34m'wants'\u001b[0m\u001b[0;34m]\u001b[0m \u001b[0;34m=\u001b[0m \u001b[0mcombined_data\u001b[0m\u001b[0;34m.\u001b[0m\u001b[0mwants\u001b[0m\u001b[0;34m.\u001b[0m\u001b[0mstr\u001b[0m\u001b[0;34m.\u001b[0m\u001b[0mreplace\u001b[0m\u001b[0;34m(\u001b[0m\u001b[0;34m\",\"\u001b[0m\u001b[0;34m,\u001b[0m \u001b[0;34m\"\"\u001b[0m\u001b[0;34m)\u001b[0m\u001b[0;34m\u001b[0m\u001b[0m\n\u001b[1;32m      4\u001b[0m \u001b[0mcombined_data\u001b[0m\u001b[0;34m[\u001b[0m\u001b[0;34m'gots'\u001b[0m\u001b[0;34m]\u001b[0m \u001b[0;34m=\u001b[0m \u001b[0mcombined_data\u001b[0m\u001b[0;34m.\u001b[0m\u001b[0mgots\u001b[0m\u001b[0;34m.\u001b[0m\u001b[0mstr\u001b[0m\u001b[0;34m.\u001b[0m\u001b[0mreplace\u001b[0m\u001b[0;34m(\u001b[0m\u001b[0;34m\",\"\u001b[0m\u001b[0;34m,\u001b[0m \u001b[0;34m\"\"\u001b[0m\u001b[0;34m)\u001b[0m\u001b[0;34m\u001b[0m\u001b[0m\n",
      "\u001b[0;32m/home/aaron/anaconda3/lib/python3.6/site-packages/pandas/core/generic.py\u001b[0m in \u001b[0;36m__getattr__\u001b[0;34m(self, name)\u001b[0m\n\u001b[1;32m   2964\u001b[0m         if (name in self._internal_names_set or name in self._metadata or\n\u001b[1;32m   2965\u001b[0m                 name in self._accessors):\n\u001b[0;32m-> 2966\u001b[0;31m             \u001b[0;32mreturn\u001b[0m \u001b[0mobject\u001b[0m\u001b[0;34m.\u001b[0m\u001b[0m__getattribute__\u001b[0m\u001b[0;34m(\u001b[0m\u001b[0mself\u001b[0m\u001b[0;34m,\u001b[0m \u001b[0mname\u001b[0m\u001b[0;34m)\u001b[0m\u001b[0;34m\u001b[0m\u001b[0m\n\u001b[0m\u001b[1;32m   2967\u001b[0m         \u001b[0;32melse\u001b[0m\u001b[0;34m:\u001b[0m\u001b[0;34m\u001b[0m\u001b[0m\n\u001b[1;32m   2968\u001b[0m             \u001b[0;32mif\u001b[0m \u001b[0mname\u001b[0m \u001b[0;32min\u001b[0m \u001b[0mself\u001b[0m\u001b[0;34m.\u001b[0m\u001b[0m_info_axis\u001b[0m\u001b[0;34m:\u001b[0m\u001b[0;34m\u001b[0m\u001b[0m\n",
      "\u001b[0;32m/home/aaron/anaconda3/lib/python3.6/site-packages/pandas/core/base.py\u001b[0m in \u001b[0;36m__get__\u001b[0;34m(self, instance, owner)\u001b[0m\n\u001b[1;32m    241\u001b[0m             \u001b[0;31m# this ensures that Series.str.<method> is well defined\u001b[0m\u001b[0;34m\u001b[0m\u001b[0;34m\u001b[0m\u001b[0m\n\u001b[1;32m    242\u001b[0m             \u001b[0;32mreturn\u001b[0m \u001b[0mself\u001b[0m\u001b[0;34m.\u001b[0m\u001b[0maccessor_cls\u001b[0m\u001b[0;34m\u001b[0m\u001b[0m\n\u001b[0;32m--> 243\u001b[0;31m         \u001b[0;32mreturn\u001b[0m \u001b[0mself\u001b[0m\u001b[0;34m.\u001b[0m\u001b[0mconstruct_accessor\u001b[0m\u001b[0;34m(\u001b[0m\u001b[0minstance\u001b[0m\u001b[0;34m)\u001b[0m\u001b[0;34m\u001b[0m\u001b[0m\n\u001b[0m\u001b[1;32m    244\u001b[0m \u001b[0;34m\u001b[0m\u001b[0m\n\u001b[1;32m    245\u001b[0m     \u001b[0;32mdef\u001b[0m \u001b[0m__set__\u001b[0m\u001b[0;34m(\u001b[0m\u001b[0mself\u001b[0m\u001b[0;34m,\u001b[0m \u001b[0minstance\u001b[0m\u001b[0;34m,\u001b[0m \u001b[0mvalue\u001b[0m\u001b[0;34m)\u001b[0m\u001b[0;34m:\u001b[0m\u001b[0;34m\u001b[0m\u001b[0m\n",
      "\u001b[0;32m/home/aaron/anaconda3/lib/python3.6/site-packages/pandas/core/strings.py\u001b[0m in \u001b[0;36m_make_str_accessor\u001b[0;34m(self)\u001b[0m\n\u001b[1;32m   1907\u001b[0m             \u001b[0;31m# (instead of test for object dtype), but that isn't practical for\u001b[0m\u001b[0;34m\u001b[0m\u001b[0;34m\u001b[0m\u001b[0m\n\u001b[1;32m   1908\u001b[0m             \u001b[0;31m# performance reasons until we have a str dtype (GH 9343)\u001b[0m\u001b[0;34m\u001b[0m\u001b[0;34m\u001b[0m\u001b[0m\n\u001b[0;32m-> 1909\u001b[0;31m             raise AttributeError(\"Can only use .str accessor with string \"\n\u001b[0m\u001b[1;32m   1910\u001b[0m                                  \u001b[0;34m\"values, which use np.object_ dtype in \"\u001b[0m\u001b[0;34m\u001b[0m\u001b[0m\n\u001b[1;32m   1911\u001b[0m                                  \"pandas\")\n",
      "\u001b[0;31mAttributeError\u001b[0m: Can only use .str accessor with string values, which use np.object_ dtype in pandas"
     ]
    }
   ],
   "source": [
    "combined_data['reviews'] = combined_data.reviews.str.replace(\",\", \"\")\n",
    "combined_data['ratings'] = combined_data.ratings.str.replace(\",\", \"\")\n"
   ]
  },
  {
   "cell_type": "code",
   "execution_count": 35,
   "metadata": {
    "collapsed": true
   },
   "outputs": [],
   "source": [
    "combined_data['wants'] = combined_data.wants.str.replace(\",\", \"\")\n",
    "combined_data['gots'] = combined_data.gots.str.replace(\",\", \"\")"
   ]
  },
  {
   "cell_type": "code",
   "execution_count": 31,
   "metadata": {
    "collapsed": true
   },
   "outputs": [],
   "source": [
    "combined_data['reviews'] = combined_data.reviews.map(lambda x: int(x))\n",
    "combined_data['ratings'] = combined_data.ratings.map(lambda x: int(x))\n"
   ]
  },
  {
   "cell_type": "code",
   "execution_count": 36,
   "metadata": {
    "collapsed": true
   },
   "outputs": [],
   "source": [
    "combined_data['wants'] = combined_data.wants.map(lambda x: int(x))\n",
    "combined_data['gots'] = combined_data.gots.map(lambda x: int(x))"
   ]
  },
  {
   "cell_type": "code",
   "execution_count": 43,
   "metadata": {},
   "outputs": [],
   "source": [
    "cleaned_data = combined_data.loc[combined_data.ba_score.notnull(), :]"
   ]
  },
  {
   "cell_type": "code",
   "execution_count": 44,
   "metadata": {},
   "outputs": [
    {
     "name": "stdout",
     "output_type": "stream",
     "text": [
      "<class 'pandas.core.frame.DataFrame'>\n",
      "Index: 34183 entries,  Illustrated Man Dark Sour with Berries-Independence Brewing Co to ﻿Boji Blue Pale Ale-Okoboji Brewing Company\n",
      "Data columns (total 15 columns):\n",
      "ba_score    34183 non-null float64\n",
      "ratings     34183 non-null int64\n",
      "reviews     34183 non-null int64\n",
      "perc_dev    34183 non-null float64\n",
      "wants       34183 non-null int64\n",
      "gots        34183 non-null int64\n",
      "look        34134 non-null float64\n",
      "smell       34134 non-null float64\n",
      "taste       34134 non-null float64\n",
      "feel        34134 non-null float64\n",
      "link        34183 non-null object\n",
      "brewery     34183 non-null object\n",
      "abv         34183 non-null float64\n",
      "score       34183 non-null float64\n",
      "style       34183 non-null object\n",
      "dtypes: float64(8), int64(4), object(3)\n",
      "memory usage: 4.2+ MB\n"
     ]
    }
   ],
   "source": [
    "cleaned_data.info()"
   ]
  },
  {
   "cell_type": "code",
   "execution_count": 46,
   "metadata": {},
   "outputs": [],
   "source": [
    "cleaned_data.to_csv(os.path.join(\"data\", \"cleaned_beer_data.csv\"))"
   ]
  },
  {
   "cell_type": "code",
   "execution_count": null,
   "metadata": {
    "collapsed": true
   },
   "outputs": [],
   "source": []
  }
 ],
 "metadata": {
  "kernelspec": {
   "display_name": "Python 3",
   "language": "python",
   "name": "python3"
  },
  "language_info": {
   "codemirror_mode": {
    "name": "ipython",
    "version": 3
   },
   "file_extension": ".py",
   "mimetype": "text/x-python",
   "name": "python",
   "nbconvert_exporter": "python",
   "pygments_lexer": "ipython3",
   "version": "3.6.1"
  }
 },
 "nbformat": 4,
 "nbformat_minor": 2
}
