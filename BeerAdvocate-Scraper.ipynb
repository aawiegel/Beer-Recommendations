{
 "cells": [
  {
   "cell_type": "markdown",
   "metadata": {},
   "source": [
    "# Scrape BeerAdvocate for beer ratings\n",
    "This notebook scrapes BeerAdvocate for ratings of beer to subsequently perform linear regression on the ratings in terms of other available information on the beer. We start with the style page since we can use this to obtain a list of all beers of that style easily from there."
   ]
  },
  {
   "cell_type": "code",
   "execution_count": 1,
   "metadata": {
    "collapsed": true
   },
   "outputs": [],
   "source": [
    "import pandas as pd\n",
    "import numpy as np\n",
    "from bs4 import BeautifulSoup\n",
    "import requests\n",
    "import random\n",
    "import os\n",
    "import re\n",
    "import time\n",
    "import matplotlib.pyplot as plt\n",
    "import seaborn as sns\n",
    "from fake_useragent import UserAgent\n",
    "from collections import defaultdict\n",
    "\n",
    "%matplotlib inline"
   ]
  },
  {
   "cell_type": "markdown",
   "metadata": {},
   "source": [
    "## Useful constants and functions"
   ]
  },
  {
   "cell_type": "code",
   "execution_count": 2,
   "metadata": {
    "collapsed": true
   },
   "outputs": [],
   "source": [
    "base_url = \"https://www.beeradvocate.com\"\n",
    "start_url = base_url+\"/beer/style/\"\n",
    "\n",
    "ua = UserAgent()\n",
    "\n",
    "def download_parse_ba(style_file, url):\n",
    "    \"\"\"\n",
    "    sytle_file: file to be written (including subdirectory)\n",
    "    url: url to read from\n",
    "    Reads a url from BeerAdvocate.com and dumps\n",
    "    its main content into a local HTML file\n",
    "    \"\"\"\n",
    "    \n",
    "    user_agent = {'User-agent': ua.random}\n",
    "    \n",
    "    r = requests.get(url, headers = user_agent)\n",
    "    soup = BeautifulSoup(r.text, \"lxml\")\n",
    "    main_content = soup.find(id='ba-content')\n",
    "    \n",
    "    with open(style_file, 'w') as file:\n",
    "        file.write(str(main_content))\n",
    "    \n",
    "    time.sleep(random.uniform(1, 3))\n",
    "    \n",
    "    return\n",
    "\n",
    "def find_style_num(style_file):\n",
    "    \"\"\"\n",
    "    style_file: html file in style list\n",
    "    Returns the total number of beers in the style category\n",
    "    \"\"\"\n",
    "    with open(style_file, 'r') as file:\n",
    "        page = file.read()\n",
    "    \n",
    "    soup = BeautifulSoup(page,\"lxml\")\n",
    "        \n",
    "    # Find number of beers for the style\n",
    "\n",
    "    beer_num_tag = soup.find('table').find('span').find('b').text\n",
    "    \n",
    "    # Find 'word' directly to the left of a parentheses\n",
    "    criteria = re.compile('\\w+\\)')\n",
    "\n",
    "    found = re.search(criteria, beer_num_tag)\n",
    "    \n",
    "    return int(found.group(0).split(')')[0])\n",
    "\n",
    "def parse_beers_links(style_file, beer_dict):\n",
    "    \"\"\"\n",
    "    style_file: html file in style list\n",
    "    beer_links: reference to dictionary of beers to update\n",
    "    Updates dictionary with each beer, its associated data,\n",
    "    and a link to its review page\n",
    "    Returns True if a beer on the page had less than 10 ratings\n",
    "    Returns False otherwise\n",
    "    \"\"\"\n",
    "    \n",
    "    with open(style_file, 'r') as file:\n",
    "        soup = BeautifulSoup(file.read(), \"lxml\")\n",
    "        \n",
    "    beer_rows = soup.find(\"table\").findAll(\"tr\")\n",
    "    \n",
    "    # Flag to stop reading entries when number of ratings is less than 10\n",
    "    stop_flag = False\n",
    "    \n",
    "    for beer_row in beer_rows[3:len(beer_rows)-1]:\n",
    "        table_entries = beer_row.findAll(\"td\")\n",
    "        namelink = table_entries[0].find(\"a\")\n",
    "    \n",
    "        beer_link = namelink['href']\n",
    "        beer_name = namelink.text\n",
    "        \n",
    "        brewery = table_entries[1].find(\"a\").text\n",
    "        \n",
    "        abv = table_entries[2].find(\"span\").text\n",
    "        \n",
    "        score = table_entries[3].find(\"b\").text\n",
    "        \n",
    "        ratings = int(re.sub(\",\", \"\", table_entries[4].find(\"b\").text))\n",
    "        \n",
    "        if ratings < 10:\n",
    "            stop_flag = True\n",
    "    \n",
    "        beer_dict[beer_name] = [beer_link, brewery, abv, score, ratings]\n",
    "    \n",
    "    return beer_dict, stop_flag"
   ]
  },
  {
   "cell_type": "markdown",
   "metadata": {},
   "source": [
    "## Grab first style file to start"
   ]
  },
  {
   "cell_type": "code",
   "execution_count": 3,
   "metadata": {
    "collapsed": true
   },
   "outputs": [],
   "source": [
    "\n",
    "\n",
    "styles = os.path.join(os.path.curdir, \"data\", \"styles.html\")\n",
    "\n",
    "if not os.path.exists(styles):\n",
    "    os.makedirs(\"data\")\n",
    "    r = requests.get(start_url)\n",
    "    page = r.text\n",
    "    with open(styles, 'w') as file:\n",
    "        file.write(page)\n",
    "else:\n",
    "    with open(styles, 'r') as file:\n",
    "        page = file.read()\n",
    "        \n"
   ]
  },
  {
   "cell_type": "code",
   "execution_count": 4,
   "metadata": {
    "collapsed": true
   },
   "outputs": [],
   "source": [
    "soup = BeautifulSoup(page,\"lxml\")"
   ]
  },
  {
   "cell_type": "code",
   "execution_count": 5,
   "metadata": {
    "collapsed": true
   },
   "outputs": [],
   "source": [
    "# Type = Ale, Lager, or Hybrid\n",
    "type_tables = soup.find('table').findAll('table')"
   ]
  },
  {
   "cell_type": "code",
   "execution_count": 6,
   "metadata": {
    "collapsed": true
   },
   "outputs": [],
   "source": [
    "style_link_dict = dict()\n",
    "for type_table in type_tables:\n",
    "    beer_type = type_table.find('span').text.split(\" \")[0]\n",
    "    style_link_dict[beer_type] = dict()\n",
    "    for style in type_table.findAll('a'):\n",
    "        style_name = \"\".join(style.text.split())\n",
    "        style_name = re.sub(\"/\", \"\", style_name)\n",
    "        style_name = re.sub(\"&\", \"And\", style_name)\n",
    "        style_name = style_name.split(\"(\")[0]\n",
    "        style_name = re.sub(\"è\", \"e\", style_name)\n",
    "        style_name = re.sub(\"ö\", \"o\", style_name)\n",
    "        style_name = re.sub(\"ä\", \"a\", style_name)\n",
    "        style_link_dict[beer_type][style_name] = base_url+style['href']\n",
    "        \n",
    "        "
   ]
  },
  {
   "cell_type": "code",
   "execution_count": 7,
   "metadata": {},
   "outputs": [
    {
     "data": {
      "text/plain": [
       "{'FruitVegetableBeer': 'https://www.beeradvocate.com/beer/style/9/',\n",
       " 'HerbedSpicedBeer': 'https://www.beeradvocate.com/beer/style/8/',\n",
       " 'SmokedBeer': 'https://www.beeradvocate.com/beer/style/11/'}"
      ]
     },
     "execution_count": 7,
     "metadata": {},
     "output_type": "execute_result"
    }
   ],
   "source": [
    "style_link_dict['Hybrid']"
   ]
  },
  {
   "cell_type": "markdown",
   "metadata": {},
   "source": [
    "## Grab first page of each style"
   ]
  },
  {
   "cell_type": "code",
   "execution_count": 8,
   "metadata": {
    "collapsed": true
   },
   "outputs": [],
   "source": [
    "for beer_type, styles in style_link_dict.items():\n",
    "    \n",
    "    beer_type_dir = os.path.join(os.path.curdir, \"data\", beer_type)\n",
    "    \n",
    "    if not os.path.exists(beer_type_dir):\n",
    "        os.makedirs(beer_type_dir)\n",
    "        \n",
    "    for style, url in styles.items():\n",
    "        style_type_dir = os.path.join(beer_type_dir, style)\n",
    "        if not os.path.exists(style_type_dir):\n",
    "            os.makedirs(style_type_dir)\n",
    "    \n",
    "        style_file = os.path.join(style_type_dir, style+\".html\")\n",
    "        \n",
    "        if not os.path.exists(style_file):\n",
    "            download_parse_ba(style_file, url)"
   ]
  },
  {
   "cell_type": "markdown",
   "metadata": {},
   "source": [
    "## Grab all pages that link to beer reviews based on first page"
   ]
  },
  {
   "cell_type": "code",
   "execution_count": 15,
   "metadata": {},
   "outputs": [
    {
     "name": "stdout",
     "output_type": "stream",
     "text": [
      "122\n",
      "Completed AmericanAmberRedAle\n",
      "27\n",
      "Completed AmericanBarleywine\n",
      "46\n",
      "Completed AmericanBlackAle\n",
      "81\n",
      "Completed AmericanBlondeAle\n",
      "78\n",
      "Completed AmericanBrownAle\n",
      "3\n",
      "Completed AmericanDarkWheatAle\n",
      "171\n",
      "Completed AmericanDoubleImperialIPA\n",
      "87\n",
      "Completed AmericanDoubleImperialStout\n",
      "441\n",
      "Completed AmericanIPA\n",
      "243\n",
      "Completed AmericanPaleAle\n",
      "59\n",
      "Completed AmericanPaleWheatAle\n",
      "118\n",
      "Completed AmericanPorter\n",
      "96\n",
      "Completed AmericanStout\n",
      "19\n",
      "Completed AmericanStrongAle\n",
      "97\n",
      "Completed AmericanWildAle\n",
      "1\n",
      "Completed BlackAndTan\n",
      "7\n",
      "Completed ChileBeer\n",
      "28\n",
      "Completed CreamAle\n",
      "27\n",
      "Completed PumpkinAle\n",
      "29\n",
      "Completed RyeBeer\n",
      "4\n",
      "Completed Wheatwine\n",
      "14\n",
      "Completed BelgianDarkAle\n",
      "24\n",
      "Completed BelgianIPA\n",
      "58\n",
      "Completed BelgianPaleAle\n",
      "25\n",
      "Completed BelgianStrongDarkAle\n",
      "28\n",
      "Completed BelgianStrongPaleAle\n",
      "0\n",
      "Completed BieredeChampagneBiereBrut\n",
      "12\n",
      "Completed BieredeGarde\n",
      "25\n",
      "Completed Dubbel\n",
      "0\n",
      "Completed Faro\n",
      "5\n",
      "Completed FlandersOudBruin\n",
      "6\n",
      "Completed FlandersRedAle\n",
      "2\n",
      "Completed Gueuze\n",
      "8\n",
      "Completed Lambic-Fruit\n",
      "1\n",
      "Completed Lambic-Unblended\n",
      "15\n",
      "Completed Quadrupel\n",
      "171\n",
      "Completed SaisonFarmhouseAle\n",
      "39\n",
      "Completed Tripel\n",
      "65\n",
      "Completed Witbier\n",
      "14\n",
      "Completed BalticPorter\n",
      "3\n",
      "Completed Braggot\n",
      "13\n",
      "Completed EnglishBarleywine\n",
      "46\n",
      "Completed EnglishBitter\n",
      "26\n",
      "Completed EnglishBrownAle\n",
      "14\n",
      "Completed EnglishDarkMildAle\n",
      "29\n",
      "Completed EnglishIndiaPaleAle\n",
      "44\n",
      "Completed EnglishPaleAle\n",
      "6\n",
      "Completed EnglishPaleMildAle\n",
      "27\n",
      "Completed EnglishPorter\n",
      "15\n",
      "Completed EnglishStout\n",
      "7\n",
      "Completed EnglishStrongAle\n",
      "32\n",
      "Completed ExtraSpecialStrongBitter\n",
      "9\n",
      "Completed ForeignExportStout\n",
      "41\n",
      "Completed MilkSweetStout\n",
      "34\n",
      "Completed OatmealStout\n",
      "10\n",
      "Completed OldAle\n",
      "40\n",
      "Completed RussianImperialStout\n",
      "21\n",
      "Completed WinterWarmer\n",
      "1\n",
      "Completed Sahti\n",
      "17\n",
      "Completed Altbier\n",
      "44\n",
      "Completed BerlinerWeissbier\n",
      "18\n",
      "Completed Dunkelweizen\n",
      "28\n",
      "Completed Gose\n",
      "74\n",
      "Completed Hefeweizen\n",
      "36\n",
      "Completed Kolsch\n",
      "3\n",
      "Completed Kristalweizen\n",
      "4\n",
      "Completed Roggenbier\n",
      "10\n",
      "Completed Weizenbock\n",
      "23\n",
      "Completed IrishDryStout\n",
      "25\n",
      "Completed IrishRedAle\n",
      "3\n",
      "Completed Kvass\n",
      "27\n",
      "Completed ScotchAleWeeHeavy\n",
      "20\n",
      "Completed ScottishAle\n",
      "4\n",
      "Completed ScottishGruitAncientHerbedAle\n"
     ]
    }
   ],
   "source": [
    "for beer_type, styles in style_link_dict.items():\n",
    "    \n",
    "    beer_type_dir = os.path.join(os.path.curdir, \"data\", beer_type)\n",
    "    \n",
    "    for style, url in styles.items():\n",
    "        \n",
    "        style_type_dir = os.path.join(beer_type_dir, style)\n",
    "        \n",
    "        first_style_file = os.path.join(style_type_dir, style+\".html\")\n",
    "        \n",
    "        beer_count = find_style_num(first_style_file)\n",
    "        \n",
    "        page_num = beer_count // 50\n",
    "        \n",
    "        print(page_num)\n",
    "        \n",
    "        # Get all pages that link to reviews of beer\n",
    "        \n",
    "        for i in range(1,page_num+1):\n",
    "            \n",
    "            style_file = os.path.join(style_type_dir, style+str(i)+\".html\")\n",
    "            url_params = url + \"?sort=revsD&start=\"+str(i*50)\n",
    "            \n",
    "        \n",
    "            if not os.path.exists(style_file):\n",
    "                download_parse_ba(style_file, url_params)\n",
    "        \n",
    "        print(\"Completed \"+style)\n",
    "        \n",
    "    # Grab just ales\n",
    "    break\n",
    "        "
   ]
  },
  {
   "cell_type": "markdown",
   "metadata": {
    "collapsed": true
   },
   "source": [
    "## Just use ales for now. Lots of beer examples already"
   ]
  },
  {
   "cell_type": "code",
   "execution_count": 35,
   "metadata": {
    "collapsed": true,
    "scrolled": false
   },
   "outputs": [],
   "source": [
    "ale_dict = dict()\n",
    "\n",
    "for style, url in style_link_dict[\"Ale\"].items():\n",
    "    \n",
    "    style_dir = os.path.join(\"data\", \"Ale\", style)\n",
    "    \n",
    "    first_style_file = os.path.join(style_dir, style+\".html\")\n",
    "    \n",
    "    beer_num = find_style_num(first_style_file)\n",
    "    \n",
    "    page_count = beer_num // 50\n",
    "    ale_dict[style] = dict()\n",
    "    \n",
    "    ale_dict[style], stop_reading = parse_beers_links(first_style_file, ale_dict[style])\n",
    "    \n",
    "    if stop_reading:\n",
    "        continue\n",
    "    \n",
    "    for i in range(1,page_count+1):\n",
    "        style_file = os.path.join(style_dir, style+str(i)+\".html\")\n",
    "        \n",
    "        ale_dict[style], stop_reading = parse_beers_links(style_file, ale_dict[style])\n",
    "        \n",
    "        if stop_reading:\n",
    "            break\n"
   ]
  },
  {
   "cell_type": "code",
   "execution_count": 36,
   "metadata": {},
   "outputs": [
    {
     "data": {
      "text/plain": [
       "5190"
      ]
     },
     "execution_count": 36,
     "metadata": {},
     "output_type": "execute_result"
    }
   ],
   "source": [
    "len(ale_dict['AmericanIPA'])"
   ]
  },
  {
   "cell_type": "code",
   "execution_count": 37,
   "metadata": {
    "scrolled": false
   },
   "outputs": [
    {
     "data": {
      "text/plain": [
       "35762"
      ]
     },
     "execution_count": 37,
     "metadata": {},
     "output_type": "execute_result"
    }
   ],
   "source": [
    "num_entries = 0\n",
    "for style, values in ale_dict.items():\n",
    "    num_entries += len(values)\n",
    "    \n",
    "num_entries"
   ]
  },
  {
   "cell_type": "code",
   "execution_count": 75,
   "metadata": {},
   "outputs": [
    {
     "name": "stdout",
     "output_type": "stream",
     "text": [
      "<class 'pandas.core.frame.DataFrame'>\n",
      "Index: 34086 entries, Fat Tire Amber Ale to Grewit Barrel-aged Old World Ale\n",
      "Data columns (total 6 columns):\n",
      "link       34086 non-null object\n",
      "brewery    34086 non-null object\n",
      "abv        34086 non-null object\n",
      "score      34086 non-null object\n",
      "ratings    34086 non-null int64\n",
      "style      34086 non-null object\n",
      "dtypes: int64(1), object(5)\n",
      "memory usage: 1.8+ MB\n"
     ]
    }
   ],
   "source": [
    "ale_df_list = []\n",
    "for style, data in ale_dict.items():\n",
    "    temp_df = pd.DataFrame.from_dict(data, orient='index')\n",
    "    temp_df['style'] = style\n",
    "    ale_df_list.append(temp_df)\n",
    "\n",
    "ale_df = pd.concat(ale_df_list)\n",
    "ale_df.rename(columns={0: 'link', 1: 'brewery', 2: 'abv', 3:'score', 4:'ratings'}, inplace=True)\n",
    "\n",
    "filtered_ale_df = ale_df.loc[ale_df.abv != ' ? ', :] \n",
    "filtered_ale_df2 = filtered_ale_df.loc[filtered_ale_df.score != '-', :]\n",
    "\n",
    "filtered_ale_df2.info()"
   ]
  },
  {
   "cell_type": "code",
   "execution_count": 76,
   "metadata": {},
   "outputs": [],
   "source": [
    "links = filtered_ale_df2.loc[:, 'link']\n"
   ]
  },
  {
   "cell_type": "code",
   "execution_count": 77,
   "metadata": {},
   "outputs": [],
   "source": [
    "data_dir = os.path.join(os.path.curdir, \"data\")\n",
    "\n",
    "filtered_ale_df2.to_csv(os.path.join(data_dir,'initial_data.csv'))\n",
    "links.to_csv(os.path.join(data_dir,'links.csv'))"
   ]
  },
  {
   "cell_type": "code",
   "execution_count": null,
   "metadata": {
    "collapsed": true
   },
   "outputs": [],
   "source": []
  }
 ],
 "metadata": {
  "kernelspec": {
   "display_name": "Python 3",
   "language": "python",
   "name": "python3"
  },
  "language_info": {
   "codemirror_mode": {
    "name": "ipython",
    "version": 3
   },
   "file_extension": ".py",
   "mimetype": "text/x-python",
   "name": "python",
   "nbconvert_exporter": "python",
   "pygments_lexer": "ipython3",
   "version": "3.6.1"
  }
 },
 "nbformat": 4,
 "nbformat_minor": 2
}
